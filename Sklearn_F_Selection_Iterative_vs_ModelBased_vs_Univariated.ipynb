{
  "nbformat": 4,
  "nbformat_minor": 0,
  "metadata": {
    "colab": {
      "name": "Sklearn_F-Selection_Iterative_vs_ModelBased_vs_Univariated.ipynb",
      "provenance": [],
      "collapsed_sections": [],
      "authorship_tag": "ABX9TyNIqtMBqs2v6uqSJTIfWwmA"
    },
    "kernelspec": {
      "name": "python3",
      "display_name": "Python 3"
    }
  },
  "cells": [
    {
      "cell_type": "markdown",
      "metadata": {
        "id": "RX2id3wadoQv"
      },
      "source": [
        "<b>RFE (recursive feature elimination)</b> <br>\r\n",
        "select features by recursively considering smaller and smaller sets of features based ranking in feature weight/importance analysis\r\n",
        "\r\n",
        "1. Train estimator with initial set of features and the importance of each feature.\r\n",
        "2. The least important feature(s) is removed from consideration\r\n",
        "3. Repeat (1) and (2) until desired # features is obtained."
      ]
    },
    {
      "cell_type": "markdown",
      "metadata": {
        "id": "q2b1LTaFmGoY"
      },
      "source": [
        "<b> SelectFromMode</b> <br>\r\n",
        "Like RFE without iteration. Ranking for feature selection is based on mean or median of feature importance estimated by ML model. Consider intereaction among features"
      ]
    },
    {
      "cell_type": "markdown",
      "metadata": {
        "id": "lB-jm70_Svv0"
      },
      "source": [
        "<b>SelectPrecentile</b><br>\r\n",
        "Univariate statistical method. Fastest compared to two above as it doesn't rely on ML model and isn't iterative\r\n",
        "1. Rank p-value of each feature in relation to target variable\r\n",
        "2. Features with high p-value are discarded\r\n",
        "3. With the ranking order, divide data into quantile (data group breakpoint based on frequency distribution)\r\n",
        "\r\n",
        "\\*** Extra \\***\r\n",
        "* Percentile : divide data into 100 equally sized groups \r\n",
        "* For SelectKBest score function\r\n",
        "    * For regression: \r\n",
        "        * f_regression (continuous features in a regression problem), \r\n",
        "        * mutual_info_regression\r\n",
        "    * For classification: \r\n",
        "        * chi2 (categorical features in a classification problem), \r\n",
        "        * f_classif (ANOVA F-test, continuous features in a classification problem), \r\n",
        "        * mutual_info_classif\r\n",
        "    * [ref 1](/https://scikit-learn.org/stable/modules/feature_selection.html#univariate-feature-selection/) \r\n",
        "    * [ref 2](/https://towardsdatascience.com/mistakes-in-applying-univariate-feature-selection-methods-34c43ce8b93d/)  "
      ]
    },
    {
      "cell_type": "markdown",
      "metadata": {
        "id": "qHcCTQnVfQWP"
      },
      "source": [
        "# Import Model"
      ]
    },
    {
      "cell_type": "code",
      "metadata": {
        "id": "SSZsKN15B4Oh"
      },
      "source": [
        "import numpy as np\r\n",
        "import matplotlib.pyplot as plt\r\n",
        "from sklearn.model_selection import train_test_split\r\n",
        "from sklearn.ensemble import RandomForestClassifier\r\n",
        "from sklearn.feature_selection import RFE, SelectFromModel,SelectPercentile\r\n",
        "\r\n",
        "from sklearn.datasets import load_breast_cancer"
      ],
      "execution_count": 15,
      "outputs": []
    },
    {
      "cell_type": "markdown",
      "metadata": {
        "id": "iUO6w2YdffiA"
      },
      "source": [
        "# Load Data & Pre-Process"
      ]
    },
    {
      "cell_type": "code",
      "metadata": {
        "id": "cPzBt_fwfe4O"
      },
      "source": [
        "data_obj = load_breast_cancer()"
      ],
      "execution_count": 2,
      "outputs": []
    },
    {
      "cell_type": "code",
      "metadata": {
        "id": "8FpMM4vzfpBQ"
      },
      "source": [
        "# Add 50 fake fetures with random values\r\n",
        "\r\n",
        "rvg  = np.random.RandomState(42)                        # random value generator\r\n",
        "rv   = rvg.normal( size=(len(data_obj.data),50) )       # 50 new fake features with same amound of rows as raw data\r\n",
        "X = np.hstack([data_obj.data, rv])\r\n",
        "y = data_obj.target"
      ],
      "execution_count": 3,
      "outputs": []
    },
    {
      "cell_type": "code",
      "metadata": {
        "colab": {
          "base_uri": "https://localhost:8080/"
        },
        "id": "Bx4dJvXwf8m8",
        "outputId": "f5ed34dd-2f76-4c61-842e-cf4e77571bc2"
      },
      "source": [
        "print(f'Ori input size : {data_obj.data.shape}')\r\n",
        "print(f'New input size : {X.shape}')"
      ],
      "execution_count": 4,
      "outputs": [
        {
          "output_type": "stream",
          "text": [
            "Ori input size : (569, 30)\n",
            "New input size : (569, 80)\n"
          ],
          "name": "stdout"
        }
      ]
    },
    {
      "cell_type": "code",
      "metadata": {
        "id": "n8ypg0gkh5yH"
      },
      "source": [
        "X_train, X_test, y_train, y_test = train_test_split(X, y, test_size=0.5, random_state=0)"
      ],
      "execution_count": 5,
      "outputs": []
    },
    {
      "cell_type": "markdown",
      "metadata": {
        "id": "RzIahcNzh35M"
      },
      "source": [
        "# Train Model"
      ]
    },
    {
      "cell_type": "code",
      "metadata": {
        "id": "xyDudTWposY1"
      },
      "source": [
        "classifier = RandomForestClassifier(n_estimators=100, random_state=0)"
      ],
      "execution_count": 6,
      "outputs": []
    },
    {
      "cell_type": "markdown",
      "metadata": {
        "id": "-jEFZ8I4oGWl"
      },
      "source": [
        "## RFE"
      ]
    },
    {
      "cell_type": "code",
      "metadata": {
        "colab": {
          "base_uri": "https://localhost:8080/"
        },
        "id": "_x-01cqhiWWx",
        "outputId": "233b5738-28bd-4e12-ffef-aae62733834d"
      },
      "source": [
        "model_rfe = RFE(classifier, n_features_to_select=30)\r\n",
        "model_rfe.fit(X_train, y_train)"
      ],
      "execution_count": 7,
      "outputs": [
        {
          "output_type": "execute_result",
          "data": {
            "text/plain": [
              "RFE(estimator=RandomForestClassifier(bootstrap=True, ccp_alpha=0.0,\n",
              "                                     class_weight=None, criterion='gini',\n",
              "                                     max_depth=None, max_features='auto',\n",
              "                                     max_leaf_nodes=None, max_samples=None,\n",
              "                                     min_impurity_decrease=0.0,\n",
              "                                     min_impurity_split=None,\n",
              "                                     min_samples_leaf=1, min_samples_split=2,\n",
              "                                     min_weight_fraction_leaf=0.0,\n",
              "                                     n_estimators=100, n_jobs=None,\n",
              "                                     oob_score=False, random_state=0, verbose=0,\n",
              "                                     warm_start=False),\n",
              "    n_features_to_select=30, step=1, verbose=0)"
            ]
          },
          "metadata": {
            "tags": []
          },
          "execution_count": 7
        }
      ]
    },
    {
      "cell_type": "code",
      "metadata": {
        "colab": {
          "base_uri": "https://localhost:8080/"
        },
        "id": "-RtlpQ-li3PS",
        "outputId": "d4438bc5-293b-41f4-d07a-857c6060b1ba"
      },
      "source": [
        "print(f'Before feature selection : {X_train.shape}')\r\n",
        "print(f'After  feature selection : {model_rfe.transform(X_train).shape}')"
      ],
      "execution_count": 8,
      "outputs": [
        {
          "output_type": "stream",
          "text": [
            "Before feature selection : (284, 80)\n",
            "After  feature selection : (284, 30)\n"
          ],
          "name": "stdout"
        }
      ]
    },
    {
      "cell_type": "markdown",
      "metadata": {
        "id": "RhqhqvrXoKFw"
      },
      "source": [
        "## SelectFromModel"
      ]
    },
    {
      "cell_type": "code",
      "metadata": {
        "colab": {
          "base_uri": "https://localhost:8080/"
        },
        "id": "Rz0x3aQjobGD",
        "outputId": "635f5e35-a1bb-4cad-c137-9dbee60a01d6"
      },
      "source": [
        "model_sfm = SelectFromModel(classifier, max_features=30, threshold='median')\r\n",
        "model_sfm.fit(X_train, y_train)"
      ],
      "execution_count": 9,
      "outputs": [
        {
          "output_type": "execute_result",
          "data": {
            "text/plain": [
              "SelectFromModel(estimator=RandomForestClassifier(bootstrap=True, ccp_alpha=0.0,\n",
              "                                                 class_weight=None,\n",
              "                                                 criterion='gini',\n",
              "                                                 max_depth=None,\n",
              "                                                 max_features='auto',\n",
              "                                                 max_leaf_nodes=None,\n",
              "                                                 max_samples=None,\n",
              "                                                 min_impurity_decrease=0.0,\n",
              "                                                 min_impurity_split=None,\n",
              "                                                 min_samples_leaf=1,\n",
              "                                                 min_samples_split=2,\n",
              "                                                 min_weight_fraction_leaf=0.0,\n",
              "                                                 n_estimators=100, n_jobs=None,\n",
              "                                                 oob_score=False,\n",
              "                                                 random_state=0, verbose=0,\n",
              "                                                 warm_start=False),\n",
              "                max_features=30, norm_order=1, prefit=False,\n",
              "                threshold='median')"
            ]
          },
          "metadata": {
            "tags": []
          },
          "execution_count": 9
        }
      ]
    },
    {
      "cell_type": "markdown",
      "metadata": {
        "id": "4yiMiz1Iuvwj"
      },
      "source": [
        "## SelectPercentile"
      ]
    },
    {
      "cell_type": "code",
      "metadata": {
        "colab": {
          "base_uri": "https://localhost:8080/"
        },
        "id": "aSNh7nGFy9Bl",
        "outputId": "9cb0ed47-d492-46b8-e4ff-6a3c3075ee48"
      },
      "source": [
        "data_obj.data[0]"
      ],
      "execution_count": 21,
      "outputs": [
        {
          "output_type": "execute_result",
          "data": {
            "text/plain": [
              "array([1.799e+01, 1.038e+01, 1.228e+02, 1.001e+03, 1.184e-01, 2.776e-01,\n",
              "       3.001e-01, 1.471e-01, 2.419e-01, 7.871e-02, 1.095e+00, 9.053e-01,\n",
              "       8.589e+00, 1.534e+02, 6.399e-03, 4.904e-02, 5.373e-02, 1.587e-02,\n",
              "       3.003e-02, 6.193e-03, 2.538e+01, 1.733e+01, 1.846e+02, 2.019e+03,\n",
              "       1.622e-01, 6.656e-01, 7.119e-01, 2.654e-01, 4.601e-01, 1.189e-01])"
            ]
          },
          "metadata": {
            "tags": []
          },
          "execution_count": 21
        }
      ]
    },
    {
      "cell_type": "code",
      "metadata": {
        "colab": {
          "base_uri": "https://localhost:8080/"
        },
        "id": "EaAMTmjnu0Vf",
        "outputId": "1db542df-0458-4cb2-8ff8-82fd705428be"
      },
      "source": [
        "model_sp = SelectPercentile(percentile=37.5)     # default score_func = f_classif; 30/80 * 100% = 37.5 percentile\r\n",
        "model_sp.fit(X_train, y_train)"
      ],
      "execution_count": 22,
      "outputs": [
        {
          "output_type": "execute_result",
          "data": {
            "text/plain": [
              "SelectPercentile(percentile=37.5,\n",
              "                 score_func=<function f_classif at 0x7f37da5f9598>)"
            ]
          },
          "metadata": {
            "tags": []
          },
          "execution_count": 22
        }
      ]
    },
    {
      "cell_type": "markdown",
      "metadata": {
        "id": "2xtrKHBDjZF-"
      },
      "source": [
        "# Evaluation : Feature Importance"
      ]
    },
    {
      "cell_type": "code",
      "metadata": {
        "colab": {
          "base_uri": "https://localhost:8080/"
        },
        "id": "J_4Cf4JPranY",
        "outputId": "eab0d28c-4829-4d5e-b452-3704c674320c"
      },
      "source": [
        "n_feature_ori = data_obj.data.shape[1]\r\n",
        "n_feature_ori"
      ],
      "execution_count": 10,
      "outputs": [
        {
          "output_type": "execute_result",
          "data": {
            "text/plain": [
              "30"
            ]
          },
          "metadata": {
            "tags": []
          },
          "execution_count": 10
        }
      ]
    },
    {
      "cell_type": "markdown",
      "metadata": {
        "id": "Nf6pQ_7ioOXv"
      },
      "source": [
        "## RFE"
      ]
    },
    {
      "cell_type": "code",
      "metadata": {
        "colab": {
          "base_uri": "https://localhost:8080/"
        },
        "id": "E2Z61w4-jxwo",
        "outputId": "347b85c7-cb35-478f-d9dc-e83b41409999"
      },
      "source": [
        "mask_rfe = model_rfe.get_support()                          # mask of the features selected\r\n",
        "\r\n",
        "n_selected_from_ori_rfe = sum(1 for i in mask_rfe[:n_feature_ori] if i == True)\r\n",
        "acc_rfe = n_selected_from_ori_rfe  / n_feature_ori       # Find accuracy of selecting the original features\r\n",
        "print(f'# Feature selected from Ori : {n_selected_from_ori_rfe}')\r\n",
        "print(f'RFE accuracy : {acc_rfe:.0%}')\r\n",
        "\r\n",
        "# Seem not bad"
      ],
      "execution_count": 11,
      "outputs": [
        {
          "output_type": "stream",
          "text": [
            "# Feature selected from Ori : 26\n",
            "RFE accuracy : 87%\n"
          ],
          "name": "stdout"
        }
      ]
    },
    {
      "cell_type": "code",
      "metadata": {
        "colab": {
          "base_uri": "https://localhost:8080/",
          "height": 73
        },
        "id": "B69R3wozjeYP",
        "outputId": "58ee3763-3f9a-4caf-c081-82965e49e1e0"
      },
      "source": [
        "plt.matshow(mask_rfe.reshape(1,-1), cmap='gray_r')\r\n",
        "plt.xlabel('Sample index')\r\n",
        "plt.yticks([])\r\n",
        "plt.show()"
      ],
      "execution_count": 12,
      "outputs": [
        {
          "output_type": "display_data",
          "data": {
            "image/png": "[encoded data removed]",
            "text/plain": [
              "<Figure size 1152x144 with 1 Axes>"
            ]
          },
          "metadata": {
            "tags": [],
            "needs_background": "light"
          }
        }
      ]
    },
    {
      "cell_type": "markdown",
      "metadata": {
        "id": "KZwHJdbJoRZh"
      },
      "source": [
        "## SelectFromModel"
      ]
    },
    {
      "cell_type": "code",
      "metadata": {
        "colab": {
          "base_uri": "https://localhost:8080/"
        },
        "id": "PxK3dUmupIUP",
        "outputId": "a25a05fc-0632-4e0d-a91b-c5aece4c39f0"
      },
      "source": [
        "mask_sfm = model_sfm.get_support()                          # mask of the features selected\r\n",
        "\r\n",
        "n_selected_from_ori_sfm = sum(1 for i in mask_sfm[:n_feature_ori] if i == True)\r\n",
        "acc_sfm = n_selected_from_ori_sfm  / n_feature_ori       # Find accuracy of selecting the original features\r\n",
        "print(f'# Feature selected from Ori : {n_selected_from_ori_sfm}')\r\n",
        "print(f'RFE accuracy : {acc_sfm:.0%}')"
      ],
      "execution_count": 13,
      "outputs": [
        {
          "output_type": "stream",
          "text": [
            "# Feature selected from Ori : 25\n",
            "RFE accuracy : 83%\n"
          ],
          "name": "stdout"
        }
      ]
    },
    {
      "cell_type": "code",
      "metadata": {
        "colab": {
          "base_uri": "https://localhost:8080/",
          "height": 73
        },
        "id": "n9szfxqCpPKj",
        "outputId": "b201cc6a-f42b-4045-92d0-d21349658cf2"
      },
      "source": [
        "plt.matshow(mask_sfm.reshape(1,-1), cmap='gray_r')\r\n",
        "plt.xlabel('Sample index')\r\n",
        "plt.yticks([])\r\n",
        "plt.show()\r\n",
        "\r\n",
        "# accuracy and selection are similar to RFE. \r\n",
        "# SFM is more preferable in this case as non-recursive training is much faster  "
      ],
      "execution_count": 14,
      "outputs": [
        {
          "output_type": "display_data",
          "data": {
            "image/png": "[encoded data removed]",
            "text/plain": [
              "<Figure size 1152x144 with 1 Axes>"
            ]
          },
          "metadata": {
            "tags": [],
            "needs_background": "light"
          }
        }
      ]
    },
    {
      "cell_type": "markdown",
      "metadata": {
        "id": "uCW5NSTa0ICH"
      },
      "source": [
        "## SelectPercentile\r\n"
      ]
    },
    {
      "cell_type": "code",
      "metadata": {
        "colab": {
          "base_uri": "https://localhost:8080/"
        },
        "id": "fS2PozeH0kQc",
        "outputId": "de10f986-b23a-457b-f0ad-d60ba316c101"
      },
      "source": [
        "# total # features selected\r\n",
        "sum(1 for i in mask_sp if i == True)    # equals to n_feature_ori"
      ],
      "execution_count": 24,
      "outputs": [
        {
          "output_type": "execute_result",
          "data": {
            "text/plain": [
              "30"
            ]
          },
          "metadata": {
            "tags": []
          },
          "execution_count": 24
        }
      ]
    },
    {
      "cell_type": "code",
      "metadata": {
        "colab": {
          "base_uri": "https://localhost:8080/"
        },
        "id": "-VNuJFk20Hn_",
        "outputId": "35fb4cda-f834-4bac-ae25-b5a7bce59415"
      },
      "source": [
        "mask_sp = model_sp.get_support()                          # mask of the features selected\r\n",
        "\r\n",
        "n_selected_from_ori_sp = sum(1 for i in mask_sp[:n_feature_ori] if i == True)\r\n",
        "acc_sp = n_selected_from_ori_sp  / n_feature_ori       # Find accuracy of selecting the original features\r\n",
        "print(f'# Feature selected from Ori : {n_selected_from_ori_sp}')\r\n",
        "print(f'RFE accuracy : {acc_sp:.0%}')"
      ],
      "execution_count": 23,
      "outputs": [
        {
          "output_type": "stream",
          "text": [
            "# Feature selected from Ori : 25\n",
            "RFE accuracy : 83%\n"
          ],
          "name": "stdout"
        }
      ]
    },
    {
      "cell_type": "code",
      "metadata": {
        "colab": {
          "base_uri": "https://localhost:8080/",
          "height": 73
        },
        "id": "1GZIwiIF0bzR",
        "outputId": "feed2b18-0570-4227-c73b-8abdb9a65aac"
      },
      "source": [
        "plt.matshow(mask_sp.reshape(1,-1), cmap='gray_r')\r\n",
        "plt.xlabel('Sample index')\r\n",
        "plt.yticks([])\r\n",
        "plt.show()\r\n",
        "\r\n",
        "# accuracy and selection are all very similar from 3 methods applied\r\n",
        "# univariated selection is more preferable in this case as non-recursive training and doesn't require prediction  "
      ],
      "execution_count": 25,
      "outputs": [
        {
          "output_type": "display_data",
          "data": {
            "image/png": "[encoded data removed]",
            "text/plain": [
              "<Figure size 1152x144 with 1 Axes>"
            ]
          },
          "metadata": {
            "tags": [],
            "needs_background": "light"
          }
        }
      ]
    }
  ]
}