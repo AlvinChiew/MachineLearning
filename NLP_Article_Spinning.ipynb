{
  "nbformat": 4,
  "nbformat_minor": 0,
  "metadata": {
    "colab": {
      "name": "NLP_Article_Spinning.ipynb",
      "provenance": [],
      "collapsed_sections": [],
      "authorship_tag": "ABX9TyO8R2FBmxJI+tSiVsTOw5v8"
    },
    "kernelspec": {
      "name": "python3",
      "display_name": "Python 3"
    },
    "language_info": {
      "name": "python"
    }
  },
  "cells": [
    {
      "cell_type": "code",
      "metadata": {
        "id": "zDlF9eAHUQ05"
      },
      "source": [
        "import nltk\n",
        "import random\n",
        "import numpy as np\n",
        "\n",
        "from bs4 import BeautifulSoup"
      ],
      "execution_count": 2,
      "outputs": []
    },
    {
      "cell_type": "code",
      "metadata": {
        "colab": {
          "base_uri": "https://localhost:8080/"
        },
        "id": "OuBHmxQnnDEo",
        "outputId": "647cbaee-140c-43a6-d8ee-d527f1358812"
      },
      "source": [
        "nltk.download('punkt')      # for nltk tokenizer"
      ],
      "execution_count": 8,
      "outputs": [
        {
          "output_type": "stream",
          "text": [
            "[nltk_data] Downloading package punkt to /root/nltk_data...\n",
            "[nltk_data]   Unzipping tokenizers/punkt.zip.\n"
          ],
          "name": "stdout"
        },
        {
          "output_type": "execute_result",
          "data": {
            "text/plain": [
              "True"
            ]
          },
          "metadata": {
            "tags": []
          },
          "execution_count": 8
        }
      ]
    },
    {
      "cell_type": "code",
      "metadata": {
        "colab": {
          "base_uri": "https://localhost:8080/"
        },
        "id": "fTlcCHa6jFAV",
        "outputId": "5c6ac0a3-13fd-4c5e-b1ca-3186c92bd02b"
      },
      "source": [
        "!wget https://raw.githubusercontent.com/lazyprogrammer/machine_learning_examples/master/nlp_class/electronics/positive.review"
      ],
      "execution_count": 3,
      "outputs": [
        {
          "output_type": "stream",
          "text": [
            "--2021-05-14 15:51:10--  https://raw.githubusercontent.com/lazyprogrammer/machine_learning_examples/master/nlp_class/electronics/positive.review\n",
            "Resolving raw.githubusercontent.com (raw.githubusercontent.com)... 185.199.108.133, 185.199.109.133, 185.199.110.133, ...\n",
            "Connecting to raw.githubusercontent.com (raw.githubusercontent.com)|185.199.108.133|:443... connected.\n",
            "HTTP request sent, awaiting response... 200 OK\n",
            "Length: 1105010 (1.1M) [text/plain]\n",
            "Saving to: ‘positive.review’\n",
            "\n",
            "positive.review     100%[===================>]   1.05M  --.-KB/s    in 0.07s   \n",
            "\n",
            "2021-05-14 15:51:11 (14.5 MB/s) - ‘positive.review’ saved [1105010/1105010]\n",
            "\n"
          ],
          "name": "stdout"
        }
      ]
    },
    {
      "cell_type": "code",
      "metadata": {
        "id": "kX42f_ork1uL"
      },
      "source": [
        "with open('positive.review') as f:\n",
        "    positive_reviews = BeautifulSoup(f.read()).findAll('review_text')"
      ],
      "execution_count": 6,
      "outputs": []
    },
    {
      "cell_type": "code",
      "metadata": {
        "id": "CloR9rq-kvkP"
      },
      "source": [
        "# `trigrams` saves the probability of middle word based on neighbouring words, i.e. trigram[('w1', 'w3')] = {w2_1, w2_2, ...}\n",
        "trigrams = {}\n",
        "\n",
        "for review in positive_reviews:\n",
        "    s = review.text.lower()\n",
        "    tokens = nltk.tokenize.word_tokenize(s)\n",
        "    for i in range(len(tokens) - 2):\n",
        "        k = (tokens[i], tokens[i+2])\n",
        "        if k not in trigrams:\n",
        "            trigrams[k] = []\n",
        "        trigrams[k].append(tokens[i+1])\n",
        "\n",
        "# trigram[('w1', 'w3')] = {w2_1 : p2_1, w2_2 : p2_2, ...}"
      ],
      "execution_count": 10,
      "outputs": []
    },
    {
      "cell_type": "code",
      "metadata": {
        "id": "49T1Ou-PnAav"
      },
      "source": [
        "trigrams_prob = {}              # trigram_prob[('w1', 'w3')] = {w2_1 : p2_1, w2_2 : p2_2, ...}\n",
        "for k, words in trigrams.items():\n",
        "    if len(set(words)) > 1:     # ignore trigram with only one possibility\n",
        "        d = {}\n",
        "        n = 0   # total # words in a trigram\n",
        "        for w in words:\n",
        "            if w not in d:\n",
        "                d[w] = 0\n",
        "            d[w] += 1\n",
        "            n += 1\n",
        "        for w, c in d.items():\n",
        "            d[w] = c / n\n",
        "        trigrams_prob[k] = d"
      ],
      "execution_count": 17,
      "outputs": []
    },
    {
      "cell_type": "code",
      "metadata": {
        "id": "Qh-RixAXutVX"
      },
      "source": [
        "def random_sample(d):       # randomly pick a word to change / spin\n",
        "    r = random.random()\n",
        "    cumulative = 0\n",
        "    for w, p in d.items():\n",
        "        cumulative += p \n",
        "        if r < cumulative:\n",
        "            return w"
      ],
      "execution_count": 24,
      "outputs": []
    },
    {
      "cell_type": "code",
      "metadata": {
        "colab": {
          "base_uri": "https://localhost:8080/"
        },
        "id": "CG1OhMTpx7Va",
        "outputId": "b1aeeab0-ceca-474d-b2b1-d8c8c273925e"
      },
      "source": [
        "review = random.choice(positive_reviews)        # randomly choose a review to spin\n",
        "s = review.text.lower()\n",
        "print(\"Ori : \", s.replace(\"\\n\", \" \"))\n",
        "tokens = nltk.tokenize.word_tokenize(s)\n",
        "for i in range(len(tokens) - 2):\n",
        "    if random.random() < 0.2 :   # consider to spin only 20% of the tokens\n",
        "        k = (tokens[i], tokens[i+2])\n",
        "        if k in trigrams_prob:\n",
        "            w = random_sample(trigrams_prob[k])\n",
        "            tokens[i+1] = w\n",
        "spun = \" \".join(tokens)\n",
        "print(\"Spun : \", spun)\n",
        "\n",
        "# word is replaced based on word occurrence in trigram... so sometimes the context might not make sense \n",
        "\n",
        "# Further Effort:\n",
        "    # Explore more grams\n",
        "    # add more data samples, e.g. from wikipedia\n",
        "    # try modeling with past words instead of surrounding ones\n",
        "    # match POS (part of speech) in grams so that it's more grammatically correct \n",
        "    # use word2vec or GloVe from deep learning to replace word closer to the original one in word vectors\n",
        "    # apply RNN perhaps"
      ],
      "execution_count": 27,
      "outputs": [
        {
          "output_type": "stream",
          "text": [
            "Ori :   panasonic makes good quality products and this is no exception.  easy to use, very compact, no interference with cordless usage \n",
            "Spun :  panasonic makes good quality products and this is no exception . easy to move , very compact , no interference with cordless usage\n"
          ],
          "name": "stdout"
        }
      ]
    }
  ]
}