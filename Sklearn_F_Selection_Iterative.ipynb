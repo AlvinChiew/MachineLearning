{
  "nbformat": 4,
  "nbformat_minor": 0,
  "metadata": {
    "colab": {
      "name": "Sklearn_F-Selection_Iterative.ipynb",
      "provenance": [],
      "collapsed_sections": [],
      "authorship_tag": "ABX9TyOdNeLAEVo72U/amk6gGHpm"
    },
    "kernelspec": {
      "name": "python3",
      "display_name": "Python 3"
    }
  },
  "cells": [
    {
      "cell_type": "markdown",
      "metadata": {
        "id": "RX2id3wadoQv"
      },
      "source": [
        "<b>RFE (recursive feature elimination)</b> <br>\r\n",
        "select features by recursively considering smaller and smaller sets of features based ranking in feature weight/importance analysis\r\n",
        "\r\n",
        "1. Train estimator with initial set of features and the importance of each feature.\r\n",
        "2. The least important feature(s) is removed from consideration\r\n",
        "3. Repeat (1) and (2) until desired # features is obtained."
      ]
    },
    {
      "cell_type": "markdown",
      "metadata": {
        "id": "qHcCTQnVfQWP"
      },
      "source": [
        "# Import Model"
      ]
    },
    {
      "cell_type": "code",
      "metadata": {
        "id": "SSZsKN15B4Oh"
      },
      "source": [
        "import numpy as np\r\n",
        "import matplotlib.pyplot as plt\r\n",
        "from sklearn.model_selection import train_test_split\r\n",
        "from sklearn.ensemble import RandomForestClassifier\r\n",
        "from sklearn.feature_selection import RFE\r\n",
        "\r\n",
        "from sklearn.datasets import load_breast_cancer"
      ],
      "execution_count": 1,
      "outputs": []
    },
    {
      "cell_type": "markdown",
      "metadata": {
        "id": "iUO6w2YdffiA"
      },
      "source": [
        "# Load Data & Pre-Process"
      ]
    },
    {
      "cell_type": "code",
      "metadata": {
        "id": "cPzBt_fwfe4O"
      },
      "source": [
        "data_obj = load_breast_cancer()"
      ],
      "execution_count": 2,
      "outputs": []
    },
    {
      "cell_type": "code",
      "metadata": {
        "id": "8FpMM4vzfpBQ"
      },
      "source": [
        "# Add 50 fake fetures with random values\r\n",
        "\r\n",
        "rvg  = np.random.RandomState(42)                        # random value generator\r\n",
        "rv   = rvg.normal( size=(len(data_obj.data),50) )       # 50 new fake features with same amound of rows as raw data\r\n",
        "X = np.hstack([data_obj.data, rv])\r\n",
        "y = data_obj.target"
      ],
      "execution_count": 5,
      "outputs": []
    },
    {
      "cell_type": "code",
      "metadata": {
        "colab": {
          "base_uri": "https://localhost:8080/"
        },
        "id": "Bx4dJvXwf8m8",
        "outputId": "45787588-b76e-4aeb-8fd5-de334ff4fcb5"
      },
      "source": [
        "print(f'Ori input size : {data_obj.data.shape}')\r\n",
        "print(f'New input size : {X.shape}')"
      ],
      "execution_count": 4,
      "outputs": [
        {
          "output_type": "stream",
          "text": [
            "Ori input size : (569, 30)\n",
            "New input size : (569, 80)\n"
          ],
          "name": "stdout"
        }
      ]
    },
    {
      "cell_type": "code",
      "metadata": {
        "id": "n8ypg0gkh5yH"
      },
      "source": [
        "X_train, X_test, y_train, y_test = train_test_split(X, y, test_size=0.5, random_state=0)"
      ],
      "execution_count": 8,
      "outputs": []
    },
    {
      "cell_type": "markdown",
      "metadata": {
        "id": "RzIahcNzh35M"
      },
      "source": [
        "# Train Model"
      ]
    },
    {
      "cell_type": "code",
      "metadata": {
        "colab": {
          "base_uri": "https://localhost:8080/"
        },
        "id": "_x-01cqhiWWx",
        "outputId": "e115c5a0-72d4-4672-b822-c406a80eccf9"
      },
      "source": [
        "model = RFE(RandomForestClassifier(n_estimators=100, random_state=0), n_features_to_select=30)\r\n",
        "model.fit(X_train, y_train)"
      ],
      "execution_count": 9,
      "outputs": [
        {
          "output_type": "execute_result",
          "data": {
            "text/plain": [
              "RFE(estimator=RandomForestClassifier(bootstrap=True, ccp_alpha=0.0,\n",
              "                                     class_weight=None, criterion='gini',\n",
              "                                     max_depth=None, max_features='auto',\n",
              "                                     max_leaf_nodes=None, max_samples=None,\n",
              "                                     min_impurity_decrease=0.0,\n",
              "                                     min_impurity_split=None,\n",
              "                                     min_samples_leaf=1, min_samples_split=2,\n",
              "                                     min_weight_fraction_leaf=0.0,\n",
              "                                     n_estimators=100, n_jobs=None,\n",
              "                                     oob_score=False, random_state=0, verbose=0,\n",
              "                                     warm_start=False),\n",
              "    n_features_to_select=30, step=1, verbose=0)"
            ]
          },
          "metadata": {
            "tags": []
          },
          "execution_count": 9
        }
      ]
    },
    {
      "cell_type": "code",
      "metadata": {
        "colab": {
          "base_uri": "https://localhost:8080/"
        },
        "id": "-RtlpQ-li3PS",
        "outputId": "1bc9c6b7-0396-4ac9-8ddb-6ba79519701c"
      },
      "source": [
        "print(f'Before feature selection : {X_train.shape}')\r\n",
        "print(f'After  feature selection : {model.transform(X_train).shape}')"
      ],
      "execution_count": 11,
      "outputs": [
        {
          "output_type": "stream",
          "text": [
            "Before feature selection : (284, 80)\n",
            "After  feature selection : (284, 30)\n"
          ],
          "name": "stdout"
        }
      ]
    },
    {
      "cell_type": "markdown",
      "metadata": {
        "id": "2xtrKHBDjZF-"
      },
      "source": [
        "# Evaluation : Feature Importance"
      ]
    },
    {
      "cell_type": "code",
      "metadata": {
        "colab": {
          "base_uri": "https://localhost:8080/"
        },
        "id": "E2Z61w4-jxwo",
        "outputId": "1e4cd2a3-e8a8-448a-b6e9-a659e7071694"
      },
      "source": [
        "mask = model.get_support()      # mask of the features selected\r\n",
        "print(mask)"
      ],
      "execution_count": 20,
      "outputs": [
        {
          "output_type": "stream",
          "text": [
            "[ True  True  True  True  True  True  True  True  True False  True False\n",
            "  True  True False  True  True  True False  True  True  True  True  True\n",
            "  True  True  True  True  True  True False  True False False False False\n",
            " False False False False  True False False False False False False False\n",
            " False False False False False False  True False False False False False\n",
            " False False False False False  True False False False False False False\n",
            " False False False False False False False False]\n"
          ],
          "name": "stdout"
        }
      ]
    },
    {
      "cell_type": "code",
      "metadata": {
        "colab": {
          "base_uri": "https://localhost:8080/",
          "height": 73
        },
        "id": "B69R3wozjeYP",
        "outputId": "f401bfd2-132e-4562-b4ba-c3892d93a8b4"
      },
      "source": [
        "plt.matshow(mask.reshape(1,-1), cmap='gray_r')\r\n",
        "plt.xlabel('Sample index')\r\n",
        "plt.yticks([])\r\n",
        "plt.show()\r\n",
        "\r\n",
        "# Seem like RFE only missed 5 features out of 30 actual features. 83% accuracy. "
      ],
      "execution_count": 12,
      "outputs": [
        {
          "output_type": "display_data",
          "data": {
            "image/png": "[encoded data removed]",
            "text/plain": [
              "<Figure size 1152x144 with 1 Axes>"
            ]
          },
          "metadata": {
            "tags": [],
            "needs_background": "light"
          }
        }
      ]
    }
  ]
}