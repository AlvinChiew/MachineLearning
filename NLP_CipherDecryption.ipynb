{
  "nbformat": 4,
  "nbformat_minor": 0,
  "metadata": {
    "colab": {
      "name": "NLP_CipherDecryption.ipynb",
      "provenance": [],
      "collapsed_sections": [],
      "authorship_tag": "ABX9TyPi41+7OMm6mlX4BQiAWyD8"
    },
    "kernelspec": {
      "name": "python3",
      "display_name": "Python 3"
    },
    "language_info": {
      "name": "python"
    }
  },
  "cells": [
    {
      "cell_type": "markdown",
      "metadata": {
        "id": "f441BJGfZCrq"
      },
      "source": [
        "# Import Modules"
      ]
    },
    {
      "cell_type": "code",
      "metadata": {
        "id": "yFo5w2IMjo17"
      },
      "source": [
        "import numpy as np\n",
        "import matplotlib.pyplot as plt\n",
        "\n",
        "import string   # generate alphabet\n",
        "import random   # randomly create substitution cipher\n",
        "import re       # for string operations\n",
        "import requests\n",
        "import os\n",
        "import textwrap"
      ],
      "execution_count": 1,
      "outputs": []
    },
    {
      "cell_type": "markdown",
      "metadata": {
        "id": "7vjNYVElZFQs"
      },
      "source": [
        "# Generate Cipher"
      ]
    },
    {
      "cell_type": "code",
      "metadata": {
        "id": "x6O7x7XuXSJN"
      },
      "source": [
        "alphabet_key = list(string.ascii_lowercase)\n",
        "alphabet_val = list(string.ascii_lowercase)\n",
        "random.shuffle(alphabet_val)\n",
        "true_map = {}\n",
        "\n",
        "# generate the answer\n",
        "for k, v in zip(alphabet_key, alphabet_val):\n",
        "    true_map[k] = v"
      ],
      "execution_count": 2,
      "outputs": []
    },
    {
      "cell_type": "markdown",
      "metadata": {
        "id": "eCMDeVlTZQ-t"
      },
      "source": [
        "# Helper Functions"
      ]
    },
    {
      "cell_type": "code",
      "metadata": {
        "id": "syGxbLgOYod6"
      },
      "source": [
        "# Markov Assumption: the probability of char's occurence is based on the previous letter\n",
        "# Not the best but simple to kickstart\n",
        "\n",
        "# Initialize Matrix for storing bigram (letters after first letter) probabilities in Markov model (probability of each letter corresponds to each letter)\n",
        "M_bi = np.ones((26,26))\n",
        "\n",
        "# Initialize Matrix for storing unigram (first letter of each word) probabilities in Markov model\n",
        "M_uni = np.zeros(26)\n",
        "\n",
        "# remove non-alpha characters\n",
        "regex = re.compile('[^a-zA-Z]')\n",
        "\n",
        "# update occurance of bigram\n",
        "def update_matrix(char1, char2=None):    \n",
        "    # normalize to start from 0 by offsetting to ord('a')\n",
        "    i = ord(char1) - ord('a')\n",
        "    if char2 is not None:\n",
        "        j = ord(char2) - ord('a')\n",
        "        M_bi[i,j] += 1\n",
        "    else:\n",
        "        M_uni[i] += 1 \n",
        "\n",
        "# get log probability of a word\n",
        "# log probability avoid probabilities getting rounded to 0 when multiplications happen\n",
        "def get_word_prob(word):\n",
        "    i = ord(word[0]) - ord('a')\n",
        "    log_prob = np.log(M_uni[i])\n",
        "    for char in word[1:]:\n",
        "        j = ord(char) - ord('a')\n",
        "        log_prob += np.log(M_bi[i,j])\n",
        "        i = j\n",
        "    return log_prob\n",
        "\n",
        "def get_sentence_prob(words):\n",
        "    if type(words) == str:\n",
        "        words = words.split()\n",
        "    log_prob = 0\n",
        "    for word in words:\n",
        "        log_prob += get_word_prob(word)\n",
        "    return log_prob"
      ],
      "execution_count": 3,
      "outputs": []
    },
    {
      "cell_type": "code",
      "metadata": {
        "id": "IzWabm53AYLn"
      },
      "source": [
        "def encode_message(msg):\n",
        "    msg = msg.lower()\n",
        "    msg = regex.sub(' ', msg)\n",
        "\n",
        "    encoded_msg = []\n",
        "    for char in msg:\n",
        "        if char in true_map:\n",
        "            encoded_char = true_map[char]\n",
        "        else:\n",
        "            encoded_char = char     # whitespaces\n",
        "        encoded_msg.append(encoded_char)\n",
        "\n",
        "    return ''.join(encoded_msg)"
      ],
      "execution_count": 4,
      "outputs": []
    },
    {
      "cell_type": "code",
      "metadata": {
        "id": "OzSJ9XhNC8tu"
      },
      "source": [
        "def decode_msg(msg, decode_map):\n",
        "    decoded_msg = []\n",
        "    for char in msg:\n",
        "        if char in decode_map:\n",
        "            decoded_char = decode_map[char]\n",
        "        else:\n",
        "            decoded_char = char     # whitespaces\n",
        "        decoded_msg.append(decoded_char)\n",
        "\n",
        "    return ''.join(decoded_msg)"
      ],
      "execution_count": 5,
      "outputs": []
    },
    {
      "cell_type": "code",
      "metadata": {
        "id": "c-rr_qy9EgQj"
      },
      "source": [
        "def evolve_cipher(cipher_pool, n_child):\n",
        "    evolved_cipher = []\n",
        "\n",
        "    for cipher in cipher_pool:\n",
        "        for _ in range(n_child):\n",
        "\n",
        "            #initialize child cipher\n",
        "            child = cipher.copy()\n",
        "            \n",
        "            # intitalize swapping for two letters in cipher map\n",
        "            idx_1 = np.random.randint(len(child))\n",
        "            idx_2 = np.random.randint(len(child))\n",
        "\n",
        "            # swap\n",
        "            tmp = child[idx_1]\n",
        "            child[idx_1] = child[idx_2]\n",
        "            child[idx_2] = tmp\n",
        "            evolved_cipher.append(child)\n",
        "\n",
        "    return evolved_cipher + cipher_pool"
      ],
      "execution_count": 6,
      "outputs": []
    },
    {
      "cell_type": "markdown",
      "metadata": {
        "id": "UxGwlftB48GS"
      },
      "source": [
        "# Load Data"
      ]
    },
    {
      "cell_type": "markdown",
      "metadata": {
        "id": "U0yCqcjwA0Zw"
      },
      "source": [
        "Train Set"
      ]
    },
    {
      "cell_type": "code",
      "metadata": {
        "id": "wUB8XCy2c1IE"
      },
      "source": [
        "if not os.path.exists('moby_dick.txt'):\n",
        "    r = requests.get('https://lazyprogrammer.me/course_files/moby_dick.txt')\n",
        "    with open('moby_dick.txt','w') as f:\n",
        "        f.write(r.content.decode())     # decode byte array to string & save it into file"
      ],
      "execution_count": 7,
      "outputs": []
    },
    {
      "cell_type": "markdown",
      "metadata": {
        "id": "x9HyBN94A7AV"
      },
      "source": [
        "Test Set"
      ]
    },
    {
      "cell_type": "code",
      "metadata": {
        "id": "IqsU5LzO9Ito"
      },
      "source": [
        "# Extracted from http://www.gutenberg.org/files/1661/1661-h/1661-h.htm\n",
        "ori_message = 'To Sherlock Holmes she is always the woman. I have seldom heard him mention her under any other name. In his eyes she eclipses and predominates the whole of her sex. It was not that he felt any emotion akin to love for Irene Adler. All emotions, and that one particularly, were abhorrent to his cold, precise but admirably balanced mind. He was, I take it, the most perfect reasoning and observing machine that the world has seen, but as a lover he would have placed himself in a false position. He never spoke of the softer passions, save with a gibe and a sneer. They were admirable things for the observer—excellent for drawing the veil from men’s motives and actions. But for the trained reasoner to admit such intrusions into his own delicate and finely adjusted temperament was to introduce a distracting factor which might throw a doubt upon all his mental results. Grit in a sensitive instrument, or a crack in one of his own high-power lenses, would not be more disturbing than a strong emotion in a nature such as his. And yet there was but one woman to him, and that woman was the late Irene Adler, of dubious and questionable memory.'\n",
        "\n",
        "# '''I then lounged down the street and found,\n",
        "# as I expected, that there was a mews in a lane which runs down\n",
        "# by one wall of the garden. I lent the ostlers a hand in rubbing\n",
        "# down their horses, and received in exchange twopence, a glass of\n",
        "# half-and-half, two fills of shag tobacco, and as much information\n",
        "# as I could desire about Miss Adler, to say nothing of half a dozen\n",
        "# other people in the neighbourhood in whom I was not in the least\n",
        "# interested, but whose biographies I was compelled to listen to.\n",
        "# '''\n",
        "\n",
        "# Away they went, and I was just wondering whether I should not do well\n",
        "# to follow them when up the lane came a neat little landau, the coachman\n",
        "# with his coat only half-buttoned, and his tie under his ear, while all\n",
        "# the tags of his harness were sticking out of the buckles. It hadn't\n",
        "# pulled up before she shot out of the hall door and into it. I only\n",
        "# caught a glimpse of her at the moment, but she was a lovely woman, with\n",
        "# a face that a man might die for.\n",
        "\n",
        "# My cabby drove fast. I don't think I ever drove faster, but the others\n",
        "# were there before us. The cab and the landau with their steaming horses\n",
        "# were in front of the door when I arrived. I paid the man and hurried\n",
        "# into the church. There was not a soul there save the two whom I had\n",
        "# followed and a surpliced clergyman, who seemed to be expostulating with\n",
        "# them. They were all three standing in a knot in front of the altar. I\n",
        "# lounged up the side aisle like any other idler who has dropped into a\n",
        "# church. Suddenly, to my surprise, the three at the altar faced round to\n",
        "# me, and Godfrey Norton came running as hard as he could towards me."
      ],
      "execution_count": 8,
      "outputs": []
    },
    {
      "cell_type": "code",
      "metadata": {
        "id": "rGi2YFQpCwAZ"
      },
      "source": [
        "encoded_msg = encode_message(ori_message)"
      ],
      "execution_count": 9,
      "outputs": []
    },
    {
      "cell_type": "markdown",
      "metadata": {
        "id": "qXrXIEza8nBk"
      },
      "source": [
        "# Train Model"
      ]
    },
    {
      "cell_type": "code",
      "metadata": {
        "id": "_lHyMBPM5epU"
      },
      "source": [
        "# Train decryption model using paragraphs in Moby Dick \n",
        "# with open('moby_dick.txt','r') as f:\n",
        "for line in open('moby_dick.txt'):      \n",
        "    line = line.rstrip()        # strip out white spaces  \n",
        "    # blank line is ignored\n",
        "    if line:\n",
        "        line = regex.sub(' ', line)     # replace non-alpha characters with space\n",
        "        tokens = line.lower().split()   # split line into word tokens & convert capital letters to small letter\n",
        "        for token in tokens:\n",
        "            # convert alpha chars to digit representations\n",
        "            char_0 = token[0]\n",
        "            update_matrix(char_0)\n",
        "            for char_1 in token[1:]:\n",
        "                update_matrix(char_0, char_1)\n",
        "                char_0 = char_1\n",
        "                \n",
        "# Normalization\n",
        "M_bi /= M_bi.sum(axis=1, keepdims=True)\n",
        "M_uni /= M_uni.sum()"
      ],
      "execution_count": 10,
      "outputs": []
    },
    {
      "cell_type": "markdown",
      "metadata": {
        "id": "YX6sj4CnD6oC"
      },
      "source": [
        "# Decryption"
      ]
    },
    {
      "cell_type": "code",
      "metadata": {
        "id": "yOuASATHD80Y"
      },
      "source": [
        "# Cipher Initialization\n",
        "cipher_pool = []\n",
        "for _ in range(20):\n",
        "    cipher = list(string.ascii_lowercase)\n",
        "    random.shuffle(cipher)\n",
        "    cipher_pool.append(cipher)"
      ],
      "execution_count": 11,
      "outputs": []
    },
    {
      "cell_type": "code",
      "metadata": {
        "colab": {
          "base_uri": "https://localhost:8080/"
        },
        "id": "mElOIBEvEamv",
        "outputId": "8aba1e2c-add7-45b7-ec3f-a6c90fa46879"
      },
      "source": [
        "NUM_ITERS = 601\n",
        "scores = np.zeros(NUM_ITERS)\n",
        "best_cipher = None\n",
        "best_map = None\n",
        "best_score = float('-inf')\n",
        "\n",
        "for i in range(NUM_ITERS):\n",
        "    if i > 0:\n",
        "         cipher_pool = evolve_cipher(cipher_pool, 3)\n",
        "\n",
        "    cipher_score = {}\n",
        "    for cipher in cipher_pool:\n",
        "        current_map = {}\n",
        "        for k, v in zip(alphabet_key, cipher):\n",
        "            current_map[k] = v\n",
        "\n",
        "        decoded_msg = decode_msg(encoded_msg, current_map)\n",
        "        score = get_sentence_prob(decoded_msg)\n",
        "\n",
        "        cipher_score[''.join(cipher)] = score\n",
        "\n",
        "        if score > best_score:\n",
        "            best_cipher = cipher\n",
        "            best_map = current_map\n",
        "            best_score = score\n",
        "\n",
        "    # store average score of cipher child in for this generation\n",
        "    scores[i] = np.mean(list(cipher_score.values()))\n",
        "\n",
        "    # sort cipher by score and keep only top 5\n",
        "    sorted_score = sorted(cipher_score.items(), key=lambda x: x[1], reverse=True)\n",
        "    cipher_pool = [list(k) for k, v in sorted_score[:5]]\n",
        "\n",
        "    # print progression checkpoint for every 200 iterations\n",
        "    if i % 200 == 0:\n",
        "        print(f\"iter: {i}, score: {scores[i]}, best score: {best_score}\")"
      ],
      "execution_count": 12,
      "outputs": [
        {
          "output_type": "stream",
          "text": [
            "iter: 0, score: -4996.986102907476, best score: -4383.217822546761\n",
            "iter: 200, score: -2565.145438855536, best score: -2249.2885341810484\n",
            "iter: 400, score: -2444.7907027026417, best score: -2169.4222231132926\n",
            "iter: 600, score: -2362.3794003352714, best score: -2169.4222231132926\n"
          ],
          "name": "stdout"
        }
      ]
    },
    {
      "cell_type": "markdown",
      "metadata": {
        "id": "96rDa2tbMq4J"
      },
      "source": [
        "# Evaluation"
      ]
    },
    {
      "cell_type": "code",
      "metadata": {
        "id": "s3vHLP4HL4VY"
      },
      "source": [
        "decoded_msg = decode_msg(encoded_msg, best_map)"
      ],
      "execution_count": 13,
      "outputs": []
    },
    {
      "cell_type": "code",
      "metadata": {
        "colab": {
          "base_uri": "https://localhost:8080/"
        },
        "id": "2dHhDeBuOkAm",
        "outputId": "b964a918-1f1b-45b2-f48a-fd144c41934f"
      },
      "source": [
        "# Log Likelihood comparison\n",
        "ll_ori = get_sentence_prob(regex.sub(' ', ori_message.lower()))\n",
        "ll_decoded = get_sentence_prob(decoded_msg)\n",
        "ll_err_perc = abs((ll_decoded - ll_ori) / ll_ori) * 100\n",
        "print(\"LL - decoded  message:\", ll_decoded)\n",
        "print(\"LL - original message:\", ll_ori)\n",
        "print(f\"Error Perc : {ll_err_perc:.2f}%\")"
      ],
      "execution_count": 14,
      "outputs": [
        {
          "output_type": "stream",
          "text": [
            "LL - decoded  message: -2169.4222231132926\n",
            "LL - original message: -2169.4222231132926\n",
            "Error Perc : 0.00%\n"
          ],
          "name": "stdout"
        }
      ]
    },
    {
      "cell_type": "code",
      "metadata": {
        "colab": {
          "base_uri": "https://localhost:8080/",
          "height": 108
        },
        "id": "2lUmneRANC-e",
        "outputId": "33b66fb6-df33-4f01-c7b4-156bc933a889"
      },
      "source": [
        "ori_message"
      ],
      "execution_count": 15,
      "outputs": [
        {
          "output_type": "execute_result",
          "data": {
            "application/vnd.google.colaboratory.intrinsic+json": {
              "type": "string"
            },
            "text/plain": [
              "'To Sherlock Holmes she is always the woman. I have seldom heard him mention her under any other name. In his eyes she eclipses and predominates the whole of her sex. It was not that he felt any emotion akin to love for Irene Adler. All emotions, and that one particularly, were abhorrent to his cold, precise but admirably balanced mind. He was, I take it, the most perfect reasoning and observing machine that the world has seen, but as a lover he would have placed himself in a false position. He never spoke of the softer passions, save with a gibe and a sneer. They were admirable things for the observer—excellent for drawing the veil from men’s motives and actions. But for the trained reasoner to admit such intrusions into his own delicate and finely adjusted temperament was to introduce a distracting factor which might throw a doubt upon all his mental results. Grit in a sensitive instrument, or a crack in one of his own high-power lenses, would not be more disturbing than a strong emotion in a nature such as his. And yet there was but one woman to him, and that woman was the late Irene Adler, of dubious and questionable memory.'"
            ]
          },
          "metadata": {
            "tags": []
          },
          "execution_count": 15
        }
      ]
    },
    {
      "cell_type": "code",
      "metadata": {
        "colab": {
          "base_uri": "https://localhost:8080/",
          "height": 108
        },
        "id": "n85205tsNA-D",
        "outputId": "484ee892-22fd-45e1-c9cf-786e880e2177"
      },
      "source": [
        "encoded_msg"
      ],
      "execution_count": 16,
      "outputs": [
        {
          "output_type": "execute_result",
          "data": {
            "application/vnd.google.colaboratory.intrinsic+json": {
              "type": "string"
            },
            "text/plain": [
              "'dk xloaekmj lkeuox xlo wx sefsqx dlo fkush  w lsto xoeyku losay lwu uohdwkh loa rhyoa shq kdloa hsuo  wh lwx oqox xlo omewgxox shy gaoykuwhsdox dlo flkeo kc loa xov  wd fsx hkd dlsd lo coed shq oukdwkh sjwh dk ekto cka waoho syeoa  see oukdwkhx  shy dlsd kho gsadwmresaeq  foao splkaaohd dk lwx mkey  gaomwxo prd syuwaspeq pseshmoy uwhy  lo fsx  w dsjo wd  dlo ukxd goacomd aosxkhwhb shy kpxoatwhb usmlwho dlsd dlo fkaey lsx xooh  prd sx s ektoa lo fkrey lsto gesmoy lwuxoec wh s csexo gkxwdwkh  lo hotoa xgkjo kc dlo xkcdoa gsxxwkhx  xsto fwdl s bwpo shy s xhooa  dloq foao syuwaspeo dlwhbx cka dlo kpxoatoa ovmoeeohd cka yasfwhb dlo towe caku uoh x ukdwtox shy smdwkhx  prd cka dlo daswhoy aosxkhoa dk syuwd xrml whdarxwkhx whdk lwx kfh yoewmsdo shy cwhoeq syirxdoy dougoasuohd fsx dk whdakyrmo s ywxdasmdwhb csmdka flwml uwbld dlakf s ykrpd rgkh see lwx uohdse aoxredx  bawd wh s xohxwdwto whxdaruohd  ka s masmj wh kho kc lwx kfh lwbl gkfoa eohxox  fkrey hkd po ukao ywxdrapwhb dlsh s xdakhb oukdwkh wh s hsdrao xrml sx lwx  shy qod dloao fsx prd kho fkush dk lwu  shy dlsd fkush fsx dlo esdo waoho syeoa  kc yrpwkrx shy nroxdwkhspeo uoukaq '"
            ]
          },
          "metadata": {
            "tags": []
          },
          "execution_count": 16
        }
      ]
    },
    {
      "cell_type": "code",
      "metadata": {
        "colab": {
          "base_uri": "https://localhost:8080/",
          "height": 108
        },
        "id": "l1Cez8zKMwU2",
        "outputId": "e2fe6e2e-64ec-4dab-ab2a-e61b77da930c"
      },
      "source": [
        "decoded_msg"
      ],
      "execution_count": 17,
      "outputs": [
        {
          "output_type": "execute_result",
          "data": {
            "application/vnd.google.colaboratory.intrinsic+json": {
              "type": "string"
            },
            "text/plain": [
              "'to sherlock holmes she is always the woman  i have seldom heard him mention her under any other name  in his eyes she eclipses and predominates the whole of her sex  it was not that he felt any emotion akin to love for irene adler  all emotions  and that one particularly  were abhorrent to his cold  precise but admirably balanced mind  he was  i take it  the most perfect reasoning and observing machine that the world has seen  but as a lover he would have placed himself in a false position  he never spoke of the softer passions  save with a gibe and a sneer  they were admirable things for the observer excellent for drawing the veil from men s motives and actions  but for the trained reasoner to admit such intrusions into his own delicate and finely adjusted temperament was to introduce a distracting factor which might throw a doubt upon all his mental results  grit in a sensitive instrument  or a crack in one of his own high power lenses  would not be more disturbing than a strong emotion in a nature such as his  and yet there was but one woman to him  and that woman was the late irene adler  of dubious and questionable memory '"
            ]
          },
          "metadata": {
            "tags": []
          },
          "execution_count": 17
        }
      ]
    },
    {
      "cell_type": "code",
      "metadata": {
        "id": "TY5hcyrl7s8F"
      },
      "source": [
        "# Check incorrect letter(s)?\n",
        "for ori, v in true_map.items():\n",
        "  pred = best_map[v]\n",
        "  if ori != pred:\n",
        "    print(f\"ori: {ori}, pred: {pred}\")"
      ],
      "execution_count": 20,
      "outputs": []
    },
    {
      "cell_type": "code",
      "metadata": {
        "colab": {
          "base_uri": "https://localhost:8080/",
          "height": 265
        },
        "id": "JN9zSydg6QJ-",
        "outputId": "fa618288-bede-4767-cf19-611bc07c7c84"
      },
      "source": [
        "plt.plot(scores);\n",
        "plt.show();"
      ],
      "execution_count": 18,
      "outputs": [
        {
          "output_type": "display_data",
          "data": {
            "image/png": "[encoded data removed]",
            "text/plain": [
              "<Figure size 432x288 with 1 Axes>"
            ]
          },
          "metadata": {
            "tags": [],
            "needs_background": "light"
          }
        }
      ]
    }
  ]
}