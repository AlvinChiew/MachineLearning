{
  "nbformat": 4,
  "nbformat_minor": 0,
  "metadata": {
    "colab": {
      "name": "RecommendationSystem.ipynb",
      "provenance": [],
      "collapsed_sections": [
        "DHKFhxUsA3yD"
      ],
      "toc_visible": true
    },
    "kernelspec": {
      "name": "python3",
      "display_name": "Python 3"
    },
    "language_info": {
      "name": "python"
    },
    "accelerator": "GPU"
  },
  "cells": [
    {
      "cell_type": "markdown",
      "metadata": {
        "id": "XWsvaGaXBLqR"
      },
      "source": [
        "# Modules"
      ]
    },
    {
      "cell_type": "code",
      "metadata": {
        "id": "ZFJOtM3mA5C-"
      },
      "source": [
        "import os\n",
        "import numpy as np\n",
        "import pandas as pd\n",
        "from ast import literal_eval\n",
        "from google.colab import drive"
      ],
      "execution_count": 1,
      "outputs": []
    },
    {
      "cell_type": "markdown",
      "metadata": {
        "id": "IcbJePUdBPJa"
      },
      "source": [
        "# Dataset"
      ]
    },
    {
      "cell_type": "code",
      "metadata": {
        "colab": {
          "base_uri": "https://localhost:8080/"
        },
        "id": "Aq8nw8wDQjqd",
        "outputId": "afcad47e-14ac-4a7d-8962-9b322ef5586b"
      },
      "source": [
        "drive.mount('gdrive')"
      ],
      "execution_count": 5,
      "outputs": [
        {
          "output_type": "stream",
          "text": [
            "Mounted at gdrive\n"
          ],
          "name": "stdout"
        }
      ]
    },
    {
      "cell_type": "code",
      "metadata": {
        "id": "p-gUZGBZQ9v0",
        "colab": {
          "base_uri": "https://localhost:8080/"
        },
        "outputId": "9885202f-ca16-48f4-a6c4-4e28af438b15"
      },
      "source": [
        "%%shell\n",
        "\n",
        "pip install -q kaggle\n",
        "mkdir -p ~/.kaggle\n",
        "cp gdrive/MyDrive/'Colab Notebooks'/kaggle.json ~/.kaggle/\n",
        "chmod 600 /root/.kaggle/kaggle.json\n",
        "\n",
        "ls ~/.kaggle"
      ],
      "execution_count": 6,
      "outputs": [
        {
          "output_type": "stream",
          "text": [
            "kaggle.json\n"
          ],
          "name": "stdout"
        },
        {
          "output_type": "execute_result",
          "data": {
            "text/plain": [
              ""
            ]
          },
          "metadata": {
            "tags": []
          },
          "execution_count": 6
        }
      ]
    },
    {
      "cell_type": "code",
      "metadata": {
        "colab": {
          "base_uri": "https://localhost:8080/"
        },
        "id": "a7exitK-SWQH",
        "outputId": "f0e3ac01-b00d-4947-cccb-884d07131bd6"
      },
      "source": [
        "%%shell\n",
        "kaggle datasets download -d rounakbanik/the-movies-dataset\n",
        "unzip the-movies-dataset.zip\n",
        "ls"
      ],
      "execution_count": 7,
      "outputs": [
        {
          "output_type": "stream",
          "text": [
            "Downloading the-movies-dataset.zip to /content\n",
            " 99% 226M/228M [00:02<00:00, 59.6MB/s]\n",
            "100% 228M/228M [00:03<00:00, 79.0MB/s]\n",
            "Archive:  the-movies-dataset.zip\n",
            "  inflating: credits.csv             \n",
            "  inflating: keywords.csv            \n",
            "  inflating: links.csv               \n",
            "  inflating: links_small.csv         \n",
            "  inflating: movies_metadata.csv     \n",
            "  inflating: ratings.csv             \n",
            "  inflating: ratings_small.csv       \n",
            "credits.csv   links.csv\t\t   ratings.csv\t      the-movies-dataset.zip\n",
            "gdrive\t      links_small.csv\t   ratings_small.csv\n",
            "keywords.csv  movies_metadata.csv  sample_data\n"
          ],
          "name": "stdout"
        },
        {
          "output_type": "execute_result",
          "data": {
            "text/plain": [
              ""
            ]
          },
          "metadata": {
            "tags": []
          },
          "execution_count": 7
        }
      ]
    },
    {
      "cell_type": "code",
      "metadata": {
        "id": "T0HR0iRVBQzB"
      },
      "source": [
        "# !wget --no-check-certificate smaller dataset : https://files.grouplens.org/datasets/movielens/ml-latest-small.zip\n",
        "# !unzip ml-latest-small.zip\n",
        "\n",
        "# !wget --no-check-certificate https://files.grouplens.org/datasets/movielens/ml-latest.zip\n",
        "# !unzip ml-latest.zip"
      ],
      "execution_count": 8,
      "outputs": []
    },
    {
      "cell_type": "code",
      "metadata": {
        "colab": {
          "base_uri": "https://localhost:8080/",
          "height": 451
        },
        "id": "EMckWMzEBlS3",
        "outputId": "f9110584-fc89-4a2e-f4b0-99e8af0cfd8f"
      },
      "source": [
        "data = pd.read_csv('movies_metadata.csv', dtype={'popularity' : 'string'})\n",
        "print(data.shape)\n",
        "data.sample(3)"
      ],
      "execution_count": 2,
      "outputs": [
        {
          "output_type": "stream",
          "text": [
            "(45466, 24)\n"
          ],
          "name": "stdout"
        },
        {
          "output_type": "execute_result",
          "data": {
            "text/html": [
              "<div>\n",
              "<style scoped>\n",
              "    .dataframe tbody tr th:only-of-type {\n",
              "        vertical-align: middle;\n",
              "    }\n",
              "\n",
              "    .dataframe tbody tr th {\n",
              "        vertical-align: top;\n",
              "    }\n",
              "\n",
              "    .dataframe thead th {\n",
              "        text-align: right;\n",
              "    }\n",
              "</style>\n",
              "<table border=\"1\" class=\"dataframe\">\n",
              "  <thead>\n",
              "    <tr style=\"text-align: right;\">\n",
              "      <th></th>\n",
              "      <th>adult</th>\n",
              "      <th>belongs_to_collection</th>\n",
              "      <th>budget</th>\n",
              "      <th>genres</th>\n",
              "      <th>homepage</th>\n",
              "      <th>id</th>\n",
              "      <th>imdb_id</th>\n",
              "      <th>original_language</th>\n",
              "      <th>original_title</th>\n",
              "      <th>overview</th>\n",
              "      <th>popularity</th>\n",
              "      <th>poster_path</th>\n",
              "      <th>production_companies</th>\n",
              "      <th>production_countries</th>\n",
              "      <th>release_date</th>\n",
              "      <th>revenue</th>\n",
              "      <th>runtime</th>\n",
              "      <th>spoken_languages</th>\n",
              "      <th>status</th>\n",
              "      <th>tagline</th>\n",
              "      <th>title</th>\n",
              "      <th>video</th>\n",
              "      <th>vote_average</th>\n",
              "      <th>vote_count</th>\n",
              "    </tr>\n",
              "  </thead>\n",
              "  <tbody>\n",
              "    <tr>\n",
              "      <th>11782</th>\n",
              "      <td>False</td>\n",
              "      <td>NaN</td>\n",
              "      <td>0</td>\n",
              "      <td>[{'id': 35, 'name': 'Comedy'}, {'id': 10751, '...</td>\n",
              "      <td>NaN</td>\n",
              "      <td>13352</td>\n",
              "      <td>tt0329737</td>\n",
              "      <td>en</td>\n",
              "      <td>It's a Very Merry Muppet Christmas Movie</td>\n",
              "      <td>The owner of a bank (Miss Bitterman) wants to ...</td>\n",
              "      <td>1.991539</td>\n",
              "      <td>/yUWnJnoVKJgD8rLfQizwQXCtd2A.jpg</td>\n",
              "      <td>[{'name': 'National Broadcasting Company', 'id...</td>\n",
              "      <td>[{'iso_3166_1': 'US', 'name': 'United States o...</td>\n",
              "      <td>2002-11-29</td>\n",
              "      <td>0.0</td>\n",
              "      <td>100.0</td>\n",
              "      <td>[{'iso_639_1': 'en', 'name': 'English'}]</td>\n",
              "      <td>Released</td>\n",
              "      <td>NaN</td>\n",
              "      <td>It's a Very Merry Muppet Christmas Movie</td>\n",
              "      <td>False</td>\n",
              "      <td>5.4</td>\n",
              "      <td>15.0</td>\n",
              "    </tr>\n",
              "    <tr>\n",
              "      <th>28508</th>\n",
              "      <td>False</td>\n",
              "      <td>{'id': 479319, 'name': 'George Carlin Comedy C...</td>\n",
              "      <td>0</td>\n",
              "      <td>[{'id': 35, 'name': 'Comedy'}]</td>\n",
              "      <td>http://www.georgecarlin.com</td>\n",
              "      <td>13643</td>\n",
              "      <td>tt0963207</td>\n",
              "      <td>en</td>\n",
              "      <td>George Carlin: It's Bad for Ya!</td>\n",
              "      <td>It's Bad For Ya, Carlin's Emmy nominated 14th ...</td>\n",
              "      <td>2.31176</td>\n",
              "      <td>/qRKCt403iRtcIgBDzWCiPln4fUz.jpg</td>\n",
              "      <td>[{'name': 'Cable Stuff Productions', 'id': 2789}]</td>\n",
              "      <td>[{'iso_3166_1': 'US', 'name': 'United States o...</td>\n",
              "      <td>2008-03-01</td>\n",
              "      <td>0.0</td>\n",
              "      <td>70.0</td>\n",
              "      <td>[{'iso_639_1': 'en', 'name': 'English'}, {'iso...</td>\n",
              "      <td>Released</td>\n",
              "      <td>Let's cut the crap.</td>\n",
              "      <td>George Carlin: It's Bad for Ya!</td>\n",
              "      <td>False</td>\n",
              "      <td>8.1</td>\n",
              "      <td>33.0</td>\n",
              "    </tr>\n",
              "    <tr>\n",
              "      <th>21743</th>\n",
              "      <td>False</td>\n",
              "      <td>NaN</td>\n",
              "      <td>30000000</td>\n",
              "      <td>[{'id': 80, 'name': 'Crime'}, {'id': 53, 'name...</td>\n",
              "      <td>http://www.runnerrunnermovie.com/</td>\n",
              "      <td>146238</td>\n",
              "      <td>tt2364841</td>\n",
              "      <td>en</td>\n",
              "      <td>Runner Runner</td>\n",
              "      <td>When a poor college student who cracks an onli...</td>\n",
              "      <td>8.864607</td>\n",
              "      <td>/vh3pmcySB3sWkNwLRIyrbTugSrD.jpg</td>\n",
              "      <td>[{'name': 'Double Feature Films', 'id': 215}, ...</td>\n",
              "      <td>[{'iso_3166_1': 'US', 'name': 'United States o...</td>\n",
              "      <td>2013-09-24</td>\n",
              "      <td>62616646.0</td>\n",
              "      <td>91.0</td>\n",
              "      <td>[{'iso_639_1': 'en', 'name': 'English'}]</td>\n",
              "      <td>Released</td>\n",
              "      <td>The house always wins.</td>\n",
              "      <td>Runner Runner</td>\n",
              "      <td>False</td>\n",
              "      <td>5.5</td>\n",
              "      <td>547.0</td>\n",
              "    </tr>\n",
              "  </tbody>\n",
              "</table>\n",
              "</div>"
            ],
            "text/plain": [
              "       adult  ... vote_count\n",
              "11782  False  ...       15.0\n",
              "28508  False  ...       33.0\n",
              "21743  False  ...      547.0\n",
              "\n",
              "[3 rows x 24 columns]"
            ]
          },
          "metadata": {
            "tags": []
          },
          "execution_count": 2
        }
      ]
    },
    {
      "cell_type": "markdown",
      "metadata": {
        "id": "7vWSKhpqbmES"
      },
      "source": [
        "# Methodology\n",
        "ref: [link](https://www.datacamp.com/community/tutorials/recommender-systems-python)"
      ]
    },
    {
      "cell_type": "markdown",
      "metadata": {
        "id": "DHKFhxUsA3yD"
      },
      "source": [
        "## Simple RS"
      ]
    },
    {
      "cell_type": "markdown",
      "metadata": {
        "id": "TLw-qeDiUyds"
      },
      "source": [
        "$\n",
        "Weighted Rating, WR = (\\frac{v}{v+m} \\cdot R) + (\\frac{m}{v+m} \\cdot C)\n",
        "$\n",
        "<br><br>\n",
        "v : votes\n",
        "\n",
        "m : minimum votes required\n",
        "\n",
        "R : average rating\n",
        "\n",
        "C : average vote"
      ]
    },
    {
      "cell_type": "code",
      "metadata": {
        "colab": {
          "base_uri": "https://localhost:8080/"
        },
        "id": "KcxoghCCUyUI",
        "outputId": "9b0000c0-416d-4184-8507-d714bec41595"
      },
      "source": [
        "# vote describe quality of the movie\n",
        "\n",
        "C = data['vote_average'].mean()\n",
        "C\n",
        "# average vote is 5.6 out of 10"
      ],
      "execution_count": 7,
      "outputs": [
        {
          "output_type": "execute_result",
          "data": {
            "text/plain": [
              "5.618207215133889"
            ]
          },
          "metadata": {
            "tags": []
          },
          "execution_count": 7
        }
      ]
    },
    {
      "cell_type": "code",
      "metadata": {
        "colab": {
          "base_uri": "https://localhost:8080/"
        },
        "id": "Ay8E7JL2Ux0g",
        "outputId": "040e5a3f-72cc-4db0-c2e4-d61fc2dfa375"
      },
      "source": [
        "# vote count describes movie popularity\n",
        "\n",
        "m = data['vote_count'].quantile(0.90)\n",
        "m\n",
        "# 90% of movies has 160 vote counts"
      ],
      "execution_count": 8,
      "outputs": [
        {
          "output_type": "execute_result",
          "data": {
            "text/plain": [
              "160.0"
            ]
          },
          "metadata": {
            "tags": []
          },
          "execution_count": 8
        }
      ]
    },
    {
      "cell_type": "code",
      "metadata": {
        "id": "o_zBtdCYA7Uf",
        "colab": {
          "base_uri": "https://localhost:8080/"
        },
        "outputId": "ceab2578-dd8d-492a-b2ab-66672768559f"
      },
      "source": [
        "data_filtered = data.loc[data['vote_count'] >= m]\n",
        "data_filtered.shape\n",
        "# sized down data size to almost 10%"
      ],
      "execution_count": 9,
      "outputs": [
        {
          "output_type": "execute_result",
          "data": {
            "text/plain": [
              "(4555, 24)"
            ]
          },
          "metadata": {
            "tags": []
          },
          "execution_count": 9
        }
      ]
    },
    {
      "cell_type": "code",
      "metadata": {
        "id": "bSwZPvO6OKIF"
      },
      "source": [
        "def weighted_rating(data, m=m, C=C):\n",
        "    v = data['vote_count']\n",
        "    R = data['vote_average']\n",
        "    # Calculation based on the IMDB formula\n",
        "    return (v/(v+m) * R) + (m/(m+v) * C)"
      ],
      "execution_count": 10,
      "outputs": []
    },
    {
      "cell_type": "code",
      "metadata": {
        "colab": {
          "base_uri": "https://localhost:8080/"
        },
        "id": "VHq_sDZEZ4-K",
        "outputId": "8802a945-089f-413b-a809-be1bdba8d863"
      },
      "source": [
        "data_filtered['vote_weighted'] = data_filtered.apply(weighted_rating, axis=1)"
      ],
      "execution_count": 11,
      "outputs": [
        {
          "output_type": "stream",
          "text": [
            "/usr/local/lib/python3.7/dist-packages/ipykernel_launcher.py:1: SettingWithCopyWarning: \n",
            "A value is trying to be set on a copy of a slice from a DataFrame.\n",
            "Try using .loc[row_indexer,col_indexer] = value instead\n",
            "\n",
            "See the caveats in the documentation: https://pandas.pydata.org/pandas-docs/stable/user_guide/indexing.html#returning-a-view-versus-a-copy\n",
            "  \"\"\"Entry point for launching an IPython kernel.\n"
          ],
          "name": "stderr"
        }
      ]
    },
    {
      "cell_type": "code",
      "metadata": {
        "colab": {
          "base_uri": "https://localhost:8080/",
          "height": 408
        },
        "id": "_MoXfbkaaiJz",
        "outputId": "0cafd6fd-17dc-445a-a9de-071a6536fedd"
      },
      "source": [
        "data_filtered.sort_values('vote_weighted', ascending=False)[['title','vote_count','vote_average','vote_weighted']]\n",
        "\n",
        "# System recommended movies based on top average vote with vote counts more than 90th percentile "
      ],
      "execution_count": 12,
      "outputs": [
        {
          "output_type": "execute_result",
          "data": {
            "text/html": [
              "<div>\n",
              "<style scoped>\n",
              "    .dataframe tbody tr th:only-of-type {\n",
              "        vertical-align: middle;\n",
              "    }\n",
              "\n",
              "    .dataframe tbody tr th {\n",
              "        vertical-align: top;\n",
              "    }\n",
              "\n",
              "    .dataframe thead th {\n",
              "        text-align: right;\n",
              "    }\n",
              "</style>\n",
              "<table border=\"1\" class=\"dataframe\">\n",
              "  <thead>\n",
              "    <tr style=\"text-align: right;\">\n",
              "      <th></th>\n",
              "      <th>title</th>\n",
              "      <th>vote_count</th>\n",
              "      <th>vote_average</th>\n",
              "      <th>vote_weighted</th>\n",
              "    </tr>\n",
              "  </thead>\n",
              "  <tbody>\n",
              "    <tr>\n",
              "      <th>314</th>\n",
              "      <td>The Shawshank Redemption</td>\n",
              "      <td>8358.0</td>\n",
              "      <td>8.5</td>\n",
              "      <td>8.445869</td>\n",
              "    </tr>\n",
              "    <tr>\n",
              "      <th>834</th>\n",
              "      <td>The Godfather</td>\n",
              "      <td>6024.0</td>\n",
              "      <td>8.5</td>\n",
              "      <td>8.425439</td>\n",
              "    </tr>\n",
              "    <tr>\n",
              "      <th>10309</th>\n",
              "      <td>Dilwale Dulhania Le Jayenge</td>\n",
              "      <td>661.0</td>\n",
              "      <td>9.1</td>\n",
              "      <td>8.421453</td>\n",
              "    </tr>\n",
              "    <tr>\n",
              "      <th>12481</th>\n",
              "      <td>The Dark Knight</td>\n",
              "      <td>12269.0</td>\n",
              "      <td>8.3</td>\n",
              "      <td>8.265477</td>\n",
              "    </tr>\n",
              "    <tr>\n",
              "      <th>2843</th>\n",
              "      <td>Fight Club</td>\n",
              "      <td>9678.0</td>\n",
              "      <td>8.3</td>\n",
              "      <td>8.256385</td>\n",
              "    </tr>\n",
              "    <tr>\n",
              "      <th>...</th>\n",
              "      <td>...</td>\n",
              "      <td>...</td>\n",
              "      <td>...</td>\n",
              "      <td>...</td>\n",
              "    </tr>\n",
              "    <tr>\n",
              "      <th>9710</th>\n",
              "      <td>Son of the Mask</td>\n",
              "      <td>346.0</td>\n",
              "      <td>3.6</td>\n",
              "      <td>4.238168</td>\n",
              "    </tr>\n",
              "    <tr>\n",
              "      <th>12911</th>\n",
              "      <td>Disaster Movie</td>\n",
              "      <td>250.0</td>\n",
              "      <td>3.1</td>\n",
              "      <td>4.082715</td>\n",
              "    </tr>\n",
              "    <tr>\n",
              "      <th>3471</th>\n",
              "      <td>Battlefield Earth</td>\n",
              "      <td>259.0</td>\n",
              "      <td>3.0</td>\n",
              "      <td>3.999793</td>\n",
              "    </tr>\n",
              "    <tr>\n",
              "      <th>11557</th>\n",
              "      <td>Epic Movie</td>\n",
              "      <td>334.0</td>\n",
              "      <td>3.2</td>\n",
              "      <td>3.983225</td>\n",
              "    </tr>\n",
              "    <tr>\n",
              "      <th>13566</th>\n",
              "      <td>Dragonball Evolution</td>\n",
              "      <td>475.0</td>\n",
              "      <td>2.9</td>\n",
              "      <td>3.584903</td>\n",
              "    </tr>\n",
              "  </tbody>\n",
              "</table>\n",
              "<p>4555 rows × 4 columns</p>\n",
              "</div>"
            ],
            "text/plain": [
              "                             title  vote_count  vote_average  vote_weighted\n",
              "314       The Shawshank Redemption      8358.0           8.5       8.445869\n",
              "834                  The Godfather      6024.0           8.5       8.425439\n",
              "10309  Dilwale Dulhania Le Jayenge       661.0           9.1       8.421453\n",
              "12481              The Dark Knight     12269.0           8.3       8.265477\n",
              "2843                    Fight Club      9678.0           8.3       8.256385\n",
              "...                            ...         ...           ...            ...\n",
              "9710               Son of the Mask       346.0           3.6       4.238168\n",
              "12911               Disaster Movie       250.0           3.1       4.082715\n",
              "3471             Battlefield Earth       259.0           3.0       3.999793\n",
              "11557                   Epic Movie       334.0           3.2       3.983225\n",
              "13566         Dragonball Evolution       475.0           2.9       3.584903\n",
              "\n",
              "[4555 rows x 4 columns]"
            ]
          },
          "metadata": {
            "tags": []
          },
          "execution_count": 12
        }
      ]
    },
    {
      "cell_type": "markdown",
      "metadata": {
        "id": "hUm0_8-Ubinv"
      },
      "source": [
        "## Content-Based"
      ]
    },
    {
      "cell_type": "code",
      "metadata": {
        "id": "YUUCtP70WeEH"
      },
      "source": [
        "def get_recommendations(title, cos_sim_mtx, movie_title_idx, data):\n",
        "    idx = movie_title_idx[title]\n",
        "    sim_scores = list(enumerate(cos_sim_mtx[idx]))\n",
        "    sim_scores = sorted(sim_scores, key=lambda x: x[1], reverse=True)\n",
        "    sim_scores = sim_scores[1:11]       # get top 10 similarity score ([0] is itself)\n",
        "    movie_idx = [i[0] for i in sim_scores]\n",
        "    return data['title'].iloc[movie_idx]"
      ],
      "execution_count": 19,
      "outputs": []
    },
    {
      "cell_type": "markdown",
      "metadata": {
        "id": "oA5arn0NDq9W"
      },
      "source": [
        "### Univariate - [Overview]"
      ]
    },
    {
      "cell_type": "code",
      "metadata": {
        "id": "z3IFExkHfR6M"
      },
      "source": [
        "from sklearn.feature_extraction.text import TfidfVectorizer\n",
        "from sklearn.metrics.pairwise import linear_kernel"
      ],
      "execution_count": 11,
      "outputs": []
    },
    {
      "cell_type": "code",
      "metadata": {
        "colab": {
          "base_uri": "https://localhost:8080/"
        },
        "id": "_I88Y9gvbw1x",
        "outputId": "62dc6aa0-d6ba-43a1-a22d-d01dead98461"
      },
      "source": [
        "N = int(0.6 * len(data))    # limit sample size to avoid notebook from crashing due to ram limit\n",
        "data_cb = data.head(N).copy()\n",
        "data_cb['overview'] = data_cb['overview'].fillna('')\n",
        "data_cb.shape"
      ],
      "execution_count": 12,
      "outputs": [
        {
          "output_type": "execute_result",
          "data": {
            "text/plain": [
              "(27279, 24)"
            ]
          },
          "metadata": {
            "tags": []
          },
          "execution_count": 12
        }
      ]
    },
    {
      "cell_type": "code",
      "metadata": {
        "colab": {
          "base_uri": "https://localhost:8080/"
        },
        "id": "w2kpY_3df1Yj",
        "outputId": "07d39297-3e47-4547-b6e3-4d82b4e34fc0"
      },
      "source": [
        "# Apply TF-IDF to extract word importance in each `overview`\n",
        "\n",
        "tfidf = TfidfVectorizer(stop_words='english', max_features=25000, lowercase=True, token_pattern=u'(?ui)\\\\b\\\\w*[a-z]+\\\\w*\\\\b')       # ignore pure numeric tokens  # token_pattern=r'(?u)\\b[A-Za-z]+\\b'\n",
        "# remove English stop words, e.g. the, a, that...\n",
        "# limit vocabs to 30,000 to avoid notebook from crashing due to ram limit\n",
        "\n",
        "tfidf_mtx = tfidf.fit_transform(data_cb['overview'])\n",
        "print(tfidf_mtx.shape)\n",
        "print(tfidf.get_feature_names()[:15])"
      ],
      "execution_count": 13,
      "outputs": [
        {
          "output_type": "stream",
          "text": [
            "(27279, 25000)\n",
            "['10th', '11th', '12th', '13th', '14th', '15th', '1600s', '16mm', '16th', '1700s', '17th', '1800s', '1830s', '1840s', '1850s']\n"
          ],
          "name": "stdout"
        }
      ]
    },
    {
      "cell_type": "code",
      "metadata": {
        "colab": {
          "base_uri": "https://localhost:8080/"
        },
        "id": "0eOMOeRXhtbk",
        "outputId": "4eb52c37-8310-469e-c3ac-5db9958d958f"
      },
      "source": [
        "# Apply cosine similarity to recommend movie with similar overview\n",
        "\n",
        "cos_sim_mtx = linear_kernel(tfidf_mtx, tfidf_mtx)\n",
        "cos_sim_mtx.shape"
      ],
      "execution_count": 14,
      "outputs": [
        {
          "output_type": "execute_result",
          "data": {
            "text/plain": [
              "(27279, 27279)"
            ]
          },
          "metadata": {
            "tags": []
          },
          "execution_count": 14
        }
      ]
    },
    {
      "cell_type": "code",
      "metadata": {
        "colab": {
          "base_uri": "https://localhost:8080/"
        },
        "id": "azPRGL-ujog-",
        "outputId": "97422398-acf8-4f54-adec-a61ba926cdc3"
      },
      "source": [
        "# reverse index & title\n",
        "\n",
        "movie_idx = pd.Series(data_cb.index, index=data_cb['title']).drop_duplicates()\n",
        "movie_idx"
      ],
      "execution_count": 15,
      "outputs": [
        {
          "output_type": "execute_result",
          "data": {
            "text/plain": [
              "title\n",
              "Toy Story                                                0\n",
              "Jumanji                                                  1\n",
              "Grumpier Old Men                                         2\n",
              "Waiting to Exhale                                        3\n",
              "Father of the Bride Part II                              4\n",
              "                                                     ...  \n",
              "The Great Rupert                                     27274\n",
              "The Legend of Hell's Gate: An American Conspiracy    27275\n",
              "Multiple Sarcasms                                    27276\n",
              "A Woman Called Golda                                 27277\n",
              "These Wilder Years                                   27278\n",
              "Length: 27279, dtype: int64"
            ]
          },
          "metadata": {
            "tags": []
          },
          "execution_count": 15
        }
      ]
    },
    {
      "cell_type": "code",
      "metadata": {
        "colab": {
          "base_uri": "https://localhost:8080/"
        },
        "id": "ccjVvrHW5ouP",
        "outputId": "2b26c829-b1d8-4a3d-ff3a-860d778480bd"
      },
      "source": [
        "get_recommendations('Batman Begins', cos_sim_mtx, movie_idx, data_cb)\n",
        "\n",
        "# System recommended movies related to Batman based on movie overview."
      ],
      "execution_count": 16,
      "outputs": [
        {
          "output_type": "execute_result",
          "data": {
            "text/plain": [
              "21194    Batman Unmasked: The Psychology of the Dark Kn...\n",
              "19792              Batman: The Dark Knight Returns, Part 1\n",
              "18035                                     Batman: Year One\n",
              "15511                           Batman: Under the Red Hood\n",
              "585                                                 Batman\n",
              "150                                         Batman Forever\n",
              "3095                          Batman: Mask of the Phantasm\n",
              "1328                                        Batman Returns\n",
              "21400                      Batman: Mystery of the Batwoman\n",
              "18252                                The Dark Knight Rises\n",
              "Name: title, dtype: object"
            ]
          },
          "metadata": {
            "tags": []
          },
          "execution_count": 16
        }
      ]
    },
    {
      "cell_type": "markdown",
      "metadata": {
        "id": "686UKqefCvAU"
      },
      "source": [
        "### Multivariate - [cast, crew, director, genres]"
      ]
    },
    {
      "cell_type": "code",
      "metadata": {
        "id": "SB6wLJLsTuHt"
      },
      "source": [
        "from sklearn.feature_extraction.text import CountVectorizer\n",
        "from sklearn.metrics.pairwise import cosine_similarity"
      ],
      "execution_count": 3,
      "outputs": []
    },
    {
      "cell_type": "code",
      "metadata": {
        "colab": {
          "base_uri": "https://localhost:8080/"
        },
        "id": "Jdcm6Yu7O68G",
        "outputId": "78c62a83-d020-4f07-b3cc-e78bd68d3dae"
      },
      "source": [
        "N = int(0.55 * len(data))    # limit sample size to avoid notebook from crashing due to ram limit\n",
        "data_cb = data.head(N).copy()\n",
        "data_cb['overview'] = data_cb['overview'].fillna('')\n",
        "data_cb.shape"
      ],
      "execution_count": 4,
      "outputs": [
        {
          "output_type": "execute_result",
          "data": {
            "text/plain": [
              "(25006, 24)"
            ]
          },
          "metadata": {
            "tags": []
          },
          "execution_count": 4
        }
      ]
    },
    {
      "cell_type": "code",
      "metadata": {
        "id": "77jxygAIEEcN"
      },
      "source": [
        "credits = pd.read_csv('credits.csv')\n",
        "keywords = pd.read_csv('keywords.csv')"
      ],
      "execution_count": 5,
      "outputs": []
    },
    {
      "cell_type": "code",
      "metadata": {
        "id": "jDBqjq7IEX7t"
      },
      "source": [
        "# remove non-numeric value in ['id']\n",
        "mask = pd.to_numeric(data_cb['id'], errors='coerce').isna() \n",
        "data_cb = data_cb.loc[~mask]\n",
        "\n",
        "keywords['id'] = keywords['id'].astype('int')\n",
        "credits['id'] = credits['id'].astype('int')\n",
        "data_cb['id'] = data_cb['id'].astype('int')\n",
        "\n",
        "data_cb = data_cb.merge(credits, on='id')\n",
        "data_cb = data_cb.merge(keywords, on='id')"
      ],
      "execution_count": 6,
      "outputs": []
    },
    {
      "cell_type": "code",
      "metadata": {
        "id": "y3aT8dS9H8hi"
      },
      "source": [
        "# find director name from [crew]\n",
        "def get_director(x):\n",
        "    for i in x:\n",
        "        if i['job'] == 'Director':\n",
        "            return i['name']\n",
        "    return np.nan\n",
        "\n",
        "# extract only top 3 elements from list in features\n",
        "def get_top_3(x):\n",
        "    if isinstance(x, list):\n",
        "        names = [i['name'] for i in x]\n",
        "\n",
        "        if len(names) > 3:\n",
        "            names = names[:3]\n",
        "        return names\n",
        "\n",
        "    return []   # return empty list if list is not found\n",
        "\n",
        "# strip spaces and \n",
        "def preprocess_data(x):\n",
        "    if isinstance(x, list):\n",
        "        return [str.lower(i.replace(\" \", \"\")) for i in x]\n",
        "    elif isinstance(x, str):\n",
        "        return str.lower(x.replace(\" \", \"\"))\n",
        "\n",
        "    return ''\n",
        "\n",
        "def create_criteria_col(x):\n",
        "    return ' '.join(x['keywords']) + ' ' + ' '.join(x['cast']) + ' ' + x['director'] + ' ' + ' '.join(x['genres'])"
      ],
      "execution_count": 7,
      "outputs": []
    },
    {
      "cell_type": "code",
      "metadata": {
        "id": "BmCBrTSbLtLj"
      },
      "source": [
        "features = ['cast', 'crew', 'keywords', 'genres']\n",
        "\n",
        "for feature in features:\n",
        "    data_cb[feature] = data_cb[feature].apply(literal_eval)     # convert raw string to dictionary format\n",
        "\n",
        "    if feature == 'crew':\n",
        "        data_cb['director'] = data_cb['crew'].apply(get_director)\n",
        "    else:\n",
        "        data_cb[feature] = data_cb[feature].apply(get_top_3)"
      ],
      "execution_count": 8,
      "outputs": []
    },
    {
      "cell_type": "code",
      "metadata": {
        "id": "f7DXh_lrQATY"
      },
      "source": [
        "features = ['cast', 'director', 'keywords', 'genres']\n",
        "\n",
        "for feature in features:\n",
        "    data_cb[feature] = data_cb[feature].apply(preprocess_data)"
      ],
      "execution_count": 9,
      "outputs": []
    },
    {
      "cell_type": "code",
      "metadata": {
        "colab": {
          "base_uri": "https://localhost:8080/"
        },
        "id": "LEJgzK-WO5xd",
        "outputId": "591c9cfa-c5e4-4fd6-c2d7-b6d17e9e3f9c"
      },
      "source": [
        "data_cb['criteria'] = data_cb.apply(create_criteria_col, axis=1)\n",
        "data_cb['criteria']"
      ],
      "execution_count": 10,
      "outputs": [
        {
          "output_type": "execute_result",
          "data": {
            "text/plain": [
              "0        jealousy toy boy tomhanks timallen donrickles ...\n",
              "1        boardgame disappearance basedonchildren'sbook ...\n",
              "2        fishing bestfriend duringcreditsstinger walter...\n",
              "3        basedonnovel interracialrelationship singlemot...\n",
              "4        baby midlifecrisis confidence stevemartin dian...\n",
              "                               ...                        \n",
              "25152    adolescence jessejames reileymcclendon stephen...\n",
              "25153    suicide stv independentfilm winonaryder wesben...\n",
              "25154     stephanbender maximillianroeg thomasjayryan j...\n",
              "25155    netherlands kidnapping delinquent theomaassen ...\n",
              "25156    recycling communityservice salesman thurelindh...\n",
              "Name: criteria, Length: 25157, dtype: object"
            ]
          },
          "metadata": {
            "tags": []
          },
          "execution_count": 10
        }
      ]
    },
    {
      "cell_type": "code",
      "metadata": {
        "colab": {
          "base_uri": "https://localhost:8080/"
        },
        "id": "t2G1aMjqUA2M",
        "outputId": "9f40aa53-0242-4252-dfb7-18c77296d4c1"
      },
      "source": [
        "cv = CountVectorizer(stop_words='english', max_features=35000, lowercase=True, token_pattern=u'(?ui)\\\\b\\\\w*[a-z]+\\\\w*\\\\b' )\n",
        "cv_matrix = cv.fit_transform(data_cb['criteria'])\n",
        "cv_matrix.shape     # (# sample, # vocabs)"
      ],
      "execution_count": 11,
      "outputs": [
        {
          "output_type": "execute_result",
          "data": {
            "text/plain": [
              "(25157, 35000)"
            ]
          },
          "metadata": {
            "tags": []
          },
          "execution_count": 11
        }
      ]
    },
    {
      "cell_type": "code",
      "metadata": {
        "colab": {
          "base_uri": "https://localhost:8080/"
        },
        "id": "yBPVQoS0UXbb",
        "outputId": "8fe841ee-50ef-48ab-c412-97b849fe0b86"
      },
      "source": [
        "cos_sim_mtx = cosine_similarity(cv_matrix, cv_matrix)\n",
        "cos_sim_mtx.shape"
      ],
      "execution_count": 12,
      "outputs": [
        {
          "output_type": "execute_result",
          "data": {
            "text/plain": [
              "(25157, 25157)"
            ]
          },
          "metadata": {
            "tags": []
          },
          "execution_count": 12
        }
      ]
    },
    {
      "cell_type": "code",
      "metadata": {
        "id": "grCLJLoBVS0j"
      },
      "source": [
        "# prep `for get_recommendation`\n",
        "movie_idx = pd.Series(data_cb.index, index=data_cb['title']).drop_duplicates()      "
      ],
      "execution_count": 13,
      "outputs": []
    },
    {
      "cell_type": "code",
      "metadata": {
        "colab": {
          "base_uri": "https://localhost:8080/"
        },
        "id": "wtOHIJDuW5y8",
        "outputId": "8bcac4b9-4c86-4e31-db01-6585e01ece65"
      },
      "source": [
        "get_recommendations('The Godfather', cos_sim_mtx, movie_idx, data_cb)"
      ],
      "execution_count": 28,
      "outputs": [
        {
          "output_type": "execute_result",
          "data": {
            "text/plain": [
              "1930            The Godfather: Part III\n",
              "1195             The Godfather: Part II\n",
              "15571                   The Rain People\n",
              "18894                         Last Exit\n",
              "7981     The Night of the Following Day\n",
              "18215                 The Son of No One\n",
              "23494               Hide in Plain Sight\n",
              "7752                           Mitchell\n",
              "3636                            Serpico\n",
              "16736                     The Organizer\n",
              "Name: title, dtype: object"
            ]
          },
          "metadata": {
            "tags": []
          },
          "execution_count": 28
        }
      ]
    },
    {
      "cell_type": "markdown",
      "metadata": {
        "id": "0L3KRM7nbf_N"
      },
      "source": [
        "## Collaborative"
      ]
    },
    {
      "cell_type": "markdown",
      "metadata": {
        "id": "W0Wnl_Afbi5M"
      },
      "source": [
        "### User-Based"
      ]
    },
    {
      "cell_type": "markdown",
      "metadata": {
        "id": "NJtuVL_mbmH4"
      },
      "source": [
        "### Item Based"
      ]
    }
  ]
}