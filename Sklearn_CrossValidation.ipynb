{
  "nbformat": 4,
  "nbformat_minor": 0,
  "metadata": {
    "colab": {
      "name": "Sklearn_CrossValidation.ipynb",
      "provenance": [],
      "collapsed_sections": [],
      "authorship_tag": "ABX9TyPUGpx2gimzJ4xOtqFvM8xd",
      "include_colab_link": true
    },
    "kernelspec": {
      "name": "python3",
      "display_name": "Python 3"
    }
  },
  "cells": [
    {
      "cell_type": "markdown",
      "metadata": {
        "id": "view-in-github",
        "colab_type": "text"
      },
      "source": [
        "<a href=\"https://colab.research.google.com/github/AlvinChiew/MachineLearning/blob/main/Sklearn_CrossValidation.ipynb\" target=\"_parent\"><img src=\"https://colab.research.google.com/assets/colab-badge.svg\" alt=\"Open In Colab\"/></a>"
      ]
    },
    {
      "cell_type": "markdown",
      "metadata": {
        "id": "rL22EmNC1G8c"
      },
      "source": [
        "Objectives : \r\n",
        "* Reduce chances of overfitting, especially when dataset is small or dimensionality is high\r\n",
        "* Primarily used to assess how well ML model predict unseen data, i.e. generalization performance\r\n",
        "\r\n",
        "\r\n"
      ]
    },
    {
      "cell_type": "markdown",
      "metadata": {
        "id": "5a2Wd-odB3zU"
      },
      "source": [
        "Here, scores from cross validation is used to have prelimenary evaluation on model performance. \r\n",
        "It can serve to \r\n",
        "* compare among models' performance on unseen data \r\n",
        "* estimate best parameters for model\r\n",
        "\r\n",
        "<img src=\"https://scikit-learn.org/stable/_images/grid_search_workflow.png\" width=\"600\">"
      ]
    },
    {
      "cell_type": "markdown",
      "metadata": {
        "id": "WhgEKPQMCjgk"
      },
      "source": [
        "cross_val_predict() can be used to check prediction from each fold, \r\n",
        ">predictions = cross_val_predict(model, df, y, cv=6)"
      ]
    },
    {
      "cell_type": "markdown",
      "metadata": {
        "id": "ER1G53ZeEMZ_"
      },
      "source": [
        "For CV method visualization : [ref](https://scikit-learn.org/stable/auto_examples/model_selection/plot_cv_indices.html)"
      ]
    },
    {
      "cell_type": "markdown",
      "metadata": {
        "id": "Nu6KmZmn2UEH"
      },
      "source": [
        "# Import Module"
      ]
    },
    {
      "cell_type": "code",
      "metadata": {
        "id": "DDGgHKp2zwc5"
      },
      "source": [
        "from sklearn.datasets import make_blobs\r\n",
        "from sklearn.model_selection import train_test_split, cross_val_score, LeaveOneOut, ShuffleSplit, GroupKFold\r\n",
        "from sklearn.linear_model import LogisticRegression"
      ],
      "execution_count": 1,
      "outputs": []
    },
    {
      "cell_type": "markdown",
      "metadata": {
        "id": "p48cO8fr20Fb"
      },
      "source": [
        "# Load Data & Train Model"
      ]
    },
    {
      "cell_type": "code",
      "metadata": {
        "id": "jzwMgqSt2zag"
      },
      "source": [
        "X, y = make_blobs(random_state=0)\r\n",
        "X_train, X_test, y_train, y_test = train_test_split(X, y, random_state=0)"
      ],
      "execution_count": 2,
      "outputs": []
    },
    {
      "cell_type": "markdown",
      "metadata": {
        "id": "c9ka8mEq4a7L"
      },
      "source": [
        "# Evalaution"
      ]
    },
    {
      "cell_type": "markdown",
      "metadata": {
        "id": "UstF43Bm4dOf"
      },
      "source": [
        "## Without CV"
      ]
    },
    {
      "cell_type": "code",
      "metadata": {
        "colab": {
          "base_uri": "https://localhost:8080/"
        },
        "id": "2qs_wTDm3Ho1",
        "outputId": "973f9a9b-3e61-49a3-d881-c7fbb8f3c730"
      },
      "source": [
        "model = LogisticRegression()\r\n",
        "model.fit(X_train, y_train)\r\n",
        "print(f'Train Score : {model.score(X_train, y_train)}')\r\n",
        "print(f'Test Score : {model.score(X_test, y_test)}')"
      ],
      "execution_count": 5,
      "outputs": [
        {
          "output_type": "stream",
          "text": [
            "Train Score : 0.9066666666666666\n",
            "Test Score : 0.88\n"
          ],
          "name": "stdout"
        }
      ]
    },
    {
      "cell_type": "markdown",
      "metadata": {
        "id": "HAs80Q174hWm"
      },
      "source": [
        "## k-fold CV"
      ]
    },
    {
      "cell_type": "code",
      "metadata": {
        "colab": {
          "base_uri": "https://localhost:8080/"
        },
        "id": "Alvje1614gxx",
        "outputId": "c498538f-7eb6-4e4a-eef5-a4e33f3102e3"
      },
      "source": [
        "# train test split is not necessary as dataset is split into train-test-set with  k-1 : 1 ratio in each fold\r\n",
        "scores_kfold = cross_val_score(model, X, y, cv=5)\r\n",
        "print(f'Scores for each fold : {scores_kfold}')\r\n",
        "print(f'Mean score : {scores_kfold.mean()}')\r\n",
        "\r\n",
        "# Seem like there is a slight improvement when results are averaged out."
      ],
      "execution_count": 7,
      "outputs": [
        {
          "output_type": "stream",
          "text": [
            "Scores for each fold : [0.9  0.9  0.9  0.8  0.95]\n",
            "Mean score : 0.89\n"
          ],
          "name": "stdout"
        }
      ]
    },
    {
      "cell_type": "markdown",
      "metadata": {
        "id": "7hWXU5_75zfu"
      },
      "source": [
        "# Stratified k-fold"
      ]
    },
    {
      "cell_type": "markdown",
      "metadata": {
        "id": "OLUHIQPc7DK8"
      },
      "source": [
        "Stratifying train-test split in k-fold eliminates the possibility of uneven group of labels/target value,<br>\r\n",
        "e.g. when data is sorted by label or is dominated by specific label(s)\r\n",
        "<br><br>\r\n",
        "sklearn.model_selection.StratifiedKFold()\r\n"
      ]
    },
    {
      "cell_type": "markdown",
      "metadata": {
        "id": "ompkWsU16-JB"
      },
      "source": [
        "## LeaveOneOut method"
      ]
    },
    {
      "cell_type": "code",
      "metadata": {
        "colab": {
          "base_uri": "https://localhost:8080/"
        },
        "id": "HU7y9MFM53Qb",
        "outputId": "f457b4f0-b771-44fb-e348-bdc0604fe5ad"
      },
      "source": [
        "# k = size of data, i.e. # rows\r\n",
        "# Way longer processing\r\n",
        "\r\n",
        "scores_loo = cross_val_score(model, X, y, cv=LeaveOneOut())\r\n",
        "print(f'Scores for each fold : {scores_loo}')\r\n",
        "print(f'Mean score : {scores_loo.mean()}')"
      ],
      "execution_count": 9,
      "outputs": [
        {
          "output_type": "stream",
          "text": [
            "Scores for each fold : [1. 1. 1. 0. 0. 1. 1. 1. 1. 1. 1. 1. 1. 1. 1. 1. 1. 0. 1. 1. 1. 1. 1. 0.\n",
            " 1. 1. 1. 1. 1. 1. 1. 1. 1. 1. 1. 0. 1. 1. 1. 1. 1. 1. 1. 1. 1. 1. 1. 1.\n",
            " 1. 1. 0. 1. 1. 1. 1. 1. 1. 1. 1. 1. 1. 1. 1. 1. 1. 1. 1. 1. 1. 1. 1. 0.\n",
            " 0. 1. 0. 0. 1. 1. 1. 1. 1. 1. 1. 1. 0. 1. 1. 1. 1. 1. 1. 1. 1. 1. 1. 1.\n",
            " 1. 1. 1. 1.]\n",
            "Mean score : 0.89\n"
          ],
          "name": "stdout"
        }
      ]
    },
    {
      "cell_type": "markdown",
      "metadata": {
        "id": "W99xWiiU8Dqf"
      },
      "source": [
        "## ShuffleSplit"
      ]
    },
    {
      "cell_type": "code",
      "metadata": {
        "colab": {
          "base_uri": "https://localhost:8080/"
        },
        "id": "4zZj89fs8Ijq",
        "outputId": "de48bfd3-5243-4417-869d-3cfcce3ed9d9"
      },
      "source": [
        "# randomly split dataset by \"n_splits\" time(s) instead of going by the order in dataset\r\n",
        "\r\n",
        "scores_ss = cross_val_score(model, X, y,\r\n",
        "                            cv=ShuffleSplit(test_size=0.5, n_splits=10))\r\n",
        "print(f'Scores for each fold : {scores_ss}')\r\n",
        "print(f'Mean score : {scores_ss.mean()}')"
      ],
      "execution_count": 12,
      "outputs": [
        {
          "output_type": "stream",
          "text": [
            "Scores for each fold : [0.88 0.86 0.92 0.84 0.9  0.94 0.9  0.9  0.94 0.9 ]\n",
            "Mean score : 0.898\n"
          ],
          "name": "stdout"
        }
      ]
    },
    {
      "cell_type": "markdown",
      "metadata": {
        "id": "Y0SwKr-j9hSD"
      },
      "source": [
        "## Group k-fold"
      ]
    },
    {
      "cell_type": "markdown",
      "metadata": {
        "id": "7zxnjrOv9jJX"
      },
      "source": [
        "Split groups into k fold which same group is not represented in both test and train set by each fold.<br>\r\n",
        "Such is to ensure data is not overfitted into the dominant subject, e.g. human's facial expression by first providing the grouping so that groups included in previous fold will not be considered in the future folds \r\n"
      ]
    },
    {
      "cell_type": "code",
      "metadata": {
        "colab": {
          "base_uri": "https://localhost:8080/"
        },
        "id": "baFYSqEzFkkO",
        "outputId": "76fa46b3-62c4-47dc-e4c1-abe897be7fe4"
      },
      "source": [
        "X,y = make_blobs(n_samples=12, random_state=0)\r\n",
        "groups = [0,0,0,1,1,1,1,2,2,3,3,3] # disctint group (4) >= k (3)\r\n",
        "scores_gkf = cross_val_score(model, X,y, groups, cv=GroupKFold(n_splits=3))  \r\n",
        "print(f'Scores for each fold : {scores_gkf}')\r\n",
        "print(f'Mean score : {scores_gkf.mean()}')\r\n",
        "print(X)\r\n",
        "print(y)\r\n",
        "\r\n",
        "# The result looks horrible because grouping and X,y dataset do not really correlate. So Group k=fold doesn't help in this case.\r\n",
        "# Overfitting is very likely to happen with extremely small dataset"
      ],
      "execution_count": 18,
      "outputs": [
        {
          "output_type": "stream",
          "text": [
            "Scores for each fold : [0.75       0.6        0.66666667]\n",
            "Mean score : 0.6722222222222222\n",
            "[[ 3.54934659  0.6925054 ]\n",
            " [ 1.9263585   4.15243012]\n",
            " [ 0.0058752   4.38724103]\n",
            " [ 1.12031365  5.75806083]\n",
            " [ 1.7373078   4.42546234]\n",
            " [ 2.36833522  0.04356792]\n",
            " [-0.49772229  1.55128226]\n",
            " [-1.4811455   2.73069841]\n",
            " [ 0.87305123  4.71438583]\n",
            " [-0.66246781  2.17571724]\n",
            " [ 0.74285061  1.46351659]\n",
            " [ 2.49913075  1.23133799]]\n",
            "[1 0 2 0 0 1 1 2 0 2 2 1]\n"
          ],
          "name": "stdout"
        }
      ]
    }
  ]
}