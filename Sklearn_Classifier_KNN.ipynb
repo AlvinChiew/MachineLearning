{
  "nbformat": 4,
  "nbformat_minor": 0,
  "metadata": {
    "colab": {
      "name": "Sklearn_Classifier_KNN.ipynb",
      "provenance": [],
      "collapsed_sections": [
        "HODRcASsGuT9"
      ],
      "toc_visible": true,
      "authorship_tag": "ABX9TyPKVut5vTaL7X8+yVzhqLxg",
      "include_colab_link": true
    },
    "kernelspec": {
      "name": "python3",
      "display_name": "Python 3"
    }
  },
  "cells": [
    {
      "cell_type": "markdown",
      "metadata": {
        "id": "view-in-github",
        "colab_type": "text"
      },
      "source": [
        "<a href=\"https://colab.research.google.com/github/AlvinChiew/MachineLearning/blob/main/Sklearn_Classifier_KNN.ipynb\" target=\"_parent\"><img src=\"https://colab.research.google.com/assets/colab-badge.svg\" alt=\"Open In Colab\"/></a>"
      ]
    },
    {
      "cell_type": "markdown",
      "metadata": {
        "id": "HODRcASsGuT9"
      },
      "source": [
        "# Import Modules"
      ]
    },
    {
      "cell_type": "code",
      "metadata": {
        "id": "U6AQkSzkFBHN"
      },
      "source": [
        "import matplotlib.pyplot as plt\r\n",
        "from sklearn.datasets import load_breast_cancer\r\n",
        "from sklearn.model_selection import train_test_split\r\n",
        "from sklearn.neighbors import KNeighborsClassifier\r\n",
        "plt.style.use('ggplot')"
      ],
      "execution_count": 2,
      "outputs": []
    },
    {
      "cell_type": "markdown",
      "metadata": {
        "id": "X4R4IXsaHJZk"
      },
      "source": [
        "# Load and Pre-Process data"
      ]
    },
    {
      "cell_type": "code",
      "metadata": {
        "id": "dDbqF9q7HLvQ"
      },
      "source": [
        "data_obj = load_breast_cancer()\r\n",
        "X_train, X_test, y_train, y_test = train_test_split(data_obj.data, data_obj.target,\r\n",
        "                                                    stratify=data_obj.target, \r\n",
        "                                                    random_state=0)"
      ],
      "execution_count": 3,
      "outputs": []
    },
    {
      "cell_type": "markdown",
      "metadata": {
        "id": "3re95ajbHl8d"
      },
      "source": [
        "# Modeling"
      ]
    },
    {
      "cell_type": "code",
      "metadata": {
        "id": "LMzOqEzKHnLO"
      },
      "source": [
        "# storage of results from multiple k-value (predict with k amount of neighbouring data point)\r\n",
        "train_acc = []\r\n",
        "test_acc = []\r\n",
        "\r\n",
        "k_range = range(1,11)       # experiment k-value from 1 to 10; \r\n",
        "\r\n",
        "for k in k_range:\r\n",
        "    model = KNeighborsClassifier(n_neighbors=k)\r\n",
        "    model.fit(X_train, y_train)\r\n",
        "    train_acc.append(model.score(X_train,y_train))\r\n",
        "    test_acc.append(model.score(X_test,y_test))"
      ],
      "execution_count": 4,
      "outputs": []
    },
    {
      "cell_type": "markdown",
      "metadata": {
        "id": "VHN40AnVI34C"
      },
      "source": [
        "# Plot Result"
      ]
    },
    {
      "cell_type": "code",
      "metadata": {
        "colab": {
          "base_uri": "https://localhost:8080/",
          "height": 283
        },
        "id": "gwQKMQ0CI-T6",
        "outputId": "a170c0c6-4ba8-4954-caee-4b2b5a0e834b"
      },
      "source": [
        "plt.plot(k_range, train_acc)\r\n",
        "plt.plot(k_range, test_acc)\r\n",
        "plt.xlabel(r'$k$')\r\n",
        "plt.ylabel('score')\r\n",
        "plt.legend(['training accuracy', 'test accuracy'])\r\n",
        "# pl.savefig('result.png')\r\n",
        "plt.show()\r\n",
        "\r\n",
        "# Best : k=7"
      ],
      "execution_count": 5,
      "outputs": [
        {
          "output_type": "display_data",
          "data": {
            "image/png": "[encoded data removed]",
            "text/plain": [
              "<Figure size 432x288 with 1 Axes>"
            ]
          },
          "metadata": {
            "tags": []
          }
        }
      ]
    },
    {
      "cell_type": "markdown",
      "metadata": {
        "id": "qxPUOEaN3KgS"
      },
      "source": [
        "# Extra: Plot euclidean distances in 2D data"
      ]
    },
    {
      "cell_type": "code",
      "metadata": {
        "colab": {
          "base_uri": "https://localhost:8080/"
        },
        "id": "nCFkPAum2yTF",
        "outputId": "794c9d60-5337-4946-ed84-e5f86875627b"
      },
      "source": [
        "!wget https://raw.githubusercontent.com/AlvinChiew/MachineLearning/main/raw_data/gen_data.py"
      ],
      "execution_count": 7,
      "outputs": [
        {
          "output_type": "stream",
          "text": [
            "--2020-12-25 07:47:24--  https://raw.githubusercontent.com/AlvinChiew/MachineLearning/main/raw_data/gen_data.py\n",
            "Resolving raw.githubusercontent.com (raw.githubusercontent.com)... 151.101.0.133, 151.101.64.133, 151.101.128.133, ...\n",
            "Connecting to raw.githubusercontent.com (raw.githubusercontent.com)|151.101.0.133|:443... connected.\n",
            "HTTP request sent, awaiting response... 200 OK\n",
            "Length: 1494 (1.5K) [text/plain]\n",
            "Saving to: ‘gen_data.py’\n",
            "\n",
            "\rgen_data.py           0%[                    ]       0  --.-KB/s               \rgen_data.py         100%[===================>]   1.46K  --.-KB/s    in 0s      \n",
            "\n",
            "2020-12-25 07:47:24 (38.0 MB/s) - ‘gen_data.py’ saved [1494/1494]\n",
            "\n"
          ],
          "name": "stdout"
        }
      ]
    },
    {
      "cell_type": "code",
      "metadata": {
        "id": "Q5ty9KeI3eEB"
      },
      "source": [
        "import numpy as np\r\n",
        "from sklearn.metrics import euclidean_distances\r\n",
        "\r\n",
        "from gen_data import make_binary"
      ],
      "execution_count": 10,
      "outputs": []
    },
    {
      "cell_type": "code",
      "metadata": {
        "id": "CNuUAt5F3nmS"
      },
      "source": [
        "k = 3\r\n",
        "\r\n",
        "X,y = make_binary()\r\n",
        "X_test = np.array([[8, 3], [10, 4], [10.5, 2]])     # Sample coordinates to show how KNN works"
      ],
      "execution_count": 38,
      "outputs": []
    },
    {
      "cell_type": "code",
      "metadata": {
        "colab": {
          "base_uri": "https://localhost:8080/"
        },
        "id": "1erHVhxI_1mg",
        "outputId": "eb9f7c54-145c-4c0d-9786-252bc7669fb8"
      },
      "source": [
        "model = KNeighborsClassifier(n_neighbors=k)\r\n",
        "model.fit(X,y)\r\n",
        "model.predict(X_test)\r\n",
        "\r\n",
        "# Result of prediction"
      ],
      "execution_count": 43,
      "outputs": [
        {
          "output_type": "execute_result",
          "data": {
            "text/plain": [
              "array([0, 1, 0])"
            ]
          },
          "metadata": {
            "tags": []
          },
          "execution_count": 43
        }
      ]
    },
    {
      "cell_type": "code",
      "metadata": {
        "colab": {
          "base_uri": "https://localhost:8080/"
        },
        "id": "1boNpX5t9LP_",
        "outputId": "f222e205-baa4-4e0a-afa0-42f7d1533bdf"
      },
      "source": [
        "X.shape"
      ],
      "execution_count": 22,
      "outputs": [
        {
          "output_type": "execute_result",
          "data": {
            "text/plain": [
              "(26, 2)"
            ]
          },
          "metadata": {
            "tags": []
          },
          "execution_count": 22
        }
      ]
    },
    {
      "cell_type": "code",
      "metadata": {
        "id": "hiuHn9S347Xl"
      },
      "source": [
        "dist = euclidean_distances(X, X_test)                                   # shape = 26, 3; return distance from each coordinate in X to each coordinate in X_test, split by rows of X\r\n",
        "l =  [sorted(list(zip(dist[:,i], X))) for i in range(len(X_test))]      # return pairs of distance and X coordinates, split by array of X_test"
      ],
      "execution_count": 39,
      "outputs": []
    },
    {
      "cell_type": "code",
      "metadata": {
        "colab": {
          "base_uri": "https://localhost:8080/"
        },
        "id": "_Hljt_7k7zTD",
        "outputId": "668ef4b8-7425-42e8-b734-db449532a5a4"
      },
      "source": [
        "print(dist.shape)\r\n",
        "print(len(l))"
      ],
      "execution_count": 31,
      "outputs": [
        {
          "output_type": "stream",
          "text": [
            "(26, 3)\n",
            "3\n"
          ],
          "name": "stdout"
        }
      ]
    },
    {
      "cell_type": "code",
      "metadata": {
        "colab": {
          "base_uri": "https://localhost:8080/"
        },
        "id": "lfAI0C7s9r3D",
        "outputId": "27b07489-5228-43e9-d29d-d75e70b6c2d1"
      },
      "source": [
        "l[0]"
      ],
      "execution_count": 29,
      "outputs": [
        {
          "output_type": "execute_result",
          "data": {
            "text/plain": [
              "[(2.5307822386943966, array([9.96346605, 4.59676542])),\n",
              " (4.385897421401969, array([11.0329545 , -0.16816717])),\n",
              " (4.175148592310075, array([11.54155807,  5.21116083])),\n",
              " (1.6131658562877547, array([8.69289001, 1.54322016])),\n",
              " (1.2913363667652042, array([8.1062269 , 4.28695977])),\n",
              " (1.8326299839256937, array([8.30988863, 4.80623966])),\n",
              " (4.262056258084361, array([11.93027136,  4.64866327])),\n",
              " (3.6133844293088435, array([ 9.67284681, -0.20283165])),\n",
              " (2.1623595006001746, array([8.34810316, 5.13415623])),\n",
              " (1.6227552469734252, array([8.67494727, 4.47573059])),\n",
              " (2.4013356766795035, array([9.17748385, 5.09283177])),\n",
              " (2.305523409823315, array([10.24028948,  2.45544401])),\n",
              " (1.662561256741852, array([8.68937095, 1.48709629])),\n",
              " (3.754961430333781, array([ 8.92229526, -0.63993225])),\n",
              " (1.9996663275572788, array([9.49123469, 4.33224792])),\n",
              " (2.4756708260244107, array([9.25694192, 5.13284858])),\n",
              " (1.8525060173206402, array([7.99815287, 4.8525051 ])),\n",
              " (1.7142377331741063, array([8.18378052, 1.29564214])),\n",
              " (0.8926228015555518, array([8.7337095 , 2.49162431])),\n",
              " (2.480643594133339, array([9.32298256, 5.09840649])),\n",
              " (2.880417412275926, array([10.06393839,  0.99078055])),\n",
              " (3.5926514732417814, array([ 9.50048972, -0.26430318])),\n",
              " (1.4047029938647297, array([8.34468785, 1.63824349])),\n",
              " (1.8391313854888287, array([9.50169345, 1.93824624])),\n",
              " (2.750596133146413, array([9.15072323, 5.49832246])),\n",
              " (3.93203625909551, array([11.563957 ,  1.3389402]))]"
            ]
          },
          "metadata": {
            "tags": []
          },
          "execution_count": 29
        }
      ]
    },
    {
      "cell_type": "code",
      "metadata": {
        "colab": {
          "base_uri": "https://localhost:8080/",
          "height": 265
        },
        "id": "SSZtALtW-MTn",
        "outputId": "abcfe6fc-6aac-4a64-e3e6-1f8445bffbb6"
      },
      "source": [
        "plt.scatter(X[:,0],X[:,1], c=y, s=100, cmap=plt.get_cmap('viridis'))            # 0 = purple; 1 = yellow\r\n",
        "plt.plot(X_test[:,0], X_test[:,1], 'x')\r\n",
        "for i in range(k):\r\n",
        "    plt.plot([X_test[0,0], l[0][i][1][0]],[X_test[0,1],l[0][i][1][1]], 'k-')\r\n",
        "    plt.plot([X_test[1,0], l[1][i][1][0]],[X_test[1,1],l[1][i][1][1]], 'k-')\r\n",
        "    plt.plot([X_test[2,0], l[2][i][1][0]],[X_test[2,1],l[2][i][1][1]], 'k-')\r\n",
        "plt.show()\r\n",
        "\r\n",
        "#   Result matches! [0,1,0]"
      ],
      "execution_count": 40,
      "outputs": [
        {
          "output_type": "display_data",
          "data": {
            "image/png": "[encoded data removed]",
            "text/plain": [
              "<Figure size 432x288 with 1 Axes>"
            ]
          },
          "metadata": {
            "tags": []
          }
        }
      ]
    }
  ]
}