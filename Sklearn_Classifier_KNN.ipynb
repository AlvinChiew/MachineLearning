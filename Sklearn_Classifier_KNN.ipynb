{
  "nbformat": 4,
  "nbformat_minor": 0,
  "metadata": {
    "colab": {
      "name": "Sklearn_Classifier_KNN.ipynb",
      "provenance": [],
      "collapsed_sections": [],
      "authorship_tag": "ABX9TyOS8DFAyEY0TkxwmJOBBzlS",
      "include_colab_link": true
    },
    "kernelspec": {
      "name": "python3",
      "display_name": "Python 3"
    }
  },
  "cells": [
    {
      "cell_type": "markdown",
      "metadata": {
        "id": "view-in-github",
        "colab_type": "text"
      },
      "source": [
        "<a href=\"https://colab.research.google.com/github/AlvinChiew/MachineLearning/blob/main/Sklearn_Classifier_KNN.ipynb\" target=\"_parent\"><img src=\"https://colab.research.google.com/assets/colab-badge.svg\" alt=\"Open In Colab\"/></a>"
      ]
    },
    {
      "cell_type": "markdown",
      "metadata": {
        "id": "HODRcASsGuT9"
      },
      "source": [
        "# Import Modules"
      ]
    },
    {
      "cell_type": "code",
      "metadata": {
        "id": "U6AQkSzkFBHN"
      },
      "source": [
        "import matplotlib.pyplot as plt\r\n",
        "from sklearn.datasets import load_breast_cancer\r\n",
        "from sklearn.model_selection import train_test_split\r\n",
        "from sklearn.neighbors import KNeighborsClassifier\r\n",
        "plt.style.use('ggplot')"
      ],
      "execution_count": 1,
      "outputs": []
    },
    {
      "cell_type": "markdown",
      "metadata": {
        "id": "X4R4IXsaHJZk"
      },
      "source": [
        "# Load and Pre-Process data"
      ]
    },
    {
      "cell_type": "code",
      "metadata": {
        "id": "dDbqF9q7HLvQ"
      },
      "source": [
        "data_obj = load_breast_cancer()\r\n",
        "X_train, X_test, y_train, y_test = train_test_split(data_obj.data, data_obj.target,\r\n",
        "                                                    stratify=data_obj.target, \r\n",
        "                                                    random_state=0)"
      ],
      "execution_count": 2,
      "outputs": []
    },
    {
      "cell_type": "markdown",
      "metadata": {
        "id": "3re95ajbHl8d"
      },
      "source": [
        "# Modeling"
      ]
    },
    {
      "cell_type": "code",
      "metadata": {
        "id": "LMzOqEzKHnLO"
      },
      "source": [
        "# storage of results from multiple k-value (predict with k amount of neighbouring data point)\r\n",
        "train_acc = []\r\n",
        "test_acc = []\r\n",
        "\r\n",
        "k_range = range(1,11)       # experiment k-value from 1 to 10; \r\n",
        "\r\n",
        "for k in k_range:\r\n",
        "    model = KNeighborsClassifier(n_neighbors=k)\r\n",
        "    model.fit(X_train, y_train)\r\n",
        "    train_acc.append(model.score(X_train,y_train))\r\n",
        "    test_acc.append(model.score(X_test,y_test))"
      ],
      "execution_count": 3,
      "outputs": []
    },
    {
      "cell_type": "markdown",
      "metadata": {
        "id": "VHN40AnVI34C"
      },
      "source": [
        "# Plot Result"
      ]
    },
    {
      "cell_type": "code",
      "metadata": {
        "colab": {
          "base_uri": "https://localhost:8080/",
          "height": 283
        },
        "id": "gwQKMQ0CI-T6",
        "outputId": "b68be7ba-ee59-4683-cefb-1aeb6f6359db"
      },
      "source": [
        "plt.plot(k_range, train_acc)\r\n",
        "plt.plot(k_range, test_acc)\r\n",
        "plt.xlabel(r'$k$')\r\n",
        "plt.ylabel('score')\r\n",
        "plt.legend(['training accuracy', 'test accuracy'])\r\n",
        "# pl.savefig('result.png')\r\n",
        "plt.show()\r\n",
        "\r\n",
        "# Best : k=7"
      ],
      "execution_count": 6,
      "outputs": [
        {
          "output_type": "display_data",
          "data": {
            "image/png": "[encoded data removed]",
            "text/plain": [
              "<Figure size 432x288 with 1 Axes>"
            ]
          },
          "metadata": {
            "tags": [],
            "needs_background": "light"
          }
        }
      ]
    }
  ]
}