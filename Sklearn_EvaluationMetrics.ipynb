{
  "nbformat": 4,
  "nbformat_minor": 0,
  "metadata": {
    "colab": {
      "name": "Sklearn_EvaluationMetrics.ipynb",
      "provenance": [],
      "collapsed_sections": [],
      "authorship_tag": "ABX9TyNGJIAeZEeaS8dKs/GdVKmn"
    },
    "kernelspec": {
      "name": "python3",
      "display_name": "Python 3"
    }
  },
  "cells": [
    {
      "cell_type": "markdown",
      "metadata": {
        "id": "J_F-Xir9HgrO"
      },
      "source": [
        "Model.score()\r\n",
        "* classification : accuracy\r\n",
        "* regression : R^2\r\n",
        "\r\n",
        "Confusion Matrix\r\n",
        "* Type I error : False Positive\r\n",
        "* Type II error : False Negative\r\n",
        "\r\n",
        "Statistical Metrics\r\n",
        "* Accuracy = (TP+TF) / ALL RESULTS\r\n",
        "* Precision = TP / (TP + FP)\r\n",
        "* Recall = TP / (TP + FN)\r\n",
        "* F = 2 * (Precision * Recall) / (Precision + Recall) ***OR*** TP / (TP + 0.5 * (FP + FN))\r\n",
        "* Speficity = TN / (TN + FP)\r\n",
        "<br>\r\n",
        "\r\n",
        "ROC Curves\r\n",
        "* summarize the trade-off between the TP rate and FP rate for a predictive model using different probability thresholds.\r\n",
        "* appropriate when the observations are balanced between each class <br>\r\n",
        "\r\n",
        "Precision-Recall curves \r\n",
        "* summarize the trade-off between the TP rate and the P predictive value for a predictive model using different probability thresholds.\r\n",
        "* appropriate for imbalanced datasets.\r\n"
      ]
    },
    {
      "cell_type": "markdown",
      "metadata": {
        "id": "XndA41wGGcB_"
      },
      "source": [
        "# Import Module"
      ]
    },
    {
      "cell_type": "code",
      "metadata": {
        "id": "bJjzrf26Ezt8"
      },
      "source": [
        "import numpy as np\r\n",
        "import matplotlib.pyplot as plt\r\n",
        "from sklearn.model_selection import train_test_split\r\n",
        "from sklearn.linear_model import LogisticRegression\r\n",
        "from sklearn.metrics import confusion_matrix, classification_report, precision_recall_curve, roc_curve\r\n",
        "\r\n",
        "from sklearn.datasets import load_digits"
      ],
      "execution_count": null,
      "outputs": []
    },
    {
      "cell_type": "markdown",
      "metadata": {
        "id": "tIMOxQ9mHUMR"
      },
      "source": [
        "# Load Data & Pre-Process"
      ]
    },
    {
      "cell_type": "code",
      "metadata": {
        "id": "0iNGTXsiHUBL"
      },
      "source": [
        "data_obj = load_digits()\r\n",
        "X = data_obj.data\r\n",
        "y = data_obj.target == 9"
      ],
      "execution_count": 12,
      "outputs": []
    },
    {
      "cell_type": "code",
      "metadata": {
        "colab": {
          "base_uri": "https://localhost:8080/",
          "height": 292
        },
        "id": "hZ0hJtvfesGP",
        "outputId": "75a73926-c9c2-4b6a-b18c-bbb1857c7c0d"
      },
      "source": [
        "# Example of '9' image\r\n",
        "\r\n",
        "plt.gray() \r\n",
        "plt.matshow(data_obj.images[y==True][0]) \r\n",
        "plt.show() "
      ],
      "execution_count": 20,
      "outputs": [
        {
          "output_type": "display_data",
          "data": {
            "text/plain": [
              "<Figure size 432x288 with 0 Axes>"
            ]
          },
          "metadata": {
            "tags": []
          }
        },
        {
          "output_type": "display_data",
          "data": {
            "image/png": "[encoded data removed]",
            "text/plain": [
              "<Figure size 288x288 with 1 Axes>"
            ]
          },
          "metadata": {
            "tags": [],
            "needs_background": "light"
          }
        }
      ]
    },
    {
      "cell_type": "code",
      "metadata": {
        "id": "wJ-0zVP5fF93"
      },
      "source": [
        "X_train, X_test, y_train, y_test = train_test_split(X, y, random_state=0)"
      ],
      "execution_count": 21,
      "outputs": []
    },
    {
      "cell_type": "markdown",
      "metadata": {
        "id": "RE9TvXX7f_eK"
      },
      "source": [
        "# Train Model"
      ]
    },
    {
      "cell_type": "code",
      "metadata": {
        "id": "2hPfCgSGgAmv"
      },
      "source": [
        "model = LogisticRegression(C=0.1, max_iter=500).fit(X_train, y_train)"
      ],
      "execution_count": 25,
      "outputs": []
    },
    {
      "cell_type": "markdown",
      "metadata": {
        "id": "WdCnOopYgvkl"
      },
      "source": [
        "# Evaluation"
      ]
    },
    {
      "cell_type": "markdown",
      "metadata": {
        "id": "sGjPZdTtgx3a"
      },
      "source": [
        "## Score (accuracy)"
      ]
    },
    {
      "cell_type": "code",
      "metadata": {
        "colab": {
          "base_uri": "https://localhost:8080/"
        },
        "id": "xE8475PIgu3y",
        "outputId": "1c9b0386-76fa-47f9-bafc-a5ef7fda76fe"
      },
      "source": [
        "print(f\"Train score : {model.score(X_train, y_train)}\")\r\n",
        "print(f\"Test score  : {model.score(X_test, y_test)}\")"
      ],
      "execution_count": 26,
      "outputs": [
        {
          "output_type": "stream",
          "text": [
            "Train score : 0.9977728285077951\n",
            "Test score  : 0.9844444444444445\n"
          ],
          "name": "stdout"
        }
      ]
    },
    {
      "cell_type": "markdown",
      "metadata": {
        "id": "wo1Hzfpjg3cS"
      },
      "source": [
        "## Confusion Metrics"
      ]
    },
    {
      "cell_type": "code",
      "metadata": {
        "colab": {
          "base_uri": "https://localhost:8080/"
        },
        "id": "qmtH4Rp7grI4",
        "outputId": "e5bf8464-5cb1-4aec-c283-2e9e279e9dc5"
      },
      "source": [
        "y_pred = model.predict(X_test)\r\n",
        "cm = confusion_matrix(y_test, y_pred)\r\n",
        "print(cm)  \r\n",
        "\r\n",
        "#           Predicted = No, Predicted = Yes\r\n",
        "# Actual = No  [TN        , FP             ]\r\n",
        "# Actual = Yes [FN        , TP             ] "
      ],
      "execution_count": 31,
      "outputs": [
        {
          "output_type": "stream",
          "text": [
            "[[402   1]\n",
            " [  6  41]]\n"
          ],
          "name": "stdout"
        }
      ]
    },
    {
      "cell_type": "markdown",
      "metadata": {
        "id": "VIr5i1drioZz"
      },
      "source": [
        "## Statistical Metrics"
      ]
    },
    {
      "cell_type": "code",
      "metadata": {
        "colab": {
          "base_uri": "https://localhost:8080/"
        },
        "id": "ZrT1S8Sdkhxk",
        "outputId": "ce7003bf-c1ed-4487-f611-9058a64e499c"
      },
      "source": [
        "print(classification_report(y_test, y_pred))"
      ],
      "execution_count": 32,
      "outputs": [
        {
          "output_type": "stream",
          "text": [
            "              precision    recall  f1-score   support\n",
            "\n",
            "       False       0.99      1.00      0.99       403\n",
            "        True       0.98      0.87      0.92        47\n",
            "\n",
            "    accuracy                           0.98       450\n",
            "   macro avg       0.98      0.93      0.96       450\n",
            "weighted avg       0.98      0.98      0.98       450\n",
            "\n"
          ],
          "name": "stdout"
        }
      ]
    },
    {
      "cell_type": "markdown",
      "metadata": {
        "id": "WVeUT8O1izbY"
      },
      "source": [
        "## Precision Recall Curve"
      ]
    },
    {
      "cell_type": "code",
      "metadata": {
        "id": "n5i82LE7k02a"
      },
      "source": [
        "# used when there is a moderate to large class imbalance\r\n",
        "precision, recall, threshold = precision_recall_curve(y_test, model.decision_function(X_test))"
      ],
      "execution_count": 34,
      "outputs": []
    },
    {
      "cell_type": "code",
      "metadata": {
        "colab": {
          "base_uri": "https://localhost:8080/",
          "height": 296
        },
        "id": "gbf-fB_slKxh",
        "outputId": "2aabfc84-4adc-4a8e-f8da-63244150f31d"
      },
      "source": [
        "plt.plot(precision, recall, label='precision-recall curve')\r\n",
        "c_zero = np.argmin(np.abs(threshold))\r\n",
        "plt.plot(precision[c_zero], recall[c_zero], 'r^', label='threshold zero' )\r\n",
        "plt.xlabel('recall')\r\n",
        "plt.ylabel('precision')\r\n",
        "plt.legend()"
      ],
      "execution_count": 36,
      "outputs": [
        {
          "output_type": "execute_result",
          "data": {
            "text/plain": [
              "<matplotlib.legend.Legend at 0x7f86f6b2bf98>"
            ]
          },
          "metadata": {
            "tags": []
          },
          "execution_count": 36
        },
        {
          "output_type": "display_data",
          "data": {
            "image/png": "[encoded data removed]",
            "text/plain": [
              "<Figure size 432x288 with 1 Axes>"
            ]
          },
          "metadata": {
            "tags": [],
            "needs_background": "light"
          }
        }
      ]
    },
    {
      "cell_type": "markdown",
      "metadata": {
        "id": "92vQZm9hls6u"
      },
      "source": [
        "## ROC Curve"
      ]
    },
    {
      "cell_type": "code",
      "metadata": {
        "colab": {
          "base_uri": "https://localhost:8080/",
          "height": 279
        },
        "id": "a66XXsbblubl",
        "outputId": "0eedc923-2845-4bdc-d90b-a64caf9e839a"
      },
      "source": [
        "# used when there are roughly equal numbers of observations for each class\r\n",
        "fpr, tpr, threshold = roc_curve( y_test, model.decision_function(X_test))\r\n",
        "plt.figure()\r\n",
        "plt.plot(fpr, tpr, label='ROC curve')\r\n",
        "c_zero = np.argmin(np.abs(threshold))\r\n",
        "plt.plot(fpr[c_zero], tpr[c_zero], 'r^', label='threshold zero')\r\n",
        "plt.xlabel('False Positive Rate')\r\n",
        "plt.ylabel('True Positive Rate')\r\n",
        "plt.legend()\r\n",
        "plt.show()"
      ],
      "execution_count": 37,
      "outputs": [
        {
          "output_type": "display_data",
          "data": {
            "image/png": "[encoded data removed]",
            "text/plain": [
              "<Figure size 432x288 with 1 Axes>"
            ]
          },
          "metadata": {
            "tags": [],
            "needs_background": "light"
          }
        }
      ]
    }
  ]
}