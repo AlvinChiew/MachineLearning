{
  "nbformat": 4,
  "nbformat_minor": 0,
  "metadata": {
    "colab": {
      "name": "Sklearn_Regression_Ridge(CV).ipynb",
      "provenance": [],
      "collapsed_sections": [],
      "authorship_tag": "ABX9TyMoQQKzNVgV+VJjO/TlRIsk",
      "include_colab_link": true
    },
    "kernelspec": {
      "name": "python3",
      "display_name": "Python 3"
    }
  },
  "cells": [
    {
      "cell_type": "markdown",
      "metadata": {
        "id": "view-in-github",
        "colab_type": "text"
      },
      "source": [
        "<a href=\"https://colab.research.google.com/github/AlvinChiew/MachineLearning/blob/main/Sklearn_Regression_Ridge.ipynb\" target=\"_parent\"><img src=\"https://colab.research.google.com/assets/colab-badge.svg\" alt=\"Open In Colab\"/></a>"
      ]
    },
    {
      "cell_type": "markdown",
      "metadata": {
        "id": "cZZfMgH5Rljn"
      },
      "source": [
        "- Motivations\r\n",
        "    - Create bias to overcome data-overfitting, espcially when data size is small\r\n",
        "        - due to bias, variance drops significantly\r\n",
        "        - better long term prediction\r\n",
        "    - Solve dataset with high dimensionality but insufficient data problem\r\n",
        "    - applies when all/most variables in dataset is useful\r\n",
        "\r\n",
        "\r\n",
        "- Minimize MSE + alpha (or lambda) x slope^2 --> ridge regression penalty\r\n",
        "    - adjust slope for min result\r\n",
        "    - causing prediction to be less/more sensitive to a feature\r\n",
        "    - lower lambda, steeper slope, higher sensitivity\r\n",
        "        - use 10-fold cross validation to determine lambda with lowest variance\r\n",
        "\r\n",
        "- Also applicable to\r\n",
        "    - discrete feature (e.g. high and low diet vs size)\r\n",
        "        - slope = diet difference in mean size from both diet\r\n",
        "        - higher lambda,  bias towards smaller diet difference, less sensitivity\r\n",
        "    - logistics regression (weight vs obsese or not obese)\r\n",
        "        - max likelihood\r\n",
        "        - higher lambda, less sensitive to weight\r\n",
        "    - multidimensional\r\n",
        "        -  ridge regression penalty = sum of (dimension slope)^2\r\n"
      ]
    },
    {
      "cell_type": "markdown",
      "metadata": {
        "id": "4Yryko7tZ9R3"
      },
      "source": [
        "# Import Modules\r\n"
      ]
    },
    {
      "cell_type": "code",
      "metadata": {
        "colab": {
          "base_uri": "https://localhost:8080/"
        },
        "id": "qPKXsHWOaLSZ",
        "outputId": "80f00df2-049d-47b0-ffde-b993b564d810"
      },
      "source": [
        "!wget https://raw.githubusercontent.com/AlvinChiew/MachineLearning/main/raw_data/gen_data.py"
      ],
      "execution_count": 1,
      "outputs": [
        {
          "output_type": "stream",
          "text": [
            "--2020-12-27 16:57:25--  https://raw.githubusercontent.com/AlvinChiew/MachineLearning/main/raw_data/gen_data.py\n",
            "Resolving raw.githubusercontent.com (raw.githubusercontent.com)... 151.101.0.133, 151.101.64.133, 151.101.128.133, ...\n",
            "Connecting to raw.githubusercontent.com (raw.githubusercontent.com)|151.101.0.133|:443... connected.\n",
            "HTTP request sent, awaiting response... 200 OK\n",
            "Length: 1494 (1.5K) [text/plain]\n",
            "Saving to: ‘gen_data.py.2’\n",
            "\n",
            "\rgen_data.py.2         0%[                    ]       0  --.-KB/s               \rgen_data.py.2       100%[===================>]   1.46K  --.-KB/s    in 0s      \n",
            "\n",
            "2020-12-27 16:57:25 (29.4 MB/s) - ‘gen_data.py.2’ saved [1494/1494]\n",
            "\n"
          ],
          "name": "stdout"
        }
      ]
    },
    {
      "cell_type": "code",
      "metadata": {
        "id": "PSq-D5o-RaA4",
        "colab": {
          "base_uri": "https://localhost:8080/"
        },
        "outputId": "501cf6a7-12c2-4d87-9630-086ed8ed891e"
      },
      "source": [
        "import numpy as np\r\n",
        "import matplotlib.pyplot as plt\r\n",
        "from sklearn.model_selection import train_test_split\r\n",
        "from sklearn.linear_model import Ridge\r\n",
        "\r\n",
        "from gen_data import load_extended_boston       # MinMaxScaled, derived statistical features (binomial features)    # https://scikit-learn.org/stable/modules/generated/sklearn.preprocessing.PolynomialFeatures.html"
      ],
      "execution_count": 2,
      "outputs": [
        {
          "output_type": "stream",
          "text": [
            "/usr/local/lib/python3.6/dist-packages/sklearn/utils/deprecation.py:144: FutureWarning: The sklearn.datasets.samples_generator module is  deprecated in version 0.22 and will be removed in version 0.24. The corresponding classes / functions should instead be imported from sklearn.datasets. Anything that cannot be imported from sklearn.datasets is now part of the private API.\n",
            "  warnings.warn(message, FutureWarning)\n"
          ],
          "name": "stderr"
        }
      ]
    },
    {
      "cell_type": "code",
      "metadata": {
        "id": "S-7PX2zranYZ",
        "colab": {
          "base_uri": "https://localhost:8080/"
        },
        "outputId": "2870c782-477e-4d52-ea1e-f9db5bdcd825"
      },
      "source": [
        "from sklearn.datasets import load_boston\r\n",
        "print(load_boston().DESCR)"
      ],
      "execution_count": 3,
      "outputs": [
        {
          "output_type": "stream",
          "text": [
            ".. _boston_dataset:\n",
            "\n",
            "Boston house prices dataset\n",
            "---------------------------\n",
            "\n",
            "**Data Set Characteristics:**  \n",
            "\n",
            "    :Number of Instances: 506 \n",
            "\n",
            "    :Number of Attributes: 13 numeric/categorical predictive. Median Value (attribute 14) is usually the target.\n",
            "\n",
            "    :Attribute Information (in order):\n",
            "        - CRIM     per capita crime rate by town\n",
            "        - ZN       proportion of residential land zoned for lots over 25,000 sq.ft.\n",
            "        - INDUS    proportion of non-retail business acres per town\n",
            "        - CHAS     Charles River dummy variable (= 1 if tract bounds river; 0 otherwise)\n",
            "        - NOX      nitric oxides concentration (parts per 10 million)\n",
            "        - RM       average number of rooms per dwelling\n",
            "        - AGE      proportion of owner-occupied units built prior to 1940\n",
            "        - DIS      weighted distances to five Boston employment centres\n",
            "        - RAD      index of accessibility to radial highways\n",
            "        - TAX      full-value property-tax rate per $10,000\n",
            "        - PTRATIO  pupil-teacher ratio by town\n",
            "        - B        1000(Bk - 0.63)^2 where Bk is the proportion of blacks by town\n",
            "        - LSTAT    % lower status of the population\n",
            "        - MEDV     Median value of owner-occupied homes in $1000's\n",
            "\n",
            "    :Missing Attribute Values: None\n",
            "\n",
            "    :Creator: Harrison, D. and Rubinfeld, D.L.\n",
            "\n",
            "This is a copy of UCI ML housing dataset.\n",
            "https://archive.ics.uci.edu/ml/machine-learning-databases/housing/\n",
            "\n",
            "\n",
            "This dataset was taken from the StatLib library which is maintained at Carnegie Mellon University.\n",
            "\n",
            "The Boston house-price data of Harrison, D. and Rubinfeld, D.L. 'Hedonic\n",
            "prices and the demand for clean air', J. Environ. Economics & Management,\n",
            "vol.5, 81-102, 1978.   Used in Belsley, Kuh & Welsch, 'Regression diagnostics\n",
            "...', Wiley, 1980.   N.B. Various transformations are used in the table on\n",
            "pages 244-261 of the latter.\n",
            "\n",
            "The Boston house-price data has been used in many machine learning papers that address regression\n",
            "problems.   \n",
            "     \n",
            ".. topic:: References\n",
            "\n",
            "   - Belsley, Kuh & Welsch, 'Regression diagnostics: Identifying Influential Data and Sources of Collinearity', Wiley, 1980. 244-261.\n",
            "   - Quinlan,R. (1993). Combining Instance-Based and Model-Based Learning. In Proceedings on the Tenth International Conference of Machine Learning, 236-243, University of Massachusetts, Amherst. Morgan Kaufmann.\n",
            "\n"
          ],
          "name": "stdout"
        }
      ]
    },
    {
      "cell_type": "code",
      "metadata": {
        "colab": {
          "base_uri": "https://localhost:8080/"
        },
        "id": "Ie5hod697WPL",
        "outputId": "2c9ce875-e791-4d0d-a2ff-0a5f1cf7f87e"
      },
      "source": [
        "load_boston().data.shape"
      ],
      "execution_count": 4,
      "outputs": [
        {
          "output_type": "execute_result",
          "data": {
            "text/plain": [
              "(506, 13)"
            ]
          },
          "metadata": {
            "tags": []
          },
          "execution_count": 4
        }
      ]
    },
    {
      "cell_type": "markdown",
      "metadata": {
        "id": "p1Co2SzHbelh"
      },
      "source": [
        "# Load Data"
      ]
    },
    {
      "cell_type": "code",
      "metadata": {
        "id": "73ZX0KUSbdiw"
      },
      "source": [
        "X, y = load_extended_boston()\r\n",
        "X_train, X_test, y_train, y_test = train_test_split(X, y, random_state=0)"
      ],
      "execution_count": 5,
      "outputs": []
    },
    {
      "cell_type": "markdown",
      "metadata": {
        "id": "M7SJN-9Jcbkl"
      },
      "source": [
        "# Train Model"
      ]
    },
    {
      "cell_type": "code",
      "metadata": {
        "id": "JOxCthOXccm8"
      },
      "source": [
        "alpha_range      = np.linspace(0.025,5, 200)\r\n",
        "train_scores = [] \r\n",
        "test_scores  = [] \r\n",
        "coefs       = []\r\n",
        "\r\n",
        "for alpha in alpha_range:\r\n",
        "    model = Ridge(alpha=alpha).fit(X_train, y_train)\r\n",
        "    train_scores.append( model.score( X_train, y_train) )\r\n",
        "    test_scores.append ( model.score( X_test,  y_test ) )\r\n",
        "    coefs.append(model.coef_)"
      ],
      "execution_count": 6,
      "outputs": []
    },
    {
      "cell_type": "markdown",
      "metadata": {
        "id": "I5-s0QGHgzhQ"
      },
      "source": [
        "# Evaluation"
      ]
    },
    {
      "cell_type": "code",
      "metadata": {
        "colab": {
          "base_uri": "https://localhost:8080/",
          "height": 550
        },
        "id": "PPiQy5Pmg07k",
        "outputId": "1eb98c4d-92c2-4af9-f8a0-3cf64b51f1d6"
      },
      "source": [
        " def plot_ridge_result(alpha_range, train_scores,test_scores, coefs):\r\n",
        "    plt.style.use('ggplot')\r\n",
        "    plt.figure(1)\r\n",
        "    plt.plot( alpha_range, train_scores, 'b-')\r\n",
        "    plt.plot( alpha_range, test_scores,  'k:')\r\n",
        "    plt.legend(['Training score', 'Test score'])\r\n",
        "    plt.xlabel('alpha')\r\n",
        "    plt.ylabel('score')\r\n",
        "\r\n",
        "    plt.figure(2)\r\n",
        "    for a,c in zip(alpha_range[::5], coefs[::5]):\r\n",
        "        plt.plot(a*np.ones_like(c), c, 'b.')\r\n",
        "    plt.xlabel('alpha')\r\n",
        "    plt.ylabel('coefficients')\r\n",
        "    plt.show()\r\n",
        "\r\n",
        "plot_ridge_result(alpha_range, train_scores,test_scores, coefs)\r\n",
        "# Overall test score is quite low although high training score. \r\n",
        "# regularization doesn't seem to resolve overfitting issue. \r\n",
        "# Probably there is significant gap between train set and test set.\r\n",
        "# Try cross-validation: https://win-vector.com/2019/11/12/when-cross-validation-is-more-powerful-than-regularization/#:~:text=Regularization%20is%20a%20way%20of,deep%20learning%2C%20node%20weights).&text=Cross%2Dvalidation%20is%20a%20way,data%20in%20nested%20model%20situations.\r\n"
      ],
      "execution_count": 7,
      "outputs": [
        {
          "output_type": "display_data",
          "data": {
            "image/png": "[encoded data removed]",
            "text/plain": [
              "<Figure size 432x288 with 1 Axes>"
            ]
          },
          "metadata": {
            "tags": []
          }
        },
        {
          "output_type": "display_data",
          "data": {
            "image/png": "[encoded data removed]",
            "text/plain": [
              "<Figure size 432x288 with 1 Axes>"
            ]
          },
          "metadata": {
            "tags": []
          }
        }
      ]
    },
    {
      "cell_type": "markdown",
      "metadata": {
        "id": "L-BAn5Qywo3D"
      },
      "source": [
        "# Extra: Cross-Validation - kfold"
      ]
    },
    {
      "cell_type": "code",
      "metadata": {
        "id": "iiNw6FaniBIc"
      },
      "source": [
        "from sklearn.model_selection import cross_val_score"
      ],
      "execution_count": 8,
      "outputs": []
    },
    {
      "cell_type": "code",
      "metadata": {
        "colab": {
          "base_uri": "https://localhost:8080/"
        },
        "id": "O-Hez8Hoxug8",
        "outputId": "55757129-f175-4acb-b6ef-52cc6b15ae74"
      },
      "source": [
        "scores = cross_val_score(model, X, y,\r\n",
        "                         scoring='r2',              # Score by R^2\r\n",
        "                         cv=5)                      # 5 folds cross validation\r\n",
        "scores\r\n",
        "# Some yielded better result while some are extremely terrible. \r\n",
        "# Seems like hypothesis is right. Some corner cases were isolated from train set earlier on.\r\n",
        "# train test split is not randomized appropriately. Can try to change random state and test again"
      ],
      "execution_count": 9,
      "outputs": [
        {
          "output_type": "execute_result",
          "data": {
            "text/plain": [
              "array([0.75928379, 0.76105059, 0.65857207, 0.29131513, 0.43470853])"
            ]
          },
          "metadata": {
            "tags": []
          },
          "execution_count": 9
        }
      ]
    },
    {
      "cell_type": "code",
      "metadata": {
        "id": "IqduGmey1dih"
      },
      "source": [
        "from sklearn.linear_model import RidgeCV"
      ],
      "execution_count": 10,
      "outputs": []
    },
    {
      "cell_type": "code",
      "metadata": {
        "colab": {
          "base_uri": "https://localhost:8080/"
        },
        "id": "tsFLS1u31lBm",
        "outputId": "6dcf65b7-360c-4c73-a25c-7255987ed8c5"
      },
      "source": [
        "model_cv = RidgeCV(alpha_range, cv=5).fit(X, y)\r\n",
        "print(f'Score: {model_cv.score(X, y)}')\r\n",
        "print(f'alpha: {model_cv.alpha_}')\r\n",
        "\r\n",
        "# Need more data to support train test split. Or reduce dimension."
      ],
      "execution_count": 11,
      "outputs": [
        {
          "output_type": "stream",
          "text": [
            "Score: 0.864762505438053\n",
            "alpha: 1.0499999999999998\n"
          ],
          "name": "stdout"
        }
      ]
    },
    {
      "cell_type": "markdown",
      "metadata": {
        "id": "k_vrVHN14GGz"
      },
      "source": [
        "# Extra: feature selection - reduce D"
      ]
    },
    {
      "cell_type": "code",
      "metadata": {
        "id": "T_4cL4Kr4QkU"
      },
      "source": [
        "import pandas as pd \r\n",
        "\r\n",
        "from sklearn.feature_selection import RFE       # recurssive feature elimination\r\n",
        "from sklearn.model_selection import KFold\r\n",
        "from sklearn.model_selection import GridSearchCV"
      ],
      "execution_count": 12,
      "outputs": []
    },
    {
      "cell_type": "code",
      "metadata": {
        "colab": {
          "base_uri": "https://localhost:8080/"
        },
        "id": "4Mpytd7t7My8",
        "outputId": "7e4ff8f2-5f5a-47ff-d70f-3c26ee247efb"
      },
      "source": [
        "X.shape"
      ],
      "execution_count": 13,
      "outputs": [
        {
          "output_type": "execute_result",
          "data": {
            "text/plain": [
              "(506, 104)"
            ]
          },
          "metadata": {
            "tags": []
          },
          "execution_count": 13
        }
      ]
    },
    {
      "cell_type": "code",
      "metadata": {
        "colab": {
          "base_uri": "https://localhost:8080/"
        },
        "id": "Cz6OfCG84fTw",
        "outputId": "7edf8dff-427d-407b-f4e1-b0dac66237c2"
      },
      "source": [
        "folds = KFold(n_splits = 5)\r\n",
        "hyper_params = [{'n_features_to_select': list(range(5, 16))}]   # n_feature = 5 to 15\r\n",
        "rfe = RFE(model)\r\n",
        "\r\n",
        "model_rfe = GridSearchCV(estimator = rfe, \r\n",
        "                        param_grid = hyper_params, \r\n",
        "                        scoring= 'r2', \r\n",
        "                        cv = folds, \r\n",
        "                        verbose = 1,\r\n",
        "                        return_train_score=True)      \r\n",
        "model_rfe.fit(X, y)         \r\n",
        "# speculate that test set contains corner case which are not contained in train set. \r\n",
        "# Applies all data then use train test split"
      ],
      "execution_count": 14,
      "outputs": [
        {
          "output_type": "stream",
          "text": [
            "Fitting 5 folds for each of 11 candidates, totalling 55 fits\n"
          ],
          "name": "stdout"
        },
        {
          "output_type": "stream",
          "text": [
            "[Parallel(n_jobs=1)]: Using backend SequentialBackend with 1 concurrent workers.\n",
            "[Parallel(n_jobs=1)]: Done  55 out of  55 | elapsed:   12.4s finished\n"
          ],
          "name": "stderr"
        },
        {
          "output_type": "execute_result",
          "data": {
            "text/plain": [
              "GridSearchCV(cv=KFold(n_splits=5, random_state=None, shuffle=False),\n",
              "             error_score=nan,\n",
              "             estimator=RFE(estimator=Ridge(alpha=5.0, copy_X=True,\n",
              "                                           fit_intercept=True, max_iter=None,\n",
              "                                           normalize=False, random_state=None,\n",
              "                                           solver='auto', tol=0.001),\n",
              "                           n_features_to_select=None, step=1, verbose=0),\n",
              "             iid='deprecated', n_jobs=None,\n",
              "             param_grid=[{'n_features_to_select': [5, 6, 7, 8, 9, 10, 11, 12,\n",
              "                                                   13, 14, 15]}],\n",
              "             pre_dispatch='2*n_jobs', refit=True, return_train_score=True,\n",
              "             scoring='r2', verbose=1)"
            ]
          },
          "metadata": {
            "tags": []
          },
          "execution_count": 14
        }
      ]
    },
    {
      "cell_type": "code",
      "metadata": {
        "colab": {
          "base_uri": "https://localhost:8080/",
          "height": 437
        },
        "id": "2quQ8APY-IUE",
        "outputId": "9850cd1e-bf57-4ca9-b2aa-9ce0ee30d9ec"
      },
      "source": [
        "rfe_result = pd.DataFrame(model_rfe.cv_results_)\r\n",
        "rfe_result[rfe_result['rank_test_score'] == 1][['param_n_features_to_select','split0_test_score','split1_test_score','split2_test_score','split3_test_score','split4_test_score','mean_test_score','split0_train_score','split1_train_score','split2_train_score','split3_train_score','split4_train_score','mean_train_score']].transpose()\r\n",
        "# Seems like result is not improved."
      ],
      "execution_count": 29,
      "outputs": [
        {
          "output_type": "execute_result",
          "data": {
            "text/html": [
              "<div>\n",
              "<style scoped>\n",
              "    .dataframe tbody tr th:only-of-type {\n",
              "        vertical-align: middle;\n",
              "    }\n",
              "\n",
              "    .dataframe tbody tr th {\n",
              "        vertical-align: top;\n",
              "    }\n",
              "\n",
              "    .dataframe thead th {\n",
              "        text-align: right;\n",
              "    }\n",
              "</style>\n",
              "<table border=\"1\" class=\"dataframe\">\n",
              "  <thead>\n",
              "    <tr style=\"text-align: right;\">\n",
              "      <th></th>\n",
              "      <th>7</th>\n",
              "    </tr>\n",
              "  </thead>\n",
              "  <tbody>\n",
              "    <tr>\n",
              "      <th>param_n_features_to_select</th>\n",
              "      <td>12</td>\n",
              "    </tr>\n",
              "    <tr>\n",
              "      <th>split0_test_score</th>\n",
              "      <td>0.756219</td>\n",
              "    </tr>\n",
              "    <tr>\n",
              "      <th>split1_test_score</th>\n",
              "      <td>0.754497</td>\n",
              "    </tr>\n",
              "    <tr>\n",
              "      <th>split2_test_score</th>\n",
              "      <td>0.626821</td>\n",
              "    </tr>\n",
              "    <tr>\n",
              "      <th>split3_test_score</th>\n",
              "      <td>0.243499</td>\n",
              "    </tr>\n",
              "    <tr>\n",
              "      <th>split4_test_score</th>\n",
              "      <td>0.411864</td>\n",
              "    </tr>\n",
              "    <tr>\n",
              "      <th>mean_test_score</th>\n",
              "      <td>0.55858</td>\n",
              "    </tr>\n",
              "    <tr>\n",
              "      <th>split0_train_score</th>\n",
              "      <td>0.760013</td>\n",
              "    </tr>\n",
              "    <tr>\n",
              "      <th>split1_train_score</th>\n",
              "      <td>0.733648</td>\n",
              "    </tr>\n",
              "    <tr>\n",
              "      <th>split2_train_score</th>\n",
              "      <td>0.687895</td>\n",
              "    </tr>\n",
              "    <tr>\n",
              "      <th>split3_train_score</th>\n",
              "      <td>0.854481</td>\n",
              "    </tr>\n",
              "    <tr>\n",
              "      <th>split4_train_score</th>\n",
              "      <td>0.743511</td>\n",
              "    </tr>\n",
              "    <tr>\n",
              "      <th>mean_train_score</th>\n",
              "      <td>0.75591</td>\n",
              "    </tr>\n",
              "  </tbody>\n",
              "</table>\n",
              "</div>"
            ],
            "text/plain": [
              "                                   7\n",
              "param_n_features_to_select        12\n",
              "split0_test_score           0.756219\n",
              "split1_test_score           0.754497\n",
              "split2_test_score           0.626821\n",
              "split3_test_score           0.243499\n",
              "split4_test_score           0.411864\n",
              "mean_test_score              0.55858\n",
              "split0_train_score          0.760013\n",
              "split1_train_score          0.733648\n",
              "split2_train_score          0.687895\n",
              "split3_train_score          0.854481\n",
              "split4_train_score          0.743511\n",
              "mean_train_score             0.75591"
            ]
          },
          "metadata": {
            "tags": []
          },
          "execution_count": 29
        }
      ]
    },
    {
      "cell_type": "markdown",
      "metadata": {
        "id": "HXTTLZhVCLHO"
      },
      "source": [
        "# Extra: train test split ver2"
      ]
    },
    {
      "cell_type": "code",
      "metadata": {
        "colab": {
          "base_uri": "https://localhost:8080/"
        },
        "id": "mdU9x0e6CTRK",
        "outputId": "eace2f15-2800-4265-dd1c-dcc8fa6d1d88"
      },
      "source": [
        "np.sort(y_test)"
      ],
      "execution_count": 16,
      "outputs": [
        {
          "output_type": "execute_result",
          "data": {
            "text/plain": [
              "array([ 5.6,  7.4,  8.3,  8.4,  8.8,  9.7, 10.2, 10.4, 10.5, 11.8, 11.9,\n",
              "       12.3, 13.3, 13.4, 13.8, 13.8, 14.1, 14.5, 14.6, 14.9, 15. , 15. ,\n",
              "       15.2, 15.6, 15.6, 16.1, 16.5, 16.5, 16.8, 17. , 17.1, 17.1, 17.2,\n",
              "       17.2, 17.2, 18.3, 18.6, 18.6, 18.7, 18.7, 18.7, 18.8, 18.9, 19.1,\n",
              "       19.3, 19.4, 19.4, 19.6, 19.8, 19.8, 19.9, 20. , 20. , 20. , 20.1,\n",
              "       20.1, 20.3, 20.3, 20.4, 20.4, 20.5, 20.6, 20.6, 21. , 21. , 21.2,\n",
              "       21.2, 21.4, 21.4, 21.6, 21.7, 21.7, 21.7, 21.9, 21.9, 22. , 22.6,\n",
              "       22.6, 22.6, 22.9, 23. , 23. , 23. , 23. , 23.1, 23.1, 23.2, 23.3,\n",
              "       23.3, 23.5, 23.6, 23.7, 23.8, 23.9, 24.3, 24.3, 24.4, 24.4, 24.7,\n",
              "       24.8, 26.4, 26.7, 27.1, 27.5, 27.5, 27.9, 28.1, 29. , 29.1, 29.4,\n",
              "       29.8, 30.5, 31.2, 31.5, 33.1, 33.3, 33.4, 38.7, 41.3, 42.8, 44.8,\n",
              "       48.3, 50. , 50. , 50. , 50. , 50. ])"
            ]
          },
          "metadata": {
            "tags": []
          },
          "execution_count": 16
        }
      ]
    },
    {
      "cell_type": "code",
      "metadata": {
        "colab": {
          "base_uri": "https://localhost:8080/"
        },
        "id": "zitw3JtpEKBl",
        "outputId": "7dd5e441-9c27-429c-9462-8daa69823fca"
      },
      "source": [
        "np.sort(y_train)\r\n",
        "# No outlier shown comparing y_train and y_test. Probably it's in x"
      ],
      "execution_count": 17,
      "outputs": [
        {
          "output_type": "execute_result",
          "data": {
            "text/plain": [
              "array([ 5. ,  5. ,  6.3,  7. ,  7. ,  7.2,  7.2,  7.2,  7.5,  8.1,  8.3,\n",
              "        8.4,  8.5,  8.5,  8.7,  8.8,  9.5,  9.6, 10.2, 10.2, 10.4, 10.5,\n",
              "       10.8, 10.9, 10.9, 11. , 11.3, 11.5, 11.7, 11.7, 11.8, 11.9, 12. ,\n",
              "       12.1, 12.5, 12.6, 12.7, 12.7, 12.7, 12.8, 13. , 13.1, 13.1, 13.1,\n",
              "       13.1, 13.2, 13.3, 13.3, 13.4, 13.4, 13.4, 13.5, 13.5, 13.6, 13.6,\n",
              "       13.8, 13.8, 13.8, 13.9, 13.9, 14. , 14.1, 14.1, 14.2, 14.3, 14.3,\n",
              "       14.4, 14.4, 14.5, 14.5, 14.6, 14.8, 14.9, 14.9, 15. , 15.1, 15.2,\n",
              "       15.2, 15.3, 15.4, 15.4, 15.6, 15.6, 15.6, 15.7, 16. , 16.1, 16.1,\n",
              "       16.2, 16.2, 16.3, 16.4, 16.6, 16.6, 16.7, 16.7, 16.8, 17.1, 17.3,\n",
              "       17.4, 17.4, 17.4, 17.5, 17.5, 17.5, 17.6, 17.7, 17.8, 17.8, 17.8,\n",
              "       17.8, 17.8, 17.9, 18. , 18.1, 18.2, 18.2, 18.2, 18.3, 18.4, 18.4,\n",
              "       18.4, 18.5, 18.5, 18.5, 18.5, 18.8, 18.9, 18.9, 18.9, 19. , 19. ,\n",
              "       19.1, 19.1, 19.1, 19.2, 19.2, 19.3, 19.3, 19.3, 19.3, 19.4, 19.4,\n",
              "       19.4, 19.4, 19.5, 19.5, 19.5, 19.5, 19.6, 19.6, 19.6, 19.6, 19.7,\n",
              "       19.7, 19.8, 19.9, 19.9, 19.9, 20. , 20. , 20.1, 20.1, 20.1, 20.2,\n",
              "       20.2, 20.3, 20.3, 20.4, 20.4, 20.5, 20.5, 20.6, 20.6, 20.6, 20.6,\n",
              "       20.7, 20.7, 20.8, 20.8, 20.8, 20.9, 20.9, 21. , 21.1, 21.1, 21.2,\n",
              "       21.2, 21.2, 21.4, 21.4, 21.4, 21.5, 21.5, 21.6, 21.7, 21.7, 21.7,\n",
              "       21.7, 21.8, 21.8, 21.9, 22. , 22. , 22. , 22. , 22. , 22. , 22.1,\n",
              "       22.2, 22.2, 22.2, 22.2, 22.2, 22.3, 22.3, 22.4, 22.4, 22.5, 22.5,\n",
              "       22.5, 22.6, 22.6, 22.7, 22.7, 22.8, 22.8, 22.8, 22.8, 22.9, 22.9,\n",
              "       22.9, 23.1, 23.1, 23.1, 23.1, 23.1, 23.2, 23.2, 23.2, 23.3, 23.3,\n",
              "       23.4, 23.4, 23.6, 23.7, 23.7, 23.7, 23.8, 23.8, 23.8, 23.9, 23.9,\n",
              "       23.9, 23.9, 24. , 24. , 24.1, 24.1, 24.1, 24.2, 24.3, 24.4, 24.4,\n",
              "       24.5, 24.5, 24.5, 24.6, 24.6, 24.7, 24.7, 24.8, 24.8, 24.8, 25. ,\n",
              "       25. , 25. , 25. , 25. , 25. , 25. , 25. , 25.1, 25.2, 25.3, 26.2,\n",
              "       26.4, 26.5, 26.6, 26.6, 26.6, 27. , 27.1, 27.5, 27.5, 27.9, 28. ,\n",
              "       28.2, 28.4, 28.4, 28.5, 28.6, 28.7, 28.7, 28.7, 29. , 29.1, 29.6,\n",
              "       29.6, 29.8, 29.9, 30.1, 30.1, 30.1, 30.3, 30.7, 30.8, 31. , 31.1,\n",
              "       31.5, 31.6, 31.6, 31.7, 32. , 32. , 32.2, 32.4, 32.5, 32.7, 32.9,\n",
              "       33. , 33.1, 33.2, 33.2, 33.4, 33.8, 34.6, 34.7, 34.9, 34.9, 34.9,\n",
              "       35.1, 35.2, 35.4, 35.4, 36. , 36.1, 36.2, 36.2, 36.4, 36.5, 37. ,\n",
              "       37.2, 37.3, 37.6, 37.9, 39.8, 41.7, 42.3, 43.1, 43.5, 43.8, 44. ,\n",
              "       45.4, 46. , 46.7, 48.5, 48.8, 50. , 50. , 50. , 50. , 50. , 50. ,\n",
              "       50. , 50. , 50. , 50. , 50. ])"
            ]
          },
          "metadata": {
            "tags": []
          },
          "execution_count": 17
        }
      ]
    },
    {
      "cell_type": "code",
      "metadata": {
        "id": "nU1nwiGxLJLw"
      },
      "source": [
        "# try different random state\r\n",
        "X_train, X_test, y_train, y_test = train_test_split(X,y, random_state=42)  "
      ],
      "execution_count": 39,
      "outputs": []
    },
    {
      "cell_type": "code",
      "metadata": {
        "colab": {
          "base_uri": "https://localhost:8080/",
          "height": 548
        },
        "id": "-O8AGg0bHhfV",
        "outputId": "ab2ffef5-5eeb-4445-f5b1-e83a1e11ea7f"
      },
      "source": [
        "alpha_range      = np.linspace(0.025,5, 200)\r\n",
        "train_scores = [] \r\n",
        "test_scores  = [] \r\n",
        "coefs       = []\r\n",
        "\r\n",
        "for alpha in alpha_range:\r\n",
        "    model = Ridge(alpha=alpha).fit(X_train, y_train)\r\n",
        "    train_scores.append( model.score( X_train, y_train) )\r\n",
        "    test_scores.append ( model.score( X_test,  y_test ) )\r\n",
        "    coefs.append(model.coef_)\r\n",
        "\r\n",
        "plot_ridge_result(alpha_range, train_scores, test_scores, coefs)\r\n",
        "\r\n",
        "# Seems like this split yields much better result. Will study this further in future"
      ],
      "execution_count": 41,
      "outputs": [
        {
          "output_type": "display_data",
          "data": {
            "image/png": "[encoded data removed]",
            "text/plain": [
              "<Figure size 432x288 with 1 Axes>"
            ]
          },
          "metadata": {
            "tags": []
          }
        },
        {
          "output_type": "display_data",
          "data": {
            "image/png": "[encoded data removed]",
            "text/plain": [
              "<Figure size 432x288 with 1 Axes>"
            ]
          },
          "metadata": {
            "tags": []
          }
        }
      ]
    }
  ]
}