{
  "nbformat": 4,
  "nbformat_minor": 0,
  "metadata": {
    "colab": {
      "name": "Sklearn_F-Selection_Iterative_vs_ModelBased.ipynb",
      "provenance": [],
      "collapsed_sections": [],
      "authorship_tag": "ABX9TyNTGP26+e0Bc/kdLqBt1j39"
    },
    "kernelspec": {
      "name": "python3",
      "display_name": "Python 3"
    }
  },
  "cells": [
    {
      "cell_type": "markdown",
      "metadata": {
        "id": "RX2id3wadoQv"
      },
      "source": [
        "<b>RFE (recursive feature elimination)</b> <br>\r\n",
        "select features by recursively considering smaller and smaller sets of features based ranking in feature weight/importance analysis\r\n",
        "\r\n",
        "1. Train estimator with initial set of features and the importance of each feature.\r\n",
        "2. The least important feature(s) is removed from consideration\r\n",
        "3. Repeat (1) and (2) until desired # features is obtained."
      ]
    },
    {
      "cell_type": "markdown",
      "metadata": {
        "id": "q2b1LTaFmGoY"
      },
      "source": [
        "<b> SelectFromMode</b> <br>\r\n",
        "Like RFE without iteration. Ranking for feature selection is based on mean or median of feature importance estimated by ML model"
      ]
    },
    {
      "cell_type": "markdown",
      "metadata": {
        "id": "qHcCTQnVfQWP"
      },
      "source": [
        "# Import Model"
      ]
    },
    {
      "cell_type": "code",
      "metadata": {
        "id": "SSZsKN15B4Oh"
      },
      "source": [
        "import numpy as np\r\n",
        "import matplotlib.pyplot as plt\r\n",
        "from sklearn.model_selection import train_test_split\r\n",
        "from sklearn.ensemble import RandomForestClassifier\r\n",
        "from sklearn.feature_selection import RFE, SelectFromModel\r\n",
        "\r\n",
        "from sklearn.datasets import load_breast_cancer"
      ],
      "execution_count": 1,
      "outputs": []
    },
    {
      "cell_type": "markdown",
      "metadata": {
        "id": "iUO6w2YdffiA"
      },
      "source": [
        "# Load Data & Pre-Process"
      ]
    },
    {
      "cell_type": "code",
      "metadata": {
        "id": "cPzBt_fwfe4O"
      },
      "source": [
        "data_obj = load_breast_cancer()"
      ],
      "execution_count": 2,
      "outputs": []
    },
    {
      "cell_type": "code",
      "metadata": {
        "id": "8FpMM4vzfpBQ"
      },
      "source": [
        "# Add 50 fake fetures with random values\r\n",
        "\r\n",
        "rvg  = np.random.RandomState(42)                        # random value generator\r\n",
        "rv   = rvg.normal( size=(len(data_obj.data),50) )       # 50 new fake features with same amound of rows as raw data\r\n",
        "X = np.hstack([data_obj.data, rv])\r\n",
        "y = data_obj.target"
      ],
      "execution_count": 3,
      "outputs": []
    },
    {
      "cell_type": "code",
      "metadata": {
        "colab": {
          "base_uri": "https://localhost:8080/"
        },
        "id": "Bx4dJvXwf8m8",
        "outputId": "cf510846-994f-4c7a-a4e3-143219a1b536"
      },
      "source": [
        "print(f'Ori input size : {data_obj.data.shape}')\r\n",
        "print(f'New input size : {X.shape}')"
      ],
      "execution_count": 4,
      "outputs": [
        {
          "output_type": "stream",
          "text": [
            "Ori input size : (569, 30)\n",
            "New input size : (569, 80)\n"
          ],
          "name": "stdout"
        }
      ]
    },
    {
      "cell_type": "code",
      "metadata": {
        "id": "n8ypg0gkh5yH"
      },
      "source": [
        "X_train, X_test, y_train, y_test = train_test_split(X, y, test_size=0.5, random_state=0)"
      ],
      "execution_count": 5,
      "outputs": []
    },
    {
      "cell_type": "markdown",
      "metadata": {
        "id": "RzIahcNzh35M"
      },
      "source": [
        "# Train Model"
      ]
    },
    {
      "cell_type": "code",
      "metadata": {
        "id": "xyDudTWposY1"
      },
      "source": [
        "classifier = RandomForestClassifier(n_estimators=100, random_state=0)"
      ],
      "execution_count": 6,
      "outputs": []
    },
    {
      "cell_type": "markdown",
      "metadata": {
        "id": "-jEFZ8I4oGWl"
      },
      "source": [
        "## RFE"
      ]
    },
    {
      "cell_type": "code",
      "metadata": {
        "colab": {
          "base_uri": "https://localhost:8080/"
        },
        "id": "_x-01cqhiWWx",
        "outputId": "77a913c5-26c2-4a3c-8947-e02196bdaa6d"
      },
      "source": [
        "model_rfe = RFE(classifier, n_features_to_select=30)\r\n",
        "model_rfe.fit(X_train, y_train)"
      ],
      "execution_count": 7,
      "outputs": [
        {
          "output_type": "execute_result",
          "data": {
            "text/plain": [
              "RFE(estimator=RandomForestClassifier(bootstrap=True, ccp_alpha=0.0,\n",
              "                                     class_weight=None, criterion='gini',\n",
              "                                     max_depth=None, max_features='auto',\n",
              "                                     max_leaf_nodes=None, max_samples=None,\n",
              "                                     min_impurity_decrease=0.0,\n",
              "                                     min_impurity_split=None,\n",
              "                                     min_samples_leaf=1, min_samples_split=2,\n",
              "                                     min_weight_fraction_leaf=0.0,\n",
              "                                     n_estimators=100, n_jobs=None,\n",
              "                                     oob_score=False, random_state=0, verbose=0,\n",
              "                                     warm_start=False),\n",
              "    n_features_to_select=30, step=1, verbose=0)"
            ]
          },
          "metadata": {
            "tags": []
          },
          "execution_count": 7
        }
      ]
    },
    {
      "cell_type": "code",
      "metadata": {
        "colab": {
          "base_uri": "https://localhost:8080/"
        },
        "id": "-RtlpQ-li3PS",
        "outputId": "bd6df1a3-8a80-46a2-a489-c734e0104d80"
      },
      "source": [
        "print(f'Before feature selection : {X_train.shape}')\r\n",
        "print(f'After  feature selection : {model_rfe.transform(X_train).shape}')"
      ],
      "execution_count": 8,
      "outputs": [
        {
          "output_type": "stream",
          "text": [
            "Before feature selection : (284, 80)\n",
            "After  feature selection : (284, 30)\n"
          ],
          "name": "stdout"
        }
      ]
    },
    {
      "cell_type": "markdown",
      "metadata": {
        "id": "RhqhqvrXoKFw"
      },
      "source": [
        "## SelectFromModel"
      ]
    },
    {
      "cell_type": "code",
      "metadata": {
        "colab": {
          "base_uri": "https://localhost:8080/"
        },
        "id": "Rz0x3aQjobGD",
        "outputId": "05d9103a-e40b-417f-bc4b-a5154c09294a"
      },
      "source": [
        "model_sfm = SelectFromModel(classifier, max_features=30, threshold='median')\r\n",
        "model_sfm.fit(X_train, y_train)"
      ],
      "execution_count": 17,
      "outputs": [
        {
          "output_type": "execute_result",
          "data": {
            "text/plain": [
              "SelectFromModel(estimator=RandomForestClassifier(bootstrap=True, ccp_alpha=0.0,\n",
              "                                                 class_weight=None,\n",
              "                                                 criterion='gini',\n",
              "                                                 max_depth=None,\n",
              "                                                 max_features='auto',\n",
              "                                                 max_leaf_nodes=None,\n",
              "                                                 max_samples=None,\n",
              "                                                 min_impurity_decrease=0.0,\n",
              "                                                 min_impurity_split=None,\n",
              "                                                 min_samples_leaf=1,\n",
              "                                                 min_samples_split=2,\n",
              "                                                 min_weight_fraction_leaf=0.0,\n",
              "                                                 n_estimators=100, n_jobs=None,\n",
              "                                                 oob_score=False,\n",
              "                                                 random_state=0, verbose=0,\n",
              "                                                 warm_start=False),\n",
              "                max_features=30, norm_order=1, prefit=False,\n",
              "                threshold='median')"
            ]
          },
          "metadata": {
            "tags": []
          },
          "execution_count": 17
        }
      ]
    },
    {
      "cell_type": "markdown",
      "metadata": {
        "id": "2xtrKHBDjZF-"
      },
      "source": [
        "# Evaluation : Feature Importance"
      ]
    },
    {
      "cell_type": "code",
      "metadata": {
        "colab": {
          "base_uri": "https://localhost:8080/"
        },
        "id": "J_4Cf4JPranY",
        "outputId": "0d419204-133a-4087-b425-abbf19aeff30"
      },
      "source": [
        "n_feature_ori = data_obj.data.shape[1]\r\n",
        "n_feature_ori"
      ],
      "execution_count": 10,
      "outputs": [
        {
          "output_type": "execute_result",
          "data": {
            "text/plain": [
              "30"
            ]
          },
          "metadata": {
            "tags": []
          },
          "execution_count": 10
        }
      ]
    },
    {
      "cell_type": "markdown",
      "metadata": {
        "id": "Nf6pQ_7ioOXv"
      },
      "source": [
        "## RFE"
      ]
    },
    {
      "cell_type": "code",
      "metadata": {
        "colab": {
          "base_uri": "https://localhost:8080/"
        },
        "id": "E2Z61w4-jxwo",
        "outputId": "2b9d0473-6d24-4fe8-d0f6-ff1b01fc92c8"
      },
      "source": [
        "mask_rfe = model_rfe.get_support()                          # mask of the features selected\r\n",
        "\r\n",
        "n_selected_from_ori_rfe = sum(1 for i in mask_rfe[:n_feature_ori] if i == True)\r\n",
        "acc_rfe = n_selected_from_ori_rfe  / n_feature_ori       # Find accuracy of selecting the original features\r\n",
        "print(f'# Feature selected from Ori : {n_selected_from_ori_rfe}')\r\n",
        "print(f'RFE accuracy : {acc_rfe:.0%}')\r\n",
        "\r\n",
        "# Seem not bad"
      ],
      "execution_count": 11,
      "outputs": [
        {
          "output_type": "stream",
          "text": [
            "# Feature selected from Ori : 26\n",
            "RFE accuracy : 87%\n"
          ],
          "name": "stdout"
        }
      ]
    },
    {
      "cell_type": "code",
      "metadata": {
        "colab": {
          "base_uri": "https://localhost:8080/",
          "height": 73
        },
        "id": "B69R3wozjeYP",
        "outputId": "85f0897e-74fe-406c-e7c0-a2d50c468d47"
      },
      "source": [
        "plt.matshow(mask_rfe.reshape(1,-1), cmap='gray_r')\r\n",
        "plt.xlabel('Sample index')\r\n",
        "plt.yticks([])\r\n",
        "plt.show()"
      ],
      "execution_count": 12,
      "outputs": [
        {
          "output_type": "display_data",
          "data": {
            "image/png": "[encoded data removed]",
            "text/plain": [
              "<Figure size 1152x144 with 1 Axes>"
            ]
          },
          "metadata": {
            "tags": [],
            "needs_background": "light"
          }
        }
      ]
    },
    {
      "cell_type": "markdown",
      "metadata": {
        "id": "KZwHJdbJoRZh"
      },
      "source": [
        "## SelectFromModel"
      ]
    },
    {
      "cell_type": "code",
      "metadata": {
        "colab": {
          "base_uri": "https://localhost:8080/"
        },
        "id": "PxK3dUmupIUP",
        "outputId": "0c9e75b0-01a5-4c92-da85-826517487768"
      },
      "source": [
        "mask_sfm = model_sfm.get_support()                          # mask of the features selected\r\n",
        "\r\n",
        "n_selected_from_ori_sfm = sum(1 for i in mask_sfm[:n_feature_ori] if i == True)\r\n",
        "acc_sfm = n_selected_from_ori_sfm  / n_feature_ori       # Find accuracy of selecting the original features\r\n",
        "print(f'# Feature selected from Ori : {n_selected_from_ori_sfm}')\r\n",
        "print(f'RFE accuracy : {acc_sfm:.0%}')"
      ],
      "execution_count": 18,
      "outputs": [
        {
          "output_type": "stream",
          "text": [
            "# Feature selected from Ori : 25\n",
            "RFE accuracy : 83%\n"
          ],
          "name": "stdout"
        }
      ]
    },
    {
      "cell_type": "code",
      "metadata": {
        "colab": {
          "base_uri": "https://localhost:8080/",
          "height": 73
        },
        "id": "n9szfxqCpPKj",
        "outputId": "5f6070ff-0ebd-4dad-fec9-b4d10215042a"
      },
      "source": [
        "plt.matshow(mask_sfm.reshape(1,-1), cmap='gray_r')\r\n",
        "plt.xlabel('Sample index')\r\n",
        "plt.yticks([])\r\n",
        "plt.show()\r\n",
        "\r\n",
        "# accuracy and selection are similar to RFE. \r\n",
        "# SFM is more preferable in this case as non-recursive training is much faster  "
      ],
      "execution_count": 19,
      "outputs": [
        {
          "output_type": "display_data",
          "data": {
            "image/png": "[encoded data removed]",
            "text/plain": [
              "<Figure size 1152x144 with 1 Axes>"
            ]
          },
          "metadata": {
            "tags": [],
            "needs_background": "light"
          }
        }
      ]
    }
  ]
}