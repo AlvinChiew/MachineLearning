{
  "nbformat": 4,
  "nbformat_minor": 0,
  "metadata": {
    "colab": {
      "name": "TF2.0_Regression_MooresLaw.ipynb",
      "provenance": [],
      "collapsed_sections": [],
      "authorship_tag": "ABX9TyO2zrDyclpIOFKLES/uWBRB",
      "include_colab_link": true
    },
    "kernelspec": {
      "name": "python3",
      "display_name": "Python 3"
    }
  },
  "cells": [
    {
      "cell_type": "markdown",
      "metadata": {
        "id": "view-in-github",
        "colab_type": "text"
      },
      "source": [
        "<a href=\"https://colab.research.google.com/github/AlvinChiew/MachineLearning/blob/main/TF2_0_Regression_MooresLaw.ipynb\" target=\"_parent\"><img src=\"https://colab.research.google.com/assets/colab-badge.svg\" alt=\"Open In Colab\"/></a>"
      ]
    },
    {
      "cell_type": "code",
      "metadata": {
        "id": "3ISsRpKV0UJu"
      },
      "source": [
        "import tensorflow as tf\n",
        "import pandas as pd\n",
        "import numpy as np\n",
        "import matplotlib.pyplot as plt"
      ],
      "execution_count": 1,
      "outputs": []
    },
    {
      "cell_type": "markdown",
      "metadata": {
        "id": "_Gxa-GAN5GWj"
      },
      "source": [
        "# Import Data"
      ]
    },
    {
      "cell_type": "code",
      "metadata": {
        "colab": {
          "base_uri": "https://localhost:8080/"
        },
        "id": "GMV6Ualw6t6G",
        "outputId": "2f3dca74-0f33-406e-f8f2-b84223ea830c"
      },
      "source": [
        "!wget https://raw.githubusercontent.com/AlvinChiew/MachineLearning/main/raw_data/moore.csv\n",
        "data = pd.read_csv('moore.csv', header=None).values"
      ],
      "execution_count": 2,
      "outputs": [
        {
          "output_type": "stream",
          "text": [
            "--2020-12-06 12:54:03--  https://raw.githubusercontent.com/AlvinChiew/MachineLearning/main/raw_data/moore.csv\n",
            "Resolving raw.githubusercontent.com (raw.githubusercontent.com)... 151.101.0.133, 151.101.64.133, 151.101.128.133, ...\n",
            "Connecting to raw.githubusercontent.com (raw.githubusercontent.com)|151.101.0.133|:443... connected.\n",
            "HTTP request sent, awaiting response... 200 OK\n",
            "Length: 2302 (2.2K) [text/plain]\n",
            "Saving to: ‘moore.csv’\n",
            "\n",
            "\rmoore.csv             0%[                    ]       0  --.-KB/s               \rmoore.csv           100%[===================>]   2.25K  --.-KB/s    in 0s      \n",
            "\n",
            "2020-12-06 12:54:03 (61.3 MB/s) - ‘moore.csv’ saved [2302/2302]\n",
            "\n"
          ],
          "name": "stdout"
        }
      ]
    },
    {
      "cell_type": "markdown",
      "metadata": {
        "id": "NpZi4uAQE9yI"
      },
      "source": [
        "# Data Pre-Processing"
      ]
    },
    {
      "cell_type": "code",
      "metadata": {
        "colab": {
          "base_uri": "https://localhost:8080/",
          "height": 293
        },
        "id": "_NX91z_J4wwn",
        "outputId": "d81ed440-59b9-42e7-a550-2eed7dbb5f3d"
      },
      "source": [
        "X = data[:,0]\n",
        "y = data[:,1]\n",
        "plt.scatter(X,y)"
      ],
      "execution_count": 3,
      "outputs": [
        {
          "output_type": "execute_result",
          "data": {
            "text/plain": [
              "<matplotlib.collections.PathCollection at 0x7f1854111048>"
            ]
          },
          "metadata": {
            "tags": []
          },
          "execution_count": 3
        },
        {
          "output_type": "display_data",
          "data": {
            "image/png": "[encoded data removed]",
            "text/plain": [
              "<Figure size 432x288 with 1 Axes>"
            ]
          },
          "metadata": {
            "tags": [],
            "needs_background": "light"
          }
        }
      ]
    },
    {
      "cell_type": "code",
      "metadata": {
        "colab": {
          "base_uri": "https://localhost:8080/",
          "height": 282
        },
        "id": "jCDR0WKkDmXd",
        "outputId": "297910d6-d6d7-4d6b-ea73-eef78ecb03a2"
      },
      "source": [
        "X = X - X.mean()\n",
        "y = np.log(y)\n",
        "plt.scatter(X,y)"
      ],
      "execution_count": 5,
      "outputs": [
        {
          "output_type": "execute_result",
          "data": {
            "text/plain": [
              "<matplotlib.collections.PathCollection at 0x7f1853b29be0>"
            ]
          },
          "metadata": {
            "tags": []
          },
          "execution_count": 5
        },
        {
          "output_type": "display_data",
          "data": {
            "image/png": "[encoded data removed]",
            "text/plain": [
              "<Figure size 432x288 with 1 Axes>"
            ]
          },
          "metadata": {
            "tags": [],
            "needs_background": "light"
          }
        }
      ]
    },
    {
      "cell_type": "markdown",
      "metadata": {
        "id": "rISq9HKmFFXq"
      },
      "source": [
        "# Data Modeling"
      ]
    },
    {
      "cell_type": "code",
      "metadata": {
        "colab": {
          "base_uri": "https://localhost:8080/"
        },
        "id": "uXOENjB9FDcT",
        "outputId": "9db1d87b-43aa-4e4e-e96e-7b3fe1d6d2f1"
      },
      "source": [
        "# Now create our Tensorflow model\n",
        "model = tf.keras.models.Sequential()\n",
        "model.add(\n",
        "    tf.keras.layers.Dense(\n",
        "        1,\n",
        "        input_shape=(1,)\n",
        "    )\n",
        ")\n",
        "\n",
        "model.compile(\n",
        "    optimizer=tf.keras.optimizers.SGD(0.001, 0.9),\n",
        "    loss='mse'\n",
        ")\n",
        "\n",
        "# model.compile(\n",
        "#     optimizer='adam', \n",
        "#     loss='mse'\n",
        "# )\n",
        "\n",
        "\n",
        "# learning rate scheduler\n",
        "def schedule(epoch, lr):\n",
        "    if epoch >= 50:\n",
        "        return 0.0001\n",
        "    return 0.001\n",
        "\n",
        "scheduler = tf.keras.callbacks.LearningRateScheduler(schedule)\n",
        "\n",
        "# Train the model\n",
        "log = model.fit(X, y, epochs=200, callbacks=[scheduler])"
      ],
      "execution_count": 7,
      "outputs": [
        {
          "output_type": "stream",
          "text": [
            "Epoch 1/200\n",
            "6/6 [==============================] - 0s 2ms/step - loss: 12.9128\n",
            "Epoch 2/200\n",
            "6/6 [==============================] - 0s 1ms/step - loss: 12.9138\n",
            "Epoch 3/200\n",
            "6/6 [==============================] - 0s 1ms/step - loss: 14.0739\n",
            "Epoch 4/200\n",
            "6/6 [==============================] - 0s 1ms/step - loss: 13.1939\n",
            "Epoch 5/200\n",
            "6/6 [==============================] - 0s 1ms/step - loss: 7.8391\n",
            "Epoch 6/200\n",
            "6/6 [==============================] - 0s 1ms/step - loss: 4.3337\n",
            "Epoch 7/200\n",
            "6/6 [==============================] - 0s 1ms/step - loss: 3.2754\n",
            "Epoch 8/200\n",
            "6/6 [==============================] - 0s 2ms/step - loss: 2.5919\n",
            "Epoch 9/200\n",
            "6/6 [==============================] - 0s 1ms/step - loss: 2.3107\n",
            "Epoch 10/200\n",
            "6/6 [==============================] - 0s 2ms/step - loss: 2.1658\n",
            "Epoch 11/200\n",
            "6/6 [==============================] - 0s 2ms/step - loss: 1.7467\n",
            "Epoch 12/200\n",
            "6/6 [==============================] - 0s 1ms/step - loss: 1.6046\n",
            "Epoch 13/200\n",
            "6/6 [==============================] - 0s 2ms/step - loss: 1.1406\n",
            "Epoch 14/200\n",
            "6/6 [==============================] - 0s 1ms/step - loss: 0.6312\n",
            "Epoch 15/200\n",
            "6/6 [==============================] - 0s 1ms/step - loss: 0.3055\n",
            "Epoch 16/200\n",
            "6/6 [==============================] - 0s 1ms/step - loss: 0.2867\n",
            "Epoch 17/200\n",
            "6/6 [==============================] - 0s 1ms/step - loss: 0.1412\n",
            "Epoch 18/200\n",
            "6/6 [==============================] - 0s 2ms/step - loss: 0.0978\n",
            "Epoch 19/200\n",
            "6/6 [==============================] - 0s 1ms/step - loss: 0.0869\n",
            "Epoch 20/200\n",
            "6/6 [==============================] - 0s 1ms/step - loss: 0.0741\n",
            "Epoch 21/200\n",
            "6/6 [==============================] - 0s 1ms/step - loss: 0.0680\n",
            "Epoch 22/200\n",
            "6/6 [==============================] - 0s 1ms/step - loss: 0.0495\n",
            "Epoch 23/200\n",
            "6/6 [==============================] - 0s 1ms/step - loss: 0.0380\n",
            "Epoch 24/200\n",
            "6/6 [==============================] - 0s 1ms/step - loss: 0.0251\n",
            "Epoch 25/200\n",
            "6/6 [==============================] - 0s 1ms/step - loss: 0.0183\n",
            "Epoch 26/200\n",
            "6/6 [==============================] - 0s 1ms/step - loss: 0.0124\n",
            "Epoch 27/200\n",
            "6/6 [==============================] - 0s 1ms/step - loss: 0.0227\n",
            "Epoch 28/200\n",
            "6/6 [==============================] - 0s 1ms/step - loss: 0.0193\n",
            "Epoch 29/200\n",
            "6/6 [==============================] - 0s 1ms/step - loss: 0.0185\n",
            "Epoch 30/200\n",
            "6/6 [==============================] - 0s 1ms/step - loss: 0.0105\n",
            "Epoch 31/200\n",
            "6/6 [==============================] - 0s 1ms/step - loss: 0.0092\n",
            "Epoch 32/200\n",
            "6/6 [==============================] - 0s 1ms/step - loss: 0.0137\n",
            "Epoch 33/200\n",
            "6/6 [==============================] - 0s 1ms/step - loss: 0.0133\n",
            "Epoch 34/200\n",
            "6/6 [==============================] - 0s 1ms/step - loss: 0.0126\n",
            "Epoch 35/200\n",
            "6/6 [==============================] - 0s 2ms/step - loss: 0.0083\n",
            "Epoch 36/200\n",
            "6/6 [==============================] - 0s 1ms/step - loss: 0.0076\n",
            "Epoch 37/200\n",
            "6/6 [==============================] - 0s 1ms/step - loss: 0.0082\n",
            "Epoch 38/200\n",
            "6/6 [==============================] - 0s 1ms/step - loss: 0.0068\n",
            "Epoch 39/200\n",
            "6/6 [==============================] - 0s 1ms/step - loss: 0.0059\n",
            "Epoch 40/200\n",
            "6/6 [==============================] - 0s 1ms/step - loss: 0.0055\n",
            "Epoch 41/200\n",
            "6/6 [==============================] - 0s 1ms/step - loss: 0.0057\n",
            "Epoch 42/200\n",
            "6/6 [==============================] - 0s 1ms/step - loss: 0.0076\n",
            "Epoch 43/200\n",
            "6/6 [==============================] - 0s 2ms/step - loss: 0.0072\n",
            "Epoch 44/200\n",
            "6/6 [==============================] - 0s 1ms/step - loss: 0.0063\n",
            "Epoch 45/200\n",
            "6/6 [==============================] - 0s 2ms/step - loss: 0.0054\n",
            "Epoch 46/200\n",
            "6/6 [==============================] - 0s 1ms/step - loss: 0.0054\n",
            "Epoch 47/200\n",
            "6/6 [==============================] - 0s 2ms/step - loss: 0.0054\n",
            "Epoch 48/200\n",
            "6/6 [==============================] - 0s 1ms/step - loss: 0.0056\n",
            "Epoch 49/200\n",
            "6/6 [==============================] - 0s 1ms/step - loss: 0.0061\n",
            "Epoch 50/200\n",
            "6/6 [==============================] - 0s 2ms/step - loss: 0.0062\n",
            "Epoch 51/200\n",
            "6/6 [==============================] - 0s 1ms/step - loss: 0.0086\n",
            "Epoch 52/200\n",
            "6/6 [==============================] - 0s 1ms/step - loss: 0.0093\n",
            "Epoch 53/200\n",
            "6/6 [==============================] - 0s 1ms/step - loss: 0.0057\n",
            "Epoch 54/200\n",
            "6/6 [==============================] - 0s 1ms/step - loss: 0.0064\n",
            "Epoch 55/200\n",
            "6/6 [==============================] - 0s 1ms/step - loss: 0.0057\n",
            "Epoch 56/200\n",
            "6/6 [==============================] - 0s 1ms/step - loss: 0.0054\n",
            "Epoch 57/200\n",
            "6/6 [==============================] - 0s 1ms/step - loss: 0.0056\n",
            "Epoch 58/200\n",
            "6/6 [==============================] - 0s 2ms/step - loss: 0.0053\n",
            "Epoch 59/200\n",
            "6/6 [==============================] - 0s 1ms/step - loss: 0.0054\n",
            "Epoch 60/200\n",
            "6/6 [==============================] - 0s 1ms/step - loss: 0.0054\n",
            "Epoch 61/200\n",
            "6/6 [==============================] - 0s 1ms/step - loss: 0.0053\n",
            "Epoch 62/200\n",
            "6/6 [==============================] - 0s 2ms/step - loss: 0.0053\n",
            "Epoch 63/200\n",
            "6/6 [==============================] - 0s 2ms/step - loss: 0.0053\n",
            "Epoch 64/200\n",
            "6/6 [==============================] - 0s 2ms/step - loss: 0.0054\n",
            "Epoch 65/200\n",
            "6/6 [==============================] - 0s 1ms/step - loss: 0.0052\n",
            "Epoch 66/200\n",
            "6/6 [==============================] - 0s 2ms/step - loss: 0.0054\n",
            "Epoch 67/200\n",
            "6/6 [==============================] - 0s 1ms/step - loss: 0.0053\n",
            "Epoch 68/200\n",
            "6/6 [==============================] - 0s 1ms/step - loss: 0.0053\n",
            "Epoch 69/200\n",
            "6/6 [==============================] - 0s 1ms/step - loss: 0.0053\n",
            "Epoch 70/200\n",
            "6/6 [==============================] - 0s 2ms/step - loss: 0.0053\n",
            "Epoch 71/200\n",
            "6/6 [==============================] - 0s 1ms/step - loss: 0.0053\n",
            "Epoch 72/200\n",
            "6/6 [==============================] - 0s 1ms/step - loss: 0.0052\n",
            "Epoch 73/200\n",
            "6/6 [==============================] - 0s 1ms/step - loss: 0.0053\n",
            "Epoch 74/200\n",
            "6/6 [==============================] - 0s 2ms/step - loss: 0.0054\n",
            "Epoch 75/200\n",
            "6/6 [==============================] - 0s 1ms/step - loss: 0.0053\n",
            "Epoch 76/200\n",
            "6/6 [==============================] - 0s 1ms/step - loss: 0.0053\n",
            "Epoch 77/200\n",
            "6/6 [==============================] - 0s 2ms/step - loss: 0.0053\n",
            "Epoch 78/200\n",
            "6/6 [==============================] - 0s 3ms/step - loss: 0.0053\n",
            "Epoch 79/200\n",
            "6/6 [==============================] - 0s 2ms/step - loss: 0.0053\n",
            "Epoch 80/200\n",
            "6/6 [==============================] - 0s 1ms/step - loss: 0.0053\n",
            "Epoch 81/200\n",
            "6/6 [==============================] - 0s 1ms/step - loss: 0.0056\n",
            "Epoch 82/200\n",
            "6/6 [==============================] - 0s 2ms/step - loss: 0.0055\n",
            "Epoch 83/200\n",
            "6/6 [==============================] - 0s 2ms/step - loss: 0.0059\n",
            "Epoch 84/200\n",
            "6/6 [==============================] - 0s 1ms/step - loss: 0.0067\n",
            "Epoch 85/200\n",
            "6/6 [==============================] - 0s 1ms/step - loss: 0.0056\n",
            "Epoch 86/200\n",
            "6/6 [==============================] - 0s 1ms/step - loss: 0.0055\n",
            "Epoch 87/200\n",
            "6/6 [==============================] - 0s 1ms/step - loss: 0.0058\n",
            "Epoch 88/200\n",
            "6/6 [==============================] - 0s 2ms/step - loss: 0.0053\n",
            "Epoch 89/200\n",
            "6/6 [==============================] - 0s 1ms/step - loss: 0.0053\n",
            "Epoch 90/200\n",
            "6/6 [==============================] - 0s 2ms/step - loss: 0.0053\n",
            "Epoch 91/200\n",
            "6/6 [==============================] - 0s 2ms/step - loss: 0.0053\n",
            "Epoch 92/200\n",
            "6/6 [==============================] - 0s 2ms/step - loss: 0.0053\n",
            "Epoch 93/200\n",
            "6/6 [==============================] - 0s 2ms/step - loss: 0.0053\n",
            "Epoch 94/200\n",
            "6/6 [==============================] - 0s 1ms/step - loss: 0.0052\n",
            "Epoch 95/200\n",
            "6/6 [==============================] - 0s 2ms/step - loss: 0.0054\n",
            "Epoch 96/200\n",
            "6/6 [==============================] - 0s 1ms/step - loss: 0.0054\n",
            "Epoch 97/200\n",
            "6/6 [==============================] - 0s 1ms/step - loss: 0.0053\n",
            "Epoch 98/200\n",
            "6/6 [==============================] - 0s 1ms/step - loss: 0.0053\n",
            "Epoch 99/200\n",
            "6/6 [==============================] - 0s 2ms/step - loss: 0.0053\n",
            "Epoch 100/200\n",
            "6/6 [==============================] - 0s 1ms/step - loss: 0.0052\n",
            "Epoch 101/200\n",
            "6/6 [==============================] - 0s 1ms/step - loss: 0.0053\n",
            "Epoch 102/200\n",
            "6/6 [==============================] - 0s 2ms/step - loss: 0.0059\n",
            "Epoch 103/200\n",
            "6/6 [==============================] - 0s 2ms/step - loss: 0.0054\n",
            "Epoch 104/200\n",
            "6/6 [==============================] - 0s 2ms/step - loss: 0.0061\n",
            "Epoch 105/200\n",
            "6/6 [==============================] - 0s 2ms/step - loss: 0.0059\n",
            "Epoch 106/200\n",
            "6/6 [==============================] - 0s 1ms/step - loss: 0.0054\n",
            "Epoch 107/200\n",
            "6/6 [==============================] - 0s 1ms/step - loss: 0.0052\n",
            "Epoch 108/200\n",
            "6/6 [==============================] - 0s 2ms/step - loss: 0.0054\n",
            "Epoch 109/200\n",
            "6/6 [==============================] - 0s 2ms/step - loss: 0.0053\n",
            "Epoch 110/200\n",
            "6/6 [==============================] - 0s 1ms/step - loss: 0.0053\n",
            "Epoch 111/200\n",
            "6/6 [==============================] - 0s 2ms/step - loss: 0.0054\n",
            "Epoch 112/200\n",
            "6/6 [==============================] - 0s 1ms/step - loss: 0.0053\n",
            "Epoch 113/200\n",
            "6/6 [==============================] - 0s 2ms/step - loss: 0.0053\n",
            "Epoch 114/200\n",
            "6/6 [==============================] - 0s 1ms/step - loss: 0.0053\n",
            "Epoch 115/200\n",
            "6/6 [==============================] - 0s 1ms/step - loss: 0.0053\n",
            "Epoch 116/200\n",
            "6/6 [==============================] - 0s 2ms/step - loss: 0.0054\n",
            "Epoch 117/200\n",
            "6/6 [==============================] - 0s 2ms/step - loss: 0.0053\n",
            "Epoch 118/200\n",
            "6/6 [==============================] - 0s 2ms/step - loss: 0.0053\n",
            "Epoch 119/200\n",
            "6/6 [==============================] - 0s 1ms/step - loss: 0.0052\n",
            "Epoch 120/200\n",
            "6/6 [==============================] - 0s 2ms/step - loss: 0.0053\n",
            "Epoch 121/200\n",
            "6/6 [==============================] - 0s 2ms/step - loss: 0.0053\n",
            "Epoch 122/200\n",
            "6/6 [==============================] - 0s 1ms/step - loss: 0.0053\n",
            "Epoch 123/200\n",
            "6/6 [==============================] - 0s 1ms/step - loss: 0.0053\n",
            "Epoch 124/200\n",
            "6/6 [==============================] - 0s 1ms/step - loss: 0.0053\n",
            "Epoch 125/200\n",
            "6/6 [==============================] - 0s 2ms/step - loss: 0.0053\n",
            "Epoch 126/200\n",
            "6/6 [==============================] - 0s 1ms/step - loss: 0.0053\n",
            "Epoch 127/200\n",
            "6/6 [==============================] - 0s 2ms/step - loss: 0.0054\n",
            "Epoch 128/200\n",
            "6/6 [==============================] - 0s 2ms/step - loss: 0.0053\n",
            "Epoch 129/200\n",
            "6/6 [==============================] - 0s 1ms/step - loss: 0.0053\n",
            "Epoch 130/200\n",
            "6/6 [==============================] - 0s 2ms/step - loss: 0.0053\n",
            "Epoch 131/200\n",
            "6/6 [==============================] - 0s 2ms/step - loss: 0.0053\n",
            "Epoch 132/200\n",
            "6/6 [==============================] - 0s 1ms/step - loss: 0.0053\n",
            "Epoch 133/200\n",
            "6/6 [==============================] - 0s 2ms/step - loss: 0.0052\n",
            "Epoch 134/200\n",
            "6/6 [==============================] - 0s 2ms/step - loss: 0.0053\n",
            "Epoch 135/200\n",
            "6/6 [==============================] - 0s 1ms/step - loss: 0.0053\n",
            "Epoch 136/200\n",
            "6/6 [==============================] - 0s 2ms/step - loss: 0.0054\n",
            "Epoch 137/200\n",
            "6/6 [==============================] - 0s 2ms/step - loss: 0.0053\n",
            "Epoch 138/200\n",
            "6/6 [==============================] - 0s 2ms/step - loss: 0.0052\n",
            "Epoch 139/200\n",
            "6/6 [==============================] - 0s 2ms/step - loss: 0.0053\n",
            "Epoch 140/200\n",
            "6/6 [==============================] - 0s 2ms/step - loss: 0.0052\n",
            "Epoch 141/200\n",
            "6/6 [==============================] - 0s 2ms/step - loss: 0.0055\n",
            "Epoch 142/200\n",
            "6/6 [==============================] - 0s 2ms/step - loss: 0.0054\n",
            "Epoch 143/200\n",
            "6/6 [==============================] - 0s 2ms/step - loss: 0.0053\n",
            "Epoch 144/200\n",
            "6/6 [==============================] - 0s 2ms/step - loss: 0.0053\n",
            "Epoch 145/200\n",
            "6/6 [==============================] - 0s 2ms/step - loss: 0.0052\n",
            "Epoch 146/200\n",
            "6/6 [==============================] - 0s 2ms/step - loss: 0.0053\n",
            "Epoch 147/200\n",
            "6/6 [==============================] - 0s 1ms/step - loss: 0.0054\n",
            "Epoch 148/200\n",
            "6/6 [==============================] - 0s 1ms/step - loss: 0.0053\n",
            "Epoch 149/200\n",
            "6/6 [==============================] - 0s 2ms/step - loss: 0.0054\n",
            "Epoch 150/200\n",
            "6/6 [==============================] - 0s 1ms/step - loss: 0.0053\n",
            "Epoch 151/200\n",
            "6/6 [==============================] - 0s 2ms/step - loss: 0.0053\n",
            "Epoch 152/200\n",
            "6/6 [==============================] - 0s 1ms/step - loss: 0.0053\n",
            "Epoch 153/200\n",
            "6/6 [==============================] - 0s 2ms/step - loss: 0.0053\n",
            "Epoch 154/200\n",
            "6/6 [==============================] - 0s 2ms/step - loss: 0.0054\n",
            "Epoch 155/200\n",
            "6/6 [==============================] - 0s 2ms/step - loss: 0.0054\n",
            "Epoch 156/200\n",
            "6/6 [==============================] - 0s 2ms/step - loss: 0.0053\n",
            "Epoch 157/200\n",
            "6/6 [==============================] - 0s 1ms/step - loss: 0.0052\n",
            "Epoch 158/200\n",
            "6/6 [==============================] - 0s 2ms/step - loss: 0.0053\n",
            "Epoch 159/200\n",
            "6/6 [==============================] - 0s 1ms/step - loss: 0.0053\n",
            "Epoch 160/200\n",
            "6/6 [==============================] - 0s 2ms/step - loss: 0.0053\n",
            "Epoch 161/200\n",
            "6/6 [==============================] - 0s 3ms/step - loss: 0.0053\n",
            "Epoch 162/200\n",
            "6/6 [==============================] - 0s 1ms/step - loss: 0.0054\n",
            "Epoch 163/200\n",
            "6/6 [==============================] - 0s 1ms/step - loss: 0.0056\n",
            "Epoch 164/200\n",
            "6/6 [==============================] - 0s 1ms/step - loss: 0.0053\n",
            "Epoch 165/200\n",
            "6/6 [==============================] - 0s 1ms/step - loss: 0.0053\n",
            "Epoch 166/200\n",
            "6/6 [==============================] - 0s 2ms/step - loss: 0.0054\n",
            "Epoch 167/200\n",
            "6/6 [==============================] - 0s 2ms/step - loss: 0.0054\n",
            "Epoch 168/200\n",
            "6/6 [==============================] - 0s 2ms/step - loss: 0.0052\n",
            "Epoch 169/200\n",
            "6/6 [==============================] - 0s 2ms/step - loss: 0.0053\n",
            "Epoch 170/200\n",
            "6/6 [==============================] - 0s 2ms/step - loss: 0.0053\n",
            "Epoch 171/200\n",
            "6/6 [==============================] - 0s 2ms/step - loss: 0.0052\n",
            "Epoch 172/200\n",
            "6/6 [==============================] - 0s 2ms/step - loss: 0.0053\n",
            "Epoch 173/200\n",
            "6/6 [==============================] - 0s 2ms/step - loss: 0.0053\n",
            "Epoch 174/200\n",
            "6/6 [==============================] - 0s 2ms/step - loss: 0.0053\n",
            "Epoch 175/200\n",
            "6/6 [==============================] - 0s 2ms/step - loss: 0.0053\n",
            "Epoch 176/200\n",
            "6/6 [==============================] - 0s 1ms/step - loss: 0.0054\n",
            "Epoch 177/200\n",
            "6/6 [==============================] - 0s 1ms/step - loss: 0.0053\n",
            "Epoch 178/200\n",
            "6/6 [==============================] - 0s 2ms/step - loss: 0.0054\n",
            "Epoch 179/200\n",
            "6/6 [==============================] - 0s 2ms/step - loss: 0.0054\n",
            "Epoch 180/200\n",
            "6/6 [==============================] - 0s 1ms/step - loss: 0.0054\n",
            "Epoch 181/200\n",
            "6/6 [==============================] - 0s 2ms/step - loss: 0.0053\n",
            "Epoch 182/200\n",
            "6/6 [==============================] - 0s 2ms/step - loss: 0.0053\n",
            "Epoch 183/200\n",
            "6/6 [==============================] - 0s 2ms/step - loss: 0.0053\n",
            "Epoch 184/200\n",
            "6/6 [==============================] - 0s 2ms/step - loss: 0.0053\n",
            "Epoch 185/200\n",
            "6/6 [==============================] - 0s 2ms/step - loss: 0.0053\n",
            "Epoch 186/200\n",
            "6/6 [==============================] - 0s 2ms/step - loss: 0.0053\n",
            "Epoch 187/200\n",
            "6/6 [==============================] - 0s 2ms/step - loss: 0.0054\n",
            "Epoch 188/200\n",
            "6/6 [==============================] - 0s 1ms/step - loss: 0.0053\n",
            "Epoch 189/200\n",
            "6/6 [==============================] - 0s 2ms/step - loss: 0.0055\n",
            "Epoch 190/200\n",
            "6/6 [==============================] - 0s 1ms/step - loss: 0.0052\n",
            "Epoch 191/200\n",
            "6/6 [==============================] - 0s 2ms/step - loss: 0.0053\n",
            "Epoch 192/200\n",
            "6/6 [==============================] - 0s 1ms/step - loss: 0.0053\n",
            "Epoch 193/200\n",
            "6/6 [==============================] - 0s 2ms/step - loss: 0.0058\n",
            "Epoch 194/200\n",
            "6/6 [==============================] - 0s 1ms/step - loss: 0.0058\n",
            "Epoch 195/200\n",
            "6/6 [==============================] - 0s 2ms/step - loss: 0.0054\n",
            "Epoch 196/200\n",
            "6/6 [==============================] - 0s 1ms/step - loss: 0.0054\n",
            "Epoch 197/200\n",
            "6/6 [==============================] - 0s 1ms/step - loss: 0.0053\n",
            "Epoch 198/200\n",
            "6/6 [==============================] - 0s 1ms/step - loss: 0.0052\n",
            "Epoch 199/200\n",
            "6/6 [==============================] - 0s 2ms/step - loss: 0.0053\n",
            "Epoch 200/200\n",
            "6/6 [==============================] - 0s 1ms/step - loss: 0.0053\n"
          ],
          "name": "stdout"
        }
      ]
    },
    {
      "cell_type": "markdown",
      "metadata": {
        "id": "6O6qGB3yHuMN"
      },
      "source": [
        "# Model Evaluation"
      ]
    },
    {
      "cell_type": "code",
      "metadata": {
        "colab": {
          "base_uri": "https://localhost:8080/",
          "height": 282
        },
        "id": "nzHkNSrjHvim",
        "outputId": "462348ca-7009-4304-a693-0d0c2f9adc09"
      },
      "source": [
        "plt.plot(log.history['loss'],label='loss')"
      ],
      "execution_count": 16,
      "outputs": [
        {
          "output_type": "execute_result",
          "data": {
            "text/plain": [
              "[<matplotlib.lines.Line2D at 0x7f1843870400>]"
            ]
          },
          "metadata": {
            "tags": []
          },
          "execution_count": 16
        },
        {
          "output_type": "display_data",
          "data": {
            "image/png": "[encoded data removed]",
            "text/plain": [
              "<Figure size 432x288 with 1 Axes>"
            ]
          },
          "metadata": {
            "tags": [],
            "needs_background": "light"
          }
        }
      ]
    },
    {
      "cell_type": "markdown",
      "metadata": {
        "id": "pvTM-hIjMn-B"
      },
      "source": [
        "## From Model"
      ]
    },
    {
      "cell_type": "code",
      "metadata": {
        "colab": {
          "base_uri": "https://localhost:8080/"
        },
        "id": "sBtB3QoNKkdN",
        "outputId": "1ca3d305-8221-4f29-a2e0-7897b8e89259"
      },
      "source": [
        "print(\"Number of Layer : \", len(model.layers))\n",
        "print(\"Weights : \", model.layers[0].get_weights())\n",
        "m = model.layers[0].get_weights()[0][0][0]\n",
        "print(\"Slope : \", m)"
      ],
      "execution_count": 40,
      "outputs": [
        {
          "output_type": "stream",
          "text": [
            "Number of Layer :  1\n",
            "Weights :  [array([[0.02223067]], dtype=float32), array([2.8331988], dtype=float32)]\n",
            "Slope :  0.022230668\n"
          ],
          "name": "stdout"
        }
      ]
    },
    {
      "cell_type": "markdown",
      "metadata": {
        "id": "-Y7xO7ZTMs8H"
      },
      "source": [
        "## From Data Sample"
      ]
    },
    {
      "cell_type": "code",
      "metadata": {
        "colab": {
          "base_uri": "https://localhost:8080/"
        },
        "id": "C6bjluqiMl6c",
        "outputId": "b6e36ccb-e35a-496e-baa0-81eda228593a"
      },
      "source": [
        "X_raw = np.array(X)\n",
        "Y_raw = np.array(y)\n",
        "base = X_raw.dot(X_raw) - X_raw.mean() * X_raw.sum()\n",
        "m = (X_raw.dot(Y_raw) - Y_raw.mean()*X.sum() )/ base\n",
        "c = (Y_raw.mean() * X_raw.dot(X_raw) - X_raw.mean() * X_raw.dot(Y_raw))/base\n",
        "print(\"Slope : \", m)"
      ],
      "execution_count": 47,
      "outputs": [
        {
          "output_type": "stream",
          "text": [
            "Slope :  0.02243874006912977\n"
          ],
          "name": "stdout"
        }
      ]
    },
    {
      "cell_type": "markdown",
      "metadata": {
        "id": "VMm_i3hLPAyO"
      },
      "source": [
        "# Predictions"
      ]
    },
    {
      "cell_type": "code",
      "metadata": {
        "id": "vOZFHDKFPgh2"
      },
      "source": [
        "Yhat = model.predict(X).flatten()"
      ],
      "execution_count": 51,
      "outputs": []
    },
    {
      "cell_type": "code",
      "metadata": {
        "colab": {
          "base_uri": "https://localhost:8080/",
          "height": 282
        },
        "id": "aWrMJ7tcPDdH",
        "outputId": "62d0724d-dbaf-4cfc-ad81-c1c6961d4f69"
      },
      "source": [
        "plt.scatter(X,y, label='data')\n",
        "plt.plot(X, Yhat, label='prediction line')\n",
        "plt.legend()"
      ],
      "execution_count": 58,
      "outputs": [
        {
          "output_type": "execute_result",
          "data": {
            "text/plain": [
              "<matplotlib.legend.Legend at 0x7f184358f240>"
            ]
          },
          "metadata": {
            "tags": []
          },
          "execution_count": 58
        },
        {
          "output_type": "display_data",
          "data": {
            "image/png": "[encoded data removed]",
            "text/plain": [
              "<Figure size 432x288 with 1 Axes>"
            ]
          },
          "metadata": {
            "tags": [],
            "needs_background": "light"
          }
        }
      ]
    },
    {
      "cell_type": "markdown",
      "metadata": {
        "id": "rB1ZhP7yQ1Ws"
      },
      "source": [
        "# Validate Weights "
      ]
    },
    {
      "cell_type": "code",
      "metadata": {
        "colab": {
          "base_uri": "https://localhost:8080/"
        },
        "id": "970eX3B0QiSJ",
        "outputId": "17c2b66e-e6ac-444d-e922-90699b0b35a0"
      },
      "source": [
        "w, b = model.layers[0].get_weights()\n",
        "Yhat2 = (X.dot(w) + b).flatten()\n",
        "\n",
        "# Don't use == for floating points\n",
        "np.allclose(Yhat, Yhat2)"
      ],
      "execution_count": 67,
      "outputs": [
        {
          "output_type": "execute_result",
          "data": {
            "text/plain": [
              "True"
            ]
          },
          "metadata": {
            "tags": []
          },
          "execution_count": 67
        }
      ]
    }
  ]
}