{
  "nbformat": 4,
  "nbformat_minor": 0,
  "metadata": {
    "colab": {
      "name": "Sklearn_Tuning_GridSearch.ipynb",
      "provenance": [],
      "collapsed_sections": [],
      "authorship_tag": "ABX9TyNcxlHmCgBaUOKvkMERmeXG"
    },
    "kernelspec": {
      "name": "python3",
      "display_name": "Python 3"
    }
  },
  "cells": [
    {
      "cell_type": "markdown",
      "metadata": {
        "id": "qOh870gI62z_"
      },
      "source": [
        "Objective: Hyperparameter Tuning<br>\r\n",
        "<br>\r\n",
        "Data is split into:\r\n",
        "* Train set (Model Fitting)\r\n",
        "* Validation set (Hyperparam Selection)\r\n",
        "* Test set (Model Evaluation)"
      ]
    },
    {
      "cell_type": "markdown",
      "metadata": {
        "id": "3y5d_NxS6nIb"
      },
      "source": [
        "# Import Module"
      ]
    },
    {
      "cell_type": "code",
      "metadata": {
        "id": "I84rkbu3EW6N"
      },
      "source": [
        "import pandas as pd\r\n",
        "from sklearn.model_selection import train_test_split, cross_val_score, GridSearchCV\r\n",
        "from sklearn.svm import SVC\r\n",
        "from sklearn.datasets import load_iris"
      ],
      "execution_count": 16,
      "outputs": []
    },
    {
      "cell_type": "markdown",
      "metadata": {
        "id": "2frgFcj87nXn"
      },
      "source": [
        "# Load Data & Pre-Process"
      ]
    },
    {
      "cell_type": "code",
      "metadata": {
        "id": "fhP-dp9p7pav"
      },
      "source": [
        "data_obj = load_iris()"
      ],
      "execution_count": 3,
      "outputs": []
    },
    {
      "cell_type": "code",
      "metadata": {
        "id": "ZDZ1GDuk74EC"
      },
      "source": [
        "X_trainval, X_test, y_trainval, y_test = train_test_split(data_obj.data, data_obj.target, random_state=0)\r\n",
        "X_train, X_val, y_train, y_val = train_test_split(X_trainval, y_trainval, random_state=0)"
      ],
      "execution_count": 4,
      "outputs": []
    },
    {
      "cell_type": "code",
      "metadata": {
        "colab": {
          "base_uri": "https://localhost:8080/"
        },
        "id": "ITLWXRinEFcX",
        "outputId": "3305e450-80e9-4945-b704-83b80fdc3793"
      },
      "source": [
        "X_train.shape"
      ],
      "execution_count": 23,
      "outputs": [
        {
          "output_type": "execute_result",
          "data": {
            "text/plain": [
              "(84, 4)"
            ]
          },
          "metadata": {
            "tags": []
          },
          "execution_count": 23
        }
      ]
    },
    {
      "cell_type": "code",
      "metadata": {
        "colab": {
          "base_uri": "https://localhost:8080/"
        },
        "id": "GgspOHasEIE2",
        "outputId": "45b3d9f4-6455-4c83-c7ca-7ddd7412a9fb"
      },
      "source": [
        "X_val.shape"
      ],
      "execution_count": 24,
      "outputs": [
        {
          "output_type": "execute_result",
          "data": {
            "text/plain": [
              "(28, 4)"
            ]
          },
          "metadata": {
            "tags": []
          },
          "execution_count": 24
        }
      ]
    },
    {
      "cell_type": "code",
      "metadata": {
        "colab": {
          "base_uri": "https://localhost:8080/"
        },
        "id": "AAfjX_U_EAx1",
        "outputId": "dcc232d5-344b-4a66-a4bb-4d883f2ff404"
      },
      "source": [
        "X_test.shape"
      ],
      "execution_count": 22,
      "outputs": [
        {
          "output_type": "execute_result",
          "data": {
            "text/plain": [
              "(38, 4)"
            ]
          },
          "metadata": {
            "tags": []
          },
          "execution_count": 22
        }
      ]
    },
    {
      "cell_type": "markdown",
      "metadata": {
        "id": "Av9DqBcA8X_G"
      },
      "source": [
        "# Grid Search"
      ]
    },
    {
      "cell_type": "markdown",
      "metadata": {
        "id": "G-nFTbHm9eLE"
      },
      "source": [
        "## Method : train-validation-test split"
      ]
    },
    {
      "cell_type": "code",
      "metadata": {
        "id": "1HkOuwF18Zgi"
      },
      "source": [
        "best_score = 0\r\n",
        "best_param={}\r\n",
        "for gamma in [0.001, 0.01, 0.1, 1, 10, 100]:\r\n",
        "    for C in [0.001, 0.01, 0.1, 1, 10, 100]:\r\n",
        "        model = SVC(gamma=gamma, C=C).fit(X_train, y_train)\r\n",
        "        score = model.score(X_val, y_val)\r\n",
        "        if score > best_score:\r\n",
        "            best_score = score\r\n",
        "            best_param = {'gamma': gamma, 'C':C}"
      ],
      "execution_count": 6,
      "outputs": []
    },
    {
      "cell_type": "code",
      "metadata": {
        "colab": {
          "base_uri": "https://localhost:8080/"
        },
        "id": "tjssjz2F-M-M",
        "outputId": "d8084385-7d06-4292-fea4-d8840b7aa3b4"
      },
      "source": [
        "model_optimised = SVC(**best_param).fit(X_trainval, y_trainval)\r\n",
        "print(best_param, model_optimised.score(X_test, y_test))"
      ],
      "execution_count": 8,
      "outputs": [
        {
          "output_type": "stream",
          "text": [
            "{'gamma': 0.001, 'C': 100} 0.9736842105263158\n"
          ],
          "name": "stdout"
        }
      ]
    },
    {
      "cell_type": "markdown",
      "metadata": {
        "id": "hTVpYAuB-yDF"
      },
      "source": [
        "## Method : cross_validation"
      ]
    },
    {
      "cell_type": "code",
      "metadata": {
        "id": "aJb8Fmyp-46u"
      },
      "source": [
        "best_score = 0\r\n",
        "best_param={}\r\n",
        "for gamma in [0.001, 0.01, 0.1, 1, 10, 100]:\r\n",
        "    for C in [0.001, 0.01, 0.1, 1, 10, 100]:\r\n",
        "        model = SVC(gamma=gamma, C=C)\r\n",
        "        score = cross_val_score(model, X_trainval, y_trainval, cv=5)    # no need to split train-val set in cross-validation\r\n",
        "        score = score.mean()\r\n",
        "        if score > best_score:\r\n",
        "            best_score = score\r\n",
        "            best_param = {'gamma': gamma, 'C':C}"
      ],
      "execution_count": 9,
      "outputs": []
    },
    {
      "cell_type": "code",
      "metadata": {
        "colab": {
          "base_uri": "https://localhost:8080/"
        },
        "id": "pJGgX8Ha_cJU",
        "outputId": "1532239f-d5ac-4325-9781-4c669642ec07"
      },
      "source": [
        "model_optimised = SVC(**best_param).fit(X_trainval, y_trainval)\r\n",
        "print(best_param, model_optimised.score(X_test, y_test))"
      ],
      "execution_count": 10,
      "outputs": [
        {
          "output_type": "stream",
          "text": [
            "{'gamma': 0.1, 'C': 10} 0.9736842105263158\n"
          ],
          "name": "stdout"
        }
      ]
    },
    {
      "cell_type": "markdown",
      "metadata": {
        "id": "7qjhWP1o_tsG"
      },
      "source": [
        "# Method : Sklearn - GridSearchCV"
      ]
    },
    {
      "cell_type": "code",
      "metadata": {
        "colab": {
          "base_uri": "https://localhost:8080/"
        },
        "id": "WYeJCQJr__9t",
        "outputId": "038e55cd-3d0d-4f48-9563-6f2cdddf469e"
      },
      "source": [
        "param = {'gamma': [0.001, 0.01, 0.1, 1, 10, 100], 'C' : [0.001, 0.01, 0.1, 1, 10, 100]}\r\n",
        "estimator = SVC()\r\n",
        "model = GridSearchCV(estimator, param, cv=5)\r\n",
        "model.fit(X_trainval, y_trainval)"
      ],
      "execution_count": 14,
      "outputs": [
        {
          "output_type": "execute_result",
          "data": {
            "text/plain": [
              "GridSearchCV(cv=5, error_score=nan,\n",
              "             estimator=SVC(C=1.0, break_ties=False, cache_size=200,\n",
              "                           class_weight=None, coef0=0.0,\n",
              "                           decision_function_shape='ovr', degree=3,\n",
              "                           gamma='scale', kernel='rbf', max_iter=-1,\n",
              "                           probability=False, random_state=None, shrinking=True,\n",
              "                           tol=0.001, verbose=False),\n",
              "             iid='deprecated', n_jobs=None,\n",
              "             param_grid={'C': [0.001, 0.01, 0.1, 1, 10, 100],\n",
              "                         'gamma': [0.001, 0.01, 0.1, 1, 10, 100]},\n",
              "             pre_dispatch='2*n_jobs', refit=True, return_train_score=False,\n",
              "             scoring=None, verbose=0)"
            ]
          },
          "metadata": {
            "tags": []
          },
          "execution_count": 14
        }
      ]
    },
    {
      "cell_type": "code",
      "metadata": {
        "colab": {
          "base_uri": "https://localhost:8080/"
        },
        "id": "S3Fn22VXBi5A",
        "outputId": "e4db9069-da1a-4347-bf9d-7aeee0f85856"
      },
      "source": [
        "print(model.best_params_, model.score(X_test, y_test))"
      ],
      "execution_count": 15,
      "outputs": [
        {
          "output_type": "stream",
          "text": [
            "{'C': 10, 'gamma': 0.1} 0.9736842105263158\n"
          ],
          "name": "stdout"
        }
      ]
    },
    {
      "cell_type": "code",
      "metadata": {
        "colab": {
          "base_uri": "https://localhost:8080/",
          "height": 1000
        },
        "id": "K65DDwCtCsMf",
        "outputId": "7c5cf767-18f8-4fb2-8499-5a865beecaeb"
      },
      "source": [
        "df = pd.DataFrame(model.cv_results_)\r\n",
        "df[['rank_test_score', 'param_gamma', 'param_C', 'mean_test_score']].sort_values(by=['rank_test_score'], ascending=True)"
      ],
      "execution_count": 21,
      "outputs": [
        {
          "output_type": "execute_result",
          "data": {
            "text/html": [
              "<div>\n",
              "<style scoped>\n",
              "    .dataframe tbody tr th:only-of-type {\n",
              "        vertical-align: middle;\n",
              "    }\n",
              "\n",
              "    .dataframe tbody tr th {\n",
              "        vertical-align: top;\n",
              "    }\n",
              "\n",
              "    .dataframe thead th {\n",
              "        text-align: right;\n",
              "    }\n",
              "</style>\n",
              "<table border=\"1\" class=\"dataframe\">\n",
              "  <thead>\n",
              "    <tr style=\"text-align: right;\">\n",
              "      <th></th>\n",
              "      <th>rank_test_score</th>\n",
              "      <th>param_gamma</th>\n",
              "      <th>param_C</th>\n",
              "      <th>mean_test_score</th>\n",
              "    </tr>\n",
              "  </thead>\n",
              "  <tbody>\n",
              "    <tr>\n",
              "      <th>26</th>\n",
              "      <td>1</td>\n",
              "      <td>0.1</td>\n",
              "      <td>10</td>\n",
              "      <td>0.973123</td>\n",
              "    </tr>\n",
              "    <tr>\n",
              "      <th>31</th>\n",
              "      <td>2</td>\n",
              "      <td>0.01</td>\n",
              "      <td>100</td>\n",
              "      <td>0.964427</td>\n",
              "    </tr>\n",
              "    <tr>\n",
              "      <th>20</th>\n",
              "      <td>3</td>\n",
              "      <td>0.1</td>\n",
              "      <td>1</td>\n",
              "      <td>0.964032</td>\n",
              "    </tr>\n",
              "    <tr>\n",
              "      <th>30</th>\n",
              "      <td>3</td>\n",
              "      <td>0.001</td>\n",
              "      <td>100</td>\n",
              "      <td>0.964032</td>\n",
              "    </tr>\n",
              "    <tr>\n",
              "      <th>25</th>\n",
              "      <td>3</td>\n",
              "      <td>0.01</td>\n",
              "      <td>10</td>\n",
              "      <td>0.964032</td>\n",
              "    </tr>\n",
              "    <tr>\n",
              "      <th>15</th>\n",
              "      <td>6</td>\n",
              "      <td>1</td>\n",
              "      <td>0.1</td>\n",
              "      <td>0.955336</td>\n",
              "    </tr>\n",
              "    <tr>\n",
              "      <th>32</th>\n",
              "      <td>7</td>\n",
              "      <td>0.1</td>\n",
              "      <td>100</td>\n",
              "      <td>0.954941</td>\n",
              "    </tr>\n",
              "    <tr>\n",
              "      <th>21</th>\n",
              "      <td>8</td>\n",
              "      <td>1</td>\n",
              "      <td>1</td>\n",
              "      <td>0.946640</td>\n",
              "    </tr>\n",
              "    <tr>\n",
              "      <th>33</th>\n",
              "      <td>9</td>\n",
              "      <td>1</td>\n",
              "      <td>100</td>\n",
              "      <td>0.946245</td>\n",
              "    </tr>\n",
              "    <tr>\n",
              "      <th>27</th>\n",
              "      <td>9</td>\n",
              "      <td>1</td>\n",
              "      <td>10</td>\n",
              "      <td>0.946245</td>\n",
              "    </tr>\n",
              "    <tr>\n",
              "      <th>24</th>\n",
              "      <td>11</td>\n",
              "      <td>0.001</td>\n",
              "      <td>10</td>\n",
              "      <td>0.937945</td>\n",
              "    </tr>\n",
              "    <tr>\n",
              "      <th>19</th>\n",
              "      <td>11</td>\n",
              "      <td>0.01</td>\n",
              "      <td>1</td>\n",
              "      <td>0.937945</td>\n",
              "    </tr>\n",
              "    <tr>\n",
              "      <th>22</th>\n",
              "      <td>13</td>\n",
              "      <td>10</td>\n",
              "      <td>1</td>\n",
              "      <td>0.928458</td>\n",
              "    </tr>\n",
              "    <tr>\n",
              "      <th>28</th>\n",
              "      <td>14</td>\n",
              "      <td>10</td>\n",
              "      <td>10</td>\n",
              "      <td>0.911067</td>\n",
              "    </tr>\n",
              "    <tr>\n",
              "      <th>34</th>\n",
              "      <td>14</td>\n",
              "      <td>10</td>\n",
              "      <td>100</td>\n",
              "      <td>0.911067</td>\n",
              "    </tr>\n",
              "    <tr>\n",
              "      <th>14</th>\n",
              "      <td>16</td>\n",
              "      <td>0.1</td>\n",
              "      <td>0.1</td>\n",
              "      <td>0.901581</td>\n",
              "    </tr>\n",
              "    <tr>\n",
              "      <th>13</th>\n",
              "      <td>17</td>\n",
              "      <td>0.01</td>\n",
              "      <td>0.1</td>\n",
              "      <td>0.696443</td>\n",
              "    </tr>\n",
              "    <tr>\n",
              "      <th>18</th>\n",
              "      <td>17</td>\n",
              "      <td>0.001</td>\n",
              "      <td>1</td>\n",
              "      <td>0.696443</td>\n",
              "    </tr>\n",
              "    <tr>\n",
              "      <th>29</th>\n",
              "      <td>19</td>\n",
              "      <td>100</td>\n",
              "      <td>10</td>\n",
              "      <td>0.581423</td>\n",
              "    </tr>\n",
              "    <tr>\n",
              "      <th>35</th>\n",
              "      <td>19</td>\n",
              "      <td>100</td>\n",
              "      <td>100</td>\n",
              "      <td>0.581423</td>\n",
              "    </tr>\n",
              "    <tr>\n",
              "      <th>23</th>\n",
              "      <td>21</td>\n",
              "      <td>100</td>\n",
              "      <td>1</td>\n",
              "      <td>0.501581</td>\n",
              "    </tr>\n",
              "    <tr>\n",
              "      <th>0</th>\n",
              "      <td>22</td>\n",
              "      <td>0.001</td>\n",
              "      <td>0.001</td>\n",
              "      <td>0.366403</td>\n",
              "    </tr>\n",
              "    <tr>\n",
              "      <th>12</th>\n",
              "      <td>22</td>\n",
              "      <td>0.001</td>\n",
              "      <td>0.1</td>\n",
              "      <td>0.366403</td>\n",
              "    </tr>\n",
              "    <tr>\n",
              "      <th>11</th>\n",
              "      <td>22</td>\n",
              "      <td>100</td>\n",
              "      <td>0.01</td>\n",
              "      <td>0.366403</td>\n",
              "    </tr>\n",
              "    <tr>\n",
              "      <th>10</th>\n",
              "      <td>22</td>\n",
              "      <td>10</td>\n",
              "      <td>0.01</td>\n",
              "      <td>0.366403</td>\n",
              "    </tr>\n",
              "    <tr>\n",
              "      <th>9</th>\n",
              "      <td>22</td>\n",
              "      <td>1</td>\n",
              "      <td>0.01</td>\n",
              "      <td>0.366403</td>\n",
              "    </tr>\n",
              "    <tr>\n",
              "      <th>8</th>\n",
              "      <td>22</td>\n",
              "      <td>0.1</td>\n",
              "      <td>0.01</td>\n",
              "      <td>0.366403</td>\n",
              "    </tr>\n",
              "    <tr>\n",
              "      <th>7</th>\n",
              "      <td>22</td>\n",
              "      <td>0.01</td>\n",
              "      <td>0.01</td>\n",
              "      <td>0.366403</td>\n",
              "    </tr>\n",
              "    <tr>\n",
              "      <th>6</th>\n",
              "      <td>22</td>\n",
              "      <td>0.001</td>\n",
              "      <td>0.01</td>\n",
              "      <td>0.366403</td>\n",
              "    </tr>\n",
              "    <tr>\n",
              "      <th>5</th>\n",
              "      <td>22</td>\n",
              "      <td>100</td>\n",
              "      <td>0.001</td>\n",
              "      <td>0.366403</td>\n",
              "    </tr>\n",
              "    <tr>\n",
              "      <th>4</th>\n",
              "      <td>22</td>\n",
              "      <td>10</td>\n",
              "      <td>0.001</td>\n",
              "      <td>0.366403</td>\n",
              "    </tr>\n",
              "    <tr>\n",
              "      <th>3</th>\n",
              "      <td>22</td>\n",
              "      <td>1</td>\n",
              "      <td>0.001</td>\n",
              "      <td>0.366403</td>\n",
              "    </tr>\n",
              "    <tr>\n",
              "      <th>2</th>\n",
              "      <td>22</td>\n",
              "      <td>0.1</td>\n",
              "      <td>0.001</td>\n",
              "      <td>0.366403</td>\n",
              "    </tr>\n",
              "    <tr>\n",
              "      <th>1</th>\n",
              "      <td>22</td>\n",
              "      <td>0.01</td>\n",
              "      <td>0.001</td>\n",
              "      <td>0.366403</td>\n",
              "    </tr>\n",
              "    <tr>\n",
              "      <th>16</th>\n",
              "      <td>22</td>\n",
              "      <td>10</td>\n",
              "      <td>0.1</td>\n",
              "      <td>0.366403</td>\n",
              "    </tr>\n",
              "    <tr>\n",
              "      <th>17</th>\n",
              "      <td>22</td>\n",
              "      <td>100</td>\n",
              "      <td>0.1</td>\n",
              "      <td>0.366403</td>\n",
              "    </tr>\n",
              "  </tbody>\n",
              "</table>\n",
              "</div>"
            ],
            "text/plain": [
              "    rank_test_score param_gamma param_C  mean_test_score\n",
              "26                1         0.1      10         0.973123\n",
              "31                2        0.01     100         0.964427\n",
              "20                3         0.1       1         0.964032\n",
              "30                3       0.001     100         0.964032\n",
              "25                3        0.01      10         0.964032\n",
              "15                6           1     0.1         0.955336\n",
              "32                7         0.1     100         0.954941\n",
              "21                8           1       1         0.946640\n",
              "33                9           1     100         0.946245\n",
              "27                9           1      10         0.946245\n",
              "24               11       0.001      10         0.937945\n",
              "19               11        0.01       1         0.937945\n",
              "22               13          10       1         0.928458\n",
              "28               14          10      10         0.911067\n",
              "34               14          10     100         0.911067\n",
              "14               16         0.1     0.1         0.901581\n",
              "13               17        0.01     0.1         0.696443\n",
              "18               17       0.001       1         0.696443\n",
              "29               19         100      10         0.581423\n",
              "35               19         100     100         0.581423\n",
              "23               21         100       1         0.501581\n",
              "0                22       0.001   0.001         0.366403\n",
              "12               22       0.001     0.1         0.366403\n",
              "11               22         100    0.01         0.366403\n",
              "10               22          10    0.01         0.366403\n",
              "9                22           1    0.01         0.366403\n",
              "8                22         0.1    0.01         0.366403\n",
              "7                22        0.01    0.01         0.366403\n",
              "6                22       0.001    0.01         0.366403\n",
              "5                22         100   0.001         0.366403\n",
              "4                22          10   0.001         0.366403\n",
              "3                22           1   0.001         0.366403\n",
              "2                22         0.1   0.001         0.366403\n",
              "1                22        0.01   0.001         0.366403\n",
              "16               22          10     0.1         0.366403\n",
              "17               22         100     0.1         0.366403"
            ]
          },
          "metadata": {
            "tags": []
          },
          "execution_count": 21
        }
      ]
    }
  ]
}