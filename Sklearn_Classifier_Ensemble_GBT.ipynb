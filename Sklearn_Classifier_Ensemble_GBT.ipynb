{
  "nbformat": 4,
  "nbformat_minor": 0,
  "metadata": {
    "colab": {
      "name": "Sklearn_Classifier_Ensemble_GBT.ipynb",
      "provenance": [],
      "collapsed_sections": [],
      "authorship_tag": "ABX9TyP3rcqVaaUufmqVx/uKP5uN",
      "include_colab_link": true
    },
    "kernelspec": {
      "name": "python3",
      "display_name": "Python 3"
    }
  },
  "cells": [
    {
      "cell_type": "markdown",
      "metadata": {
        "id": "view-in-github",
        "colab_type": "text"
      },
      "source": [
        "<a href=\"https://colab.research.google.com/github/AlvinChiew/MachineLearning/blob/main/Sklearn_Classifier_Ensemble_GBT.ipynb\" target=\"_parent\"><img src=\"https://colab.research.google.com/assets/colab-badge.svg\" alt=\"Open In Colab\"/></a>"
      ]
    },
    {
      "cell_type": "markdown",
      "metadata": {
        "id": "WbtvV2SXAott"
      },
      "source": [
        "# Import Modules"
      ]
    },
    {
      "cell_type": "code",
      "metadata": {
        "id": "7scsncufA6Oc"
      },
      "source": [
        "import matplotlib.pyplot as plt\r\n",
        "\r\n",
        "from sklearn.model_selection import train_test_split\r\n",
        "from sklearn.ensemble import GradientBoostingClassifier\r\n",
        "from sklearn.datasets import load_breast_cancer"
      ],
      "execution_count": 1,
      "outputs": []
    },
    {
      "cell_type": "markdown",
      "metadata": {
        "id": "QFs5Vv_3BfGC"
      },
      "source": [
        "# Load Data & PreProcessing"
      ]
    },
    {
      "cell_type": "code",
      "metadata": {
        "id": "RyRaMpgpBFFY"
      },
      "source": [
        "data_obj = load_breast_cancer()\r\n",
        "X_train, X_test, y_train, y_test = train_test_split(data_obj.data, data_obj.target, random_state=0)"
      ],
      "execution_count": 2,
      "outputs": []
    },
    {
      "cell_type": "markdown",
      "metadata": {
        "id": "Rw1OpoRhB19y"
      },
      "source": [
        "# Modeling"
      ]
    },
    {
      "cell_type": "markdown",
      "metadata": {
        "id": "s6xyWz2qB91q"
      },
      "source": [
        "## default config"
      ]
    },
    {
      "cell_type": "code",
      "metadata": {
        "colab": {
          "base_uri": "https://localhost:8080/"
        },
        "id": "jWRnu2f5B34V",
        "outputId": "d0ba5625-8482-40d0-efcd-825cee73f934"
      },
      "source": [
        "model = GradientBoostingClassifier(random_state=0)\r\n",
        "model.fit(X_train, y_train)\r\n",
        "print(f'Train score : {model.score(X_train, y_train)}')\r\n",
        "print(f'Test score : {model.score(X_test, y_test)}')\r\n",
        "\r\n",
        "# seems overfitting"
      ],
      "execution_count": 6,
      "outputs": [
        {
          "output_type": "stream",
          "text": [
            "Train score : 1.0\n",
            "Test score : 0.965034965034965\n"
          ],
          "name": "stdout"
        }
      ]
    },
    {
      "cell_type": "markdown",
      "metadata": {
        "id": "UAWVt0dfCazA"
      },
      "source": [
        "## reduce learning rate"
      ]
    },
    {
      "cell_type": "code",
      "metadata": {
        "colab": {
          "base_uri": "https://localhost:8080/"
        },
        "id": "dq0gM9rQCe7t",
        "outputId": "57aac86d-32d2-4f80-eacc-fbfc32f33795"
      },
      "source": [
        "model = GradientBoostingClassifier(random_state=0, learning_rate=0.0095)\r\n",
        "model.fit(X_train, y_train)\r\n",
        "print(f'Train score : {model.score(X_train, y_train)}')\r\n",
        "print(f'Test score : {model.score(X_test, y_test)}')\r\n",
        "\r\n",
        "# both train and test score dropped with no sign of increment in between learning rate 0.0095 to 0.1 . "
      ],
      "execution_count": 12,
      "outputs": [
        {
          "output_type": "stream",
          "text": [
            "Train score : 0.9882629107981221\n",
            "Test score : 0.958041958041958\n"
          ],
          "name": "stdout"
        }
      ]
    },
    {
      "cell_type": "markdown",
      "metadata": {
        "id": "F25PB8R6Dafk"
      },
      "source": [
        "# limit tree depth"
      ]
    },
    {
      "cell_type": "code",
      "metadata": {
        "colab": {
          "base_uri": "https://localhost:8080/"
        },
        "id": "n11_GQvHDf2u",
        "outputId": "e81d02a0-b46c-444a-9799-4c93f5bc4055"
      },
      "source": [
        "model = GradientBoostingClassifier(random_state=0, max_depth=1)\r\n",
        "model.fit(X_train, y_train)\r\n",
        "print(f'Train score : {model.score(X_train, y_train)}')\r\n",
        "print(f'Test score : {model.score(X_test, y_test)}')\r\n",
        "\r\n",
        "# less overfitting, better prediction in test set"
      ],
      "execution_count": 13,
      "outputs": [
        {
          "output_type": "stream",
          "text": [
            "Train score : 0.9906103286384976\n",
            "Test score : 0.972027972027972\n"
          ],
          "name": "stdout"
        }
      ]
    },
    {
      "cell_type": "markdown",
      "metadata": {
        "id": "XQPIrOFwDvu_"
      },
      "source": [
        "# Feature Analysis"
      ]
    },
    {
      "cell_type": "code",
      "metadata": {
        "colab": {
          "base_uri": "https://localhost:8080/"
        },
        "id": "ck2KKSchD3O3",
        "outputId": "e3d6e660-8025-46d2-fd4e-140ea9954d88"
      },
      "source": [
        "ft_importance = list(zip(data_obj.feature_names, model.feature_importances_))\r\n",
        "ft_importance.sort(key = lambda x : x[1], reverse=True)\r\n",
        "ft_importance"
      ],
      "execution_count": 14,
      "outputs": [
        {
          "output_type": "execute_result",
          "data": {
            "text/plain": [
              "[('worst perimeter', 0.3224957882795973),\n",
              " ('mean concave points', 0.26568690742159873),\n",
              " ('worst concave points', 0.23145067517162501),\n",
              " ('worst area', 0.09242499264166963),\n",
              " ('worst texture', 0.01618199352051874),\n",
              " ('area error', 0.014583825516250178),\n",
              " ('worst radius', 0.009239393827675236),\n",
              " ('mean texture', 0.009075299587065672),\n",
              " ('mean concavity', 0.008320357663276368),\n",
              " ('worst concavity', 0.006851011082513831),\n",
              " ('worst smoothness', 0.006440411045489717),\n",
              " ('worst symmetry', 0.006415007904773571),\n",
              " ('concavity error', 0.0047546910576471485),\n",
              " ('worst fractal dimension', 0.0034222507087997766),\n",
              " ('smoothness error', 0.0010508324305001254),\n",
              " ('symmetry error', 0.0009568904214311666),\n",
              " ('mean symmetry', 0.0003495883413153316),\n",
              " ('texture error', 0.00030008337825242307),\n",
              " ('mean radius', 0.0),\n",
              " ('mean perimeter', 0.0),\n",
              " ('mean area', 0.0),\n",
              " ('mean smoothness', 0.0),\n",
              " ('mean compactness', 0.0),\n",
              " ('mean fractal dimension', 0.0),\n",
              " ('radius error', 0.0),\n",
              " ('perimeter error', 0.0),\n",
              " ('compactness error', 0.0),\n",
              " ('concave points error', 0.0),\n",
              " ('fractal dimension error', 0.0),\n",
              " ('worst compactness', 0.0)]"
            ]
          },
          "metadata": {
            "tags": []
          },
          "execution_count": 14
        }
      ]
    },
    {
      "cell_type": "markdown",
      "metadata": {
        "id": "nZ20y0X-EAb7"
      },
      "source": [
        "## Plot resut"
      ]
    },
    {
      "cell_type": "code",
      "metadata": {
        "colab": {
          "base_uri": "https://localhost:8080/",
          "height": 389
        },
        "id": "HULomjA6EDiZ",
        "outputId": "ac4ceb58-0015-4c7f-cf1b-6353e2b0a7bc"
      },
      "source": [
        "plt.style.use('seaborn')\r\n",
        "plt.stem([x[1] for x in ft_importance])\r\n",
        "plt.xticks(range(len(ft_importance)), [x[0] for x in ft_importance], rotation=90)\r\n",
        "plt.ylim([0,1])\r\n",
        "plt.gcf().subplots_adjust(bottom=0.4)\r\n",
        "plt.show()\r\n",
        "\r\n",
        "# seems like concluding different result comparing with result from decision tree prediction model"
      ],
      "execution_count": 15,
      "outputs": [
        {
          "output_type": "stream",
          "text": [
            "/usr/local/lib/python3.6/dist-packages/ipykernel_launcher.py:2: UserWarning: In Matplotlib 3.3 individual lines on a stem plot will be added as a LineCollection instead of individual lines. This significantly improves the performance of a stem plot. To remove this warning and switch to the new behaviour, set the \"use_line_collection\" keyword argument to True.\n",
            "  \n"
          ],
          "name": "stderr"
        },
        {
          "output_type": "display_data",
          "data": {
            "image/png": "[encoded data removed]",
            "text/plain": [
              "<Figure size 576x396 with 1 Axes>"
            ]
          },
          "metadata": {
            "tags": []
          }
        }
      ]
    }
  ]
}