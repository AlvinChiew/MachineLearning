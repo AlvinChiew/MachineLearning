{
  "nbformat": 4,
  "nbformat_minor": 0,
  "metadata": {
    "colab": {
      "name": "NLP_NLTK_Exploration.ipynb",
      "provenance": [],
      "collapsed_sections": [],
      "authorship_tag": "ABX9TyPgder4HcrDSLaEX1eUwjzZ"
    },
    "kernelspec": {
      "name": "python3",
      "display_name": "Python 3"
    },
    "language_info": {
      "name": "python"
    }
  },
  "cells": [
    {
      "cell_type": "code",
      "metadata": {
        "id": "80vKQ-C9rkau"
      },
      "source": [
        "import nltk"
      ],
      "execution_count": null,
      "outputs": []
    },
    {
      "cell_type": "code",
      "metadata": {
        "id": "LB24HQqhrsly"
      },
      "source": [
        "sentence = \"My name is Alvin Chiew. I work at Naluri in Malaysia and my life is awesome!\""
      ],
      "execution_count": 44,
      "outputs": []
    },
    {
      "cell_type": "markdown",
      "metadata": {
        "id": "RVOITm1msEFY"
      },
      "source": [
        "# POS tagging\n",
        " (Part-of-Speech)\n",
        "\n",
        " Tag Definition: [link](https://www.ling.upenn.edu/courses/Fall_2007/ling001/penn_treebank_pos.html)"
      ]
    },
    {
      "cell_type": "code",
      "metadata": {
        "colab": {
          "base_uri": "https://localhost:8080/"
        },
        "id": "IA_aY5sbrJKh",
        "outputId": "8eb15296-93bf-4d86-9d39-b07b60d8fb7a"
      },
      "source": [
        "# POS (Part-of-Speech}) tagging\n",
        "nltk.download('averaged_perceptron_tagger')\n",
        "nltk.pos_tag(sentence.split())      # split sentence into word tokens"
      ],
      "execution_count": 46,
      "outputs": [
        {
          "output_type": "stream",
          "text": [
            "[nltk_data] Downloading package averaged_perceptron_tagger to\n",
            "[nltk_data]     /root/nltk_data...\n",
            "[nltk_data]   Package averaged_perceptron_tagger is already up-to-\n",
            "[nltk_data]       date!\n"
          ],
          "name": "stdout"
        },
        {
          "output_type": "execute_result",
          "data": {
            "text/plain": [
              "[('My', 'PRP$'),\n",
              " ('name', 'NN'),\n",
              " ('is', 'VBZ'),\n",
              " ('Alvin', 'NNP'),\n",
              " ('Chiew.', 'NNP'),\n",
              " ('I', 'PRP'),\n",
              " ('work', 'VBP'),\n",
              " ('at', 'IN'),\n",
              " ('Naluri', 'NNP'),\n",
              " ('in', 'IN'),\n",
              " ('Malaysia', 'NNP'),\n",
              " ('and', 'CC'),\n",
              " ('my', 'PRP$'),\n",
              " ('life', 'NN'),\n",
              " ('is', 'VBZ'),\n",
              " ('awesome!', 'JJ')]"
            ]
          },
          "metadata": {
            "tags": []
          },
          "execution_count": 46
        }
      ]
    },
    {
      "cell_type": "markdown",
      "metadata": {
        "id": "n-YpUYzSs4f2"
      },
      "source": [
        "# Stemming & Lemmatization\n",
        "reduce word to base form, i.e. wolves to wolve, jumping to jump"
      ]
    },
    {
      "cell_type": "code",
      "metadata": {
        "colab": {
          "base_uri": "https://localhost:8080/"
        },
        "id": "c6o4xF0VtGw1",
        "outputId": "b83831bc-431f-47a8-b418-034e3c5ca616"
      },
      "source": [
        "stemmer = nltk.stem.porter.PorterStemmer()\n",
        "print(stemmer.stem(\"wolves\"))\n",
        "print(stemmer.stem(\"jumping\"))"
      ],
      "execution_count": null,
      "outputs": [
        {
          "output_type": "stream",
          "text": [
            "wolv\n",
            "jump\n"
          ],
          "name": "stdout"
        }
      ]
    },
    {
      "cell_type": "code",
      "metadata": {
        "colab": {
          "base_uri": "https://localhost:8080/"
        },
        "id": "1o1JwDO4tgKT",
        "outputId": "8445c84c-ebf9-4a95-eb83-11f9195e050e"
      },
      "source": [
        "nltk.download('wordnet')\n",
        "lemmatizer = nltk.WordNetLemmatizer()\n",
        "print(lemmatizer.lemmatize(\"wolves\"))\n",
        "print(lemmatizer.lemmatize(\"jumping\"))"
      ],
      "execution_count": null,
      "outputs": [
        {
          "output_type": "stream",
          "text": [
            "[nltk_data] Downloading package wordnet to /root/nltk_data...\n",
            "[nltk_data]   Package wordnet is already up-to-date!\n",
            "wolf\n",
            "jumping\n"
          ],
          "name": "stdout"
        }
      ]
    },
    {
      "cell_type": "markdown",
      "metadata": {
        "id": "6xEuvIXYvO6D"
      },
      "source": [
        "# NER\n",
        "Name Entity Recognition"
      ]
    },
    {
      "cell_type": "code",
      "metadata": {
        "id": "2hPlK4dUxbVS"
      },
      "source": [
        "### CREATE VIRTUAL DISPLAY ###\n",
        "\n",
        "!apt-get -q install -y xvfb # Install X Virtual Frame Buffer\n",
        "import os\n",
        "os.system('Xvfb :1 -screen 0 1600x1200x16  &')    # create virtual display with size 1600x1200 and 16 bit color. Color can be changed to 24 or 8\n",
        "os.environ['DISPLAY']=':1.0'    # tell X clients to use our virtual DISPLAY :1.0.\n",
        "\n",
        "%matplotlib inline\n",
        "\n",
        "\n",
        "### INSTALL GHOSTSCRIPT (Required to display NLTK trees) ###\n",
        "!apt -q install ghostscript python3-tk"
      ],
      "execution_count": null,
      "outputs": []
    },
    {
      "cell_type": "code",
      "metadata": {
        "colab": {
          "base_uri": "https://localhost:8080/",
          "height": 211
        },
        "id": "xMqFmA6svTx_",
        "outputId": "7af82b63-0438-4c5c-9868-f202ca4417bb"
      },
      "source": [
        "nltk.download('maxent_ne_chunker')\n",
        "nltk.download('words')\n",
        "tags = nltk.pos_tag(sentence.split())\n",
        "nltk.ne_chunk(tags)"
      ],
      "execution_count": 45,
      "outputs": [
        {
          "output_type": "stream",
          "text": [
            "[nltk_data] Downloading package maxent_ne_chunker to\n",
            "[nltk_data]     /root/nltk_data...\n",
            "[nltk_data]   Package maxent_ne_chunker is already up-to-date!\n",
            "[nltk_data] Downloading package words to /root/nltk_data...\n",
            "[nltk_data]   Package words is already up-to-date!\n"
          ],
          "name": "stdout"
        },
        {
          "output_type": "execute_result",
          "data": {
            "image/png": "[encoded data removed]",
            "text/plain": [
              "Tree('S', [('My', 'PRP$'), ('name', 'NN'), ('is', 'VBZ'), Tree('PERSON', [('Alvin', 'NNP')]), ('Chiew.', 'NNP'), ('I', 'PRP'), ('work', 'VBP'), ('at', 'IN'), Tree('ORGANIZATION', [('Naluri', 'NNP')]), ('in', 'IN'), Tree('GPE', [('Malaysia', 'NNP')]), ('and', 'CC'), ('my', 'PRP$'), ('life', 'NN'), ('is', 'VBZ'), ('awesome!', 'JJ')])"
            ]
          },
          "metadata": {
            "tags": []
          },
          "execution_count": 45
        }
      ]
    },
    {
      "cell_type": "code",
      "metadata": {
        "id": "BZfinrDJx1mW"
      },
      "source": [
        ""
      ],
      "execution_count": null,
      "outputs": []
    }
  ]
}